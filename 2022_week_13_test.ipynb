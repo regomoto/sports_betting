{
 "cells": [
  {
   "cell_type": "markdown",
   "metadata": {
    "tags": []
   },
   "source": [
    "# CFB Week 13\n",
    "Methods Testing"
   ]
  },
  {
   "cell_type": "markdown",
   "metadata": {
    "tags": []
   },
   "source": [
    "### <font color='orange'>UPDATE COLLEGE FOOTBALL WEEK NUMBER HERE</font>\n",
    "Cell below contains week number and year for filtering API data. \n",
    "\n",
    "sat_day_num is used for getting the day of the month for this week's football games since don't want to bet on Thursday or Friday games\n",
    "\n",
    "df_name_prefix is how the file names for exported dataframes will be stored as so it is easy to know what I am looking at before opening and for sorting later"
   ]
  },
  {
   "cell_type": "code",
   "execution_count": 1,
   "metadata": {},
   "outputs": [],
   "source": [
    "year_num = 2022\n",
    "week_num = 13\n",
    "sat_day_num = 26\n",
    "df_name_prefix = 'cfb.' + str(year_num) + '.' + str(week_num)"
   ]
  },
  {
   "cell_type": "markdown",
   "metadata": {
    "tags": []
   },
   "source": [
    "### Import libraries"
   ]
  },
  {
   "cell_type": "code",
   "execution_count": 2,
   "metadata": {},
   "outputs": [],
   "source": [
    "import pandas as pd\n",
    "import requests\n",
    "import json\n",
    "import os\n",
    "import numpy as np\n",
    "from bs4 import BeautifulSoup\n",
    "import config"
   ]
  },
  {
   "cell_type": "code",
   "execution_count": 3,
   "metadata": {},
   "outputs": [],
   "source": [
    "# cfbd imports\n",
    "from __future__ import print_function\n",
    "import time\n",
    "import cfbd\n",
    "from cfbd.rest import ApiException\n",
    "from pprint import pprint"
   ]
  },
  {
   "cell_type": "code",
   "execution_count": 4,
   "metadata": {},
   "outputs": [],
   "source": [
    "# import custom formulas\n",
    "from cfbd_transform import betting_api_dataframe\n",
    "from equations import parlay_multiplier, amer_odds_to_prob, amer_odds_to_decimal"
   ]
  },
  {
   "cell_type": "markdown",
   "metadata": {
    "tags": []
   },
   "source": [
    "### Set up environment"
   ]
  },
  {
   "cell_type": "code",
   "execution_count": 5,
   "metadata": {},
   "outputs": [],
   "source": [
    "# set env variable. need to fill in own\n",
    "os.environ['api_key'] = config.api_key"
   ]
  },
  {
   "cell_type": "code",
   "execution_count": 6,
   "metadata": {},
   "outputs": [],
   "source": [
    "# Configure API key authorization: ApiKeyAuth\n",
    "configuration = cfbd.Configuration()\n",
    "configuration.api_key['Authorization'] = os.getenv('api_key')\n",
    "configuration.api_key_prefix['Authorization'] = 'Bearer'"
   ]
  },
  {
   "cell_type": "markdown",
   "metadata": {
    "tags": []
   },
   "source": [
    "## Import and Transform Data"
   ]
  },
  {
   "cell_type": "markdown",
   "metadata": {
    "jp-MarkdownHeadingCollapsed": true,
    "tags": []
   },
   "source": [
    "### Import Rankings"
   ]
  },
  {
   "cell_type": "code",
   "execution_count": 7,
   "metadata": {
    "tags": []
   },
   "outputs": [],
   "source": [
    "# getting FBS ranking\n",
    "rankings_api = cfbd.RankingsApi(cfbd.ApiClient(configuration))\n",
    "rankings_api_response = rankings_api.get_rankings(year = year_num, \\\n",
    "                                                  week = week_num, \\\n",
    "                                                  season_type='regular')\n",
    "\n",
    "# save result into dataframe/ convert from json\n",
    "rankings_df = pd.DataFrame.from_records([t.to_dict() for t in rankings_api_response])\n",
    "\n",
    "# save as dataframe in better formatting\n",
    "rankings_df = pd.DataFrame.from_dict(rankings_df['polls'][0])\n",
    "\n",
    "# excluding polls for FCS and levels below that\n",
    "poll_exclude = ['FCS Coaches Poll','AFCA Division II Coaches Poll','AFCA Division III Coaches Poll']\n",
    "rankings_df = rankings_df[~rankings_df['poll'].isin(poll_exclude)]\n",
    "\n",
    "# coaches poll\n",
    "poll = 'Coaches Poll'\n",
    "index_num = rankings_df[rankings_df['poll']==poll].index[0]\n",
    "coaches_poll_df = pd.DataFrame(rankings_df[rankings_df['poll']==poll]['ranks'][index_num])\n",
    "coaches_poll_df['poll_name'] = poll\n",
    "\n",
    "# AP Top 25 poll\n",
    "poll = 'AP Top 25'\n",
    "index_num = rankings_df[rankings_df['poll']==poll].index[0]\n",
    "ap_poll_df = pd.DataFrame(rankings_df[rankings_df['poll']==poll]['ranks'][index_num])\n",
    "ap_poll_df['poll_name'] = poll"
   ]
  },
  {
   "cell_type": "markdown",
   "metadata": {
    "jp-MarkdownHeadingCollapsed": true,
    "tags": []
   },
   "source": [
    "### Import Team Records"
   ]
  },
  {
   "cell_type": "code",
   "execution_count": 8,
   "metadata": {},
   "outputs": [],
   "source": [
    "# getting FBS ranking\n",
    "rankings_api = cfbd.RankingsApi(cfbd.ApiClient(configuration))\n",
    "rankings_api_response = rankings_api.get_rankings(year = year_num, \\\n",
    "                                                  week = week_num, \\\n",
    "                                                  season_type='regular')"
   ]
  },
  {
   "cell_type": "code",
   "execution_count": 9,
   "metadata": {},
   "outputs": [],
   "source": [
    "# get team win loss records\n",
    "games_api = cfbd.GamesApi(cfbd.ApiClient(configuration))\n",
    "games_api_response = games_api.get_team_records(year = year_num)\n",
    "\n",
    "team_record_df = pd.DataFrame.from_records([g.to_dict() for g in games_api_response])"
   ]
  },
  {
   "cell_type": "code",
   "execution_count": 10,
   "metadata": {},
   "outputs": [],
   "source": [
    "# parse toal win loss column\n",
    "win_loss = []\n",
    "for i in team_record_df['total'].apply(pd.Series).columns.values:\n",
    "    win_loss.append('total_'+i)\n",
    "    \n",
    "total_win_loss_df = team_record_df['total'].apply(pd.Series)\n",
    "total_win_loss_df.columns = win_loss\n",
    "\n",
    "# append to original dataframe\n",
    "team_record_df = team_record_df.merge(total_win_loss_df, left_index=True, right_index=True).drop(columns=['total'])"
   ]
  },
  {
   "cell_type": "code",
   "execution_count": 11,
   "metadata": {},
   "outputs": [],
   "source": [
    "# make a W-L text field\n",
    "team_record_df['win_loss'] = team_record_df['total_wins'].astype(str) + '-' + \\\n",
    "    team_record_df['total_losses'].astype(str) + '-' + team_record_df['total_ties'].astype(str)"
   ]
  },
  {
   "cell_type": "code",
   "execution_count": 12,
   "metadata": {
    "tags": []
   },
   "outputs": [],
   "source": [
    "# home win %\n",
    "home_win_perc = team_record_df['home_games'].apply(pd.Series)[['games','wins']]\n",
    "home_win_perc['home_win_%'] = round((home_win_perc['wins'] / home_win_perc['games'])*100, 2)\n",
    "\n",
    "# append to original dataframe\n",
    "team_record_df = team_record_df.merge(home_win_perc['home_win_%'], left_index=True, right_index=True)#.drop(columns=['home_games'])\n"
   ]
  },
  {
   "cell_type": "code",
   "execution_count": 13,
   "metadata": {},
   "outputs": [],
   "source": [
    "# road win %\n",
    "away_win_perc = team_record_df['away_games'].apply(pd.Series)[['games','wins']]\n",
    "away_win_perc['away_win_%'] = round((away_win_perc['wins'] / away_win_perc['games'])*100, 2)\n",
    "\n",
    "# append to original dataframe\n",
    "team_record_df = team_record_df.merge(away_win_perc['away_win_%'], left_index=True, right_index=True)#.drop(columns=['away_games'])\n"
   ]
  },
  {
   "cell_type": "code",
   "execution_count": 14,
   "metadata": {},
   "outputs": [],
   "source": [
    "col_list = ['team', 'conference','win_loss','home_win_%','away_win_%','expected_wins']\n",
    "team_record_df = team_record_df[col_list]"
   ]
  },
  {
   "cell_type": "code",
   "execution_count": 15,
   "metadata": {
    "tags": []
   },
   "outputs": [],
   "source": [
    "# add ap poll inf to team record dataset\n",
    "team_record_df_v2 = pd.merge(team_record_df, ap_poll_df[['school', 'rank', 'first_place_votes', 'points']], \\\n",
    "         how = 'left', left_on = 'team', right_on='school')\n",
    "team_record_df_v2 = team_record_df_v2.rename(columns = {'rank': 'rank_ap', \n",
    "             'first_place_votes': 'first_place_votes_ap', \n",
    "             'points': 'points_ap'})\n",
    "team_record_df_v2.drop(columns='school', inplace = True)"
   ]
  },
  {
   "cell_type": "code",
   "execution_count": 16,
   "metadata": {},
   "outputs": [],
   "source": [
    "# add coaches poll info to team record dataset\n",
    "team_record_df_v3 = pd.merge(team_record_df_v2, coaches_poll_df[['school', 'rank', 'first_place_votes', 'points']], \\\n",
    "         how = 'left', left_on = 'team', right_on='school')\n",
    "team_record_df_v3 = team_record_df_v3.rename(columns = {'rank': 'rank_coaches', \n",
    "             'first_place_votes': 'first_place_votes_coaches', \n",
    "             'points': 'points_coaches'})\n",
    "team_record_df_v3.drop(columns='school', inplace = True)"
   ]
  },
  {
   "cell_type": "code",
   "execution_count": 17,
   "metadata": {},
   "outputs": [],
   "source": [
    "team_record_df_v4 = team_record_df_v3.fillna('')"
   ]
  },
  {
   "cell_type": "markdown",
   "metadata": {
    "jp-MarkdownHeadingCollapsed": true,
    "tags": []
   },
   "source": [
    "### Import ELO"
   ]
  },
  {
   "cell_type": "code",
   "execution_count": 18,
   "metadata": {},
   "outputs": [],
   "source": [
    "ratings_api = cfbd.RatingsApi(cfbd.ApiClient(configuration))\n",
    "\n",
    "elo_api_response = ratings_api.get_elo_ratings(year = year_num)"
   ]
  },
  {
   "cell_type": "code",
   "execution_count": 19,
   "metadata": {},
   "outputs": [],
   "source": [
    "elo_df = pd.DataFrame.from_records([t.to_dict() for t in elo_api_response])"
   ]
  },
  {
   "cell_type": "markdown",
   "metadata": {
    "jp-MarkdownHeadingCollapsed": true,
    "tags": []
   },
   "source": [
    "### Import Week 8 betting information and transform data\n",
    "\n",
    "1) Create an instance of betting API\n",
    "2) Create a start time column that parses the start date column\n",
    "2) Filter for Sat games only if needed\n",
    "3) Filter out Washington schools for now (change if in Vegas)\n",
    "4) Add win loss\n",
    "5) Add media info to see where to watch\n",
    "6) Add poll info\n",
    "7) Add in conference marker\n",
    "8) Merge ELO ratings"
   ]
  },
  {
   "cell_type": "code",
   "execution_count": 20,
   "metadata": {},
   "outputs": [],
   "source": [
    "# use cfbd_transform function\n",
    "betting_df = betting_api_dataframe(configuration = configuration, \\\n",
    "                     week = week_num, \\\n",
    "                     year = year_num)"
   ]
  },
  {
   "cell_type": "code",
   "execution_count": 21,
   "metadata": {},
   "outputs": [],
   "source": [
    "# create a start_time column\n",
    "betting_df['start_time'] = betting_df['start_date'].dt.time"
   ]
  },
  {
   "cell_type": "code",
   "execution_count": 22,
   "metadata": {},
   "outputs": [],
   "source": [
    "# for this week, only want to look at Saturday games\n",
    "betting_df = betting_df[betting_df['start_date'].dt.day==sat_day_num]"
   ]
  },
  {
   "cell_type": "code",
   "execution_count": 23,
   "metadata": {},
   "outputs": [],
   "source": [
    "# filter out Washington schools\n",
    "# hard coded for now. may want to pull in from API\n",
    "# save school names in WA\n",
    "wa_schools_list = ['Washington', 'Washington State']\n",
    "\n",
    "# filter out WA schools\n",
    "betting_df = betting_df[(~betting_df['home_team'].isin(wa_schools_list)) & \\\n",
    "                         (~betting_df['away_team'].isin(wa_schools_list))]"
   ]
  },
  {
   "cell_type": "code",
   "execution_count": 24,
   "metadata": {
    "tags": []
   },
   "outputs": [],
   "source": [
    "# add W-L info to betting dataframe\n",
    "\n",
    "# first do home team\n",
    "# rename win_loss to win_loss_home\n",
    "\n",
    "# drop team column\n",
    "home_team_cols = ['team','win_loss','home_win_%']\n",
    "betting_df = pd.merge(betting_df, team_record_df_v4[home_team_cols], \\\n",
    "                      how = 'left',\\\n",
    "                      left_on = 'home_team',\\\n",
    "                      right_on='team').drop(columns=['team']).rename(columns={'win_loss':'win_loss_home'})\n",
    "\n",
    "\n",
    "\n",
    "# then do away team\n",
    "away_team_cols = ['team','win_loss','away_win_%']\n",
    "betting_df = pd.merge(betting_df, team_record_df_v4[away_team_cols], \\\n",
    "                      how = 'left', \\\n",
    "                      left_on = 'away_team', \\\n",
    "                      right_on='team').drop(columns=['team']).rename(columns={'win_loss':'win_loss_away'})"
   ]
  },
  {
   "cell_type": "code",
   "execution_count": 25,
   "metadata": {},
   "outputs": [],
   "source": [
    "# get media information for this week\n",
    "media = games_api.get_game_media(year = year_num, week = week_num, classification = 'fbs')\n",
    "media_df = pd.DataFrame.from_records([i.to_dict() for i in media])\n",
    "# join with betting dataframe\n",
    "betting_df = pd.merge(betting_df, media_df[['id','outlet']], how='left', left_on ='id', right_on='id')"
   ]
  },
  {
   "cell_type": "code",
   "execution_count": 26,
   "metadata": {
    "tags": []
   },
   "outputs": [],
   "source": [
    "# add poll info to betting dataframe\n",
    "# first do home team\n",
    "\n",
    "# ap poll\n",
    "home_team_cols = ['school', 'rank']\n",
    "betting_df = pd.merge(betting_df, ap_poll_df[home_team_cols], \\\n",
    "         how = 'left',\\\n",
    "         left_on = 'home_team',\\\n",
    "         right_on='school').drop(columns=['school']).rename(columns={'rank':'ap_rank_home'}).fillna('')\n",
    "\n",
    "# coaches poll\n",
    "home_team_cols = ['school', 'rank']\n",
    "betting_df = pd.merge(betting_df, coaches_poll_df[home_team_cols], \\\n",
    "         how = 'left',\\\n",
    "         left_on = 'home_team',\\\n",
    "         right_on='school').drop(columns=['school']).rename(columns={'rank':'coaches_rank_home'}).fillna('')"
   ]
  },
  {
   "cell_type": "code",
   "execution_count": 27,
   "metadata": {},
   "outputs": [],
   "source": [
    "# add poll info to betting dataframe\n",
    "# now away team\n",
    "\n",
    "# ap poll\n",
    "away_team_cols = ['school', 'rank']\n",
    "betting_df = pd.merge(betting_df, ap_poll_df[away_team_cols], \\\n",
    "         how = 'left',\\\n",
    "         left_on = 'away_team',\\\n",
    "         right_on='school').drop(columns=['school']).rename(columns={'rank':'ap_rank_away'}).fillna('')\n",
    "\n",
    "# coaches poll\n",
    "home_team_cols = ['school', 'rank']\n",
    "betting_df = pd.merge(betting_df, coaches_poll_df[away_team_cols], \\\n",
    "         how = 'left',\\\n",
    "         left_on = 'away_team',\\\n",
    "         right_on='school').drop(columns=['school']).rename(columns={'rank':'coaches_rank_away'}).fillna('')"
   ]
  },
  {
   "cell_type": "code",
   "execution_count": 28,
   "metadata": {},
   "outputs": [],
   "source": [
    "'''\n",
    "values:\n",
    "1 = in conference game\n",
    "0 = out of conference game\n",
    "Nan = two independent schools are playing\n",
    "'''\n",
    "\n",
    "def in_conference (df):\n",
    "    if (df['home_conference'] == 'FBS Independents') & (df['away_conference'] == 'FBS Independents'):\n",
    "        return np.nan\n",
    "    elif df['home_conference'] == df['away_conference']:\n",
    "        return 1\n",
    "    else:\n",
    "        return 0\n",
    "betting_df['is_in_conference'] = betting_df.apply(in_conference, axis=1)"
   ]
  },
  {
   "cell_type": "code",
   "execution_count": 29,
   "metadata": {},
   "outputs": [],
   "source": [
    "# add elo ratings for away teams\n",
    "betting_df = pd.merge(betting_df, elo_df[['team','elo']], left_on='away_team', right_on='team', how='left')\n",
    "betting_df = betting_df.rename(columns={'elo':'elo_away'})"
   ]
  },
  {
   "cell_type": "code",
   "execution_count": 30,
   "metadata": {},
   "outputs": [],
   "source": [
    "# add elo for home teams\n",
    "betting_df = pd.merge(betting_df, elo_df[['team','elo']], left_on='home_team', right_on='team', how='left')\n",
    "betting_df = betting_df.rename(columns={'elo':'elo_home'})"
   ]
  },
  {
   "cell_type": "code",
   "execution_count": 31,
   "metadata": {},
   "outputs": [],
   "source": [
    "# functions for calculating win probability from elo\n",
    "def get_away_elo(row):\n",
    "    exp = (row['elo_home'] - row['elo_away']) / 400\n",
    "    return 1 / (1 + 10**exp)\n",
    "\n",
    "def get_home_elo(row):\n",
    "    exp = (row['elo_away'] - row['elo_home']) / 400\n",
    "    return 1 / (1 + 10**exp)"
   ]
  },
  {
   "cell_type": "code",
   "execution_count": 32,
   "metadata": {},
   "outputs": [],
   "source": [
    "elo_cols = ['home_team','away_team']\n",
    "betting_df['away_elo_prob'] = betting_df.apply(get_away_elo, axis = 1)\n",
    "betting_df['home_elo_prob'] = betting_df.apply(get_home_elo, axis = 1)"
   ]
  },
  {
   "cell_type": "markdown",
   "metadata": {
    "tags": []
   },
   "source": [
    "### Export raw transformed data"
   ]
  },
  {
   "cell_type": "code",
   "execution_count": 33,
   "metadata": {},
   "outputs": [],
   "source": [
    "# export dataframe to csv\n",
    "betting_df.to_csv('./output/' + df_name_prefix + '.raw.csv', index = False)"
   ]
  },
  {
   "cell_type": "markdown",
   "metadata": {
    "tags": []
   },
   "source": [
    "## Bet Maker\n",
    "<b>Process:</b> \n",
    "\n",
    "*Note: Only moneylines will be used in parlay. Spread and O/U are more unpredictable in my opinion. \n",
    "1. Get games where the home team is an underdog, but the spread is less than 7.5 (can change this cutoff later if needed). Don't want a massive underdog with no chance of winning. For example, if Georgia plays @ Ohio, it is very unlikely and is not a good candidate to include in the parlay / I would never bet moneyline for that.\n",
    "    - Home field advantage is important in CFB, and I think it is a bigger influence on the outcome of the game than oddsmakers are including in their models\n",
    "2. Save the initial home underdog dataframe as a csv. Upload to Google Drive\n",
    "3. Review the initial home underdog output and make cuts. Do this by adding the home team name to the list in the cell below\n",
    "4. Output the new dataframe as a CSV and upload to Google Drive. Can do a little more digging for matchups and also find games to exclude. If need to exlcude repeat step 3 and add it to the cut list\n",
    "    - Example: Houston @ Navy 10/22/2022: Didn't like that one since I was sure Houston was going to win. Never sure how a team will play against triple option since not a lot of datapoints for it\n",
    "4. Input"
   ]
  },
  {
   "cell_type": "markdown",
   "metadata": {
    "tags": []
   },
   "source": [
    "### Casesars & ESPN Scraping\n",
    "Try to add caesars odds by scraping:\n",
    "- ESPN url format for games using game ID: https://www.espn.com/college-football/game?gameId=401411146\n",
    "- Moneyline is only available pre-game. Spread and O/U still available postgame\n",
    "- Can also pull in other information like matchup predictor (win prob %), numberFire, SPread cosensu pick, teamrankings, ATS\n",
    "\n",
    "Steps:\n",
    "1. Get game id's from cfdb data\n",
    "2. use game id's to make a list of urls\n",
    "3. for loop through list to get betting information from espn and win %"
   ]
  },
  {
   "cell_type": "code",
   "execution_count": 34,
   "metadata": {},
   "outputs": [],
   "source": [
    "# get game IDs from betting_df\n",
    "game_id_list = betting_df['id'].to_list()"
   ]
  },
  {
   "cell_type": "code",
   "execution_count": 35,
   "metadata": {},
   "outputs": [],
   "source": [
    "# get urls using game id's\n",
    "url_list= []\n",
    "for i in game_id_list:\n",
    "    url_list.append('https://www.espn.com/college-football/game?gameId=' \\\n",
    "                    + str(i))"
   ]
  },
  {
   "cell_type": "code",
   "execution_count": 36,
   "metadata": {
    "tags": []
   },
   "outputs": [],
   "source": [
    "# create lists to store home spread, home moneyline, away spread, and away moneyline\n",
    "home_spread_list = []\n",
    "home_moneyline_list = []\n",
    "away_spread_list = []\n",
    "away_moneyline_list = []\n",
    "home_espn_win_perc_list = []\n",
    "away_espn_win_perc_list = []\n",
    "\n",
    "for i in url_list:    \n",
    "    # create beautiful soup object for i\n",
    "    page = requests.get(i)\n",
    "    soup = BeautifulSoup(page.content, \"html.parser\")\n",
    "    # use the beautiful soup object to parse\n",
    "    results = soup.find(id='gamepackage-pick-center')\n",
    "    # find home team data and add to lists\n",
    "    # home team data\n",
    "    home_data = results.find_all('tr', class_='hometeam')\n",
    "    for i in home_data:\n",
    "        for count, x in enumerate(i.find_all('td', class_='score')):\n",
    "            if count == 2:\n",
    "                if (x.text.strip().replace(',','').replace('+','') == '--'):\n",
    "                    home_spread = np.nan\n",
    "                    home_spread_list.append(np.nan)\n",
    "                elif x.text.strip().replace(',','').replace('+','') == 'EVEN':\n",
    "                    home_spread = 0\n",
    "                    home_spread_list.append(home_spread)\n",
    "                else:\n",
    "                    home_spread = float(x.text.strip().replace(',','').replace('+',''))\n",
    "                    home_spread_list.append(home_spread)\n",
    "            if count == 3:\n",
    "                if x.text.strip().replace(',','').replace('+','') == '--':\n",
    "                    home_moneyline_list.append(np.nan)\n",
    "                else:\n",
    "                    home_moneylne = int(x.text.strip().replace(',','').replace('+',''))\n",
    "                    home_moneyline_list.append(home_moneylne)\n",
    "        \n",
    "        home_espn_win_perc_list.append(float(soup.find('span','value-home').text.replace('%', ''))/100)\n",
    "            \n",
    "    # find away team data and add to lists\n",
    "    # away content has the consensus picker data, so need to increase list indexes by 1\n",
    "    away_data = results.find_all('tr', class_='awayteam')\n",
    "    for i in away_data:\n",
    "        for count, x in enumerate(i.find_all('td', class_='score')):\n",
    "            if count == 3:\n",
    "                if x.text.strip().replace(',','').replace('+','') == '--':\n",
    "                    away_spread_list.append(np.nan)\n",
    "                elif x.text.strip().replace(',','').replace('+','') == 'EVEN':\n",
    "                    away_spread_list.append(0)\n",
    "                else:\n",
    "                    away_spread = float(x.text.strip().replace(',','').replace('+',''))\n",
    "                    away_spread_list.append(away_spread)            \n",
    "            if count == 4:\n",
    "                if x.text.strip().replace(',','').replace('+','') == '--':\n",
    "                    away_moneyline_list.append(np.nan)\n",
    "                else:\n",
    "                    away_moneylne = int(x.text.strip().replace(',','').replace('+',''))\n",
    "                    away_moneyline_list.append(away_moneylne)\n",
    "        away_espn_win_perc_list.append(float(soup.find('span','value-away').text.replace('%', ''))/100)"
   ]
  },
  {
   "cell_type": "code",
   "execution_count": 37,
   "metadata": {},
   "outputs": [],
   "source": [
    "caesars_df = pd.DataFrame(list(zip(game_id_list, home_spread_list, home_moneyline_list, away_spread_list, \\\n",
    "                                   away_moneyline_list, home_espn_win_perc_list, away_espn_win_perc_list)), \\\n",
    "             columns = ['game_id','home_spread_caesars','home_moneyline_caesars',\\\n",
    "                        'away_spread_caesars','away_moneyline_caesars','home_win_prob_espn','away_win_prob_espn'])"
   ]
  },
  {
   "cell_type": "code",
   "execution_count": 38,
   "metadata": {},
   "outputs": [],
   "source": [
    "caesars_df['home_moneyline_caesars'] = caesars_df['home_moneyline_caesars'].fillna(0)\n",
    "caesars_df['away_moneyline_caesars'] = caesars_df['away_moneyline_caesars'].fillna(0)\n",
    "\n",
    "caesars_df['home_win_prob_caesars'] = caesars_df['home_moneyline_caesars'].apply(amer_odds_to_prob).round(7)\n",
    "caesars_df['away_win_prob_caesars'] = caesars_df['away_moneyline_caesars'].apply(amer_odds_to_prob).round(7)\n",
    "\n",
    "\n",
    "#caesars_df['away_win_prob_no_vig']\n",
    "\n",
    "# caesars vig\n",
    "caesars_df['vig_caesars'] = caesars_df['home_win_prob_caesars'] + caesars_df['away_win_prob_caesars'] - 1\n",
    "\n",
    "# implied probabilities less vig see:\n",
    "# https://www.actionnetwork.com/education/juice\n",
    "# Team A Implied Probability / (Team A IP + Team B IP)\n",
    "caesars_df['home_win_prob_no_vig_caesars'] = caesars_df['home_win_prob_caesars'] / (caesars_df['home_win_prob_caesars'] + \\\n",
    "                                                                caesars_df['away_win_prob_caesars'])\n",
    "caesars_df['away_win_prob_no_vig_caesars'] = caesars_df['away_win_prob_caesars'] / (caesars_df['away_win_prob_caesars'] + \\\n",
    "                                                                caesars_df['home_win_prob_caesars'])"
   ]
  },
  {
   "cell_type": "code",
   "execution_count": 39,
   "metadata": {},
   "outputs": [],
   "source": [
    "betting_df = pd.merge(betting_df, caesars_df, left_on='id', right_on='game_id', how='left')"
   ]
  },
  {
   "cell_type": "markdown",
   "metadata": {},
   "source": [
    "Get final probabilities and payouts:\n",
    "- If any in Caesars are blank or nan, use Bovada\n",
    "- If Bovada also blank or nan, exlude"
   ]
  },
  {
   "cell_type": "code",
   "execution_count": 40,
   "metadata": {},
   "outputs": [],
   "source": [
    "caesars_columns = ['id', 'home_moneyline_caesars', 'away_moneyline_caesars', 'home_spread_caesars']\n",
    "betting_df[caesars_columns]\n",
    "\n",
    "nan_spreads_caesars = betting_df[betting_df['home_spread_caesars'].isnull()].index.to_list()"
   ]
  },
  {
   "cell_type": "code",
   "execution_count": 41,
   "metadata": {
    "tags": []
   },
   "outputs": [],
   "source": [
    "betting_df['home_moneyline_final'] = np.NaN"
   ]
  },
  {
   "cell_type": "code",
   "execution_count": 42,
   "metadata": {},
   "outputs": [],
   "source": [
    "# create final moneyline and spread columns that first look at caesars values, and if none use bovada\n",
    "betting_df['home_moneyline_final'] = betting_df['home_moneyline_caesars'] \n",
    "betting_df['away_moneyline_final'] = betting_df['away_moneyline_caesars'] \n",
    "betting_df['home_spread_final'] = betting_df['home_spread_caesars'] \n",
    "\n",
    "# replace moneyline of 0 with NaN. This handles no moneyline at Caesars\n",
    "# then use fill na to get moneyline from bovada in the cells where there are nulls\n",
    "# all moneylines should be filled. if both books don't have a value, the it will remain null\n",
    "betting_df['home_moneyline_final'] = betting_df['home_moneyline_final'].replace(0, np.nan)\n",
    "betting_df['home_moneyline_final'] = betting_df['home_moneyline_final'].fillna(betting_df['home_moneyline'])\n",
    "\n",
    "# repeat for away\n",
    "betting_df['away_moneyline_final'] = betting_df['away_moneyline_final'].replace(0, np.nan)\n",
    "betting_df['away_moneyline_final'] = betting_df['away_moneyline_final'].fillna(betting_df['away_moneyline'])\n",
    "\n",
    "# do spread\n",
    "betting_df['home_spread_final'] = betting_df['home_spread_final'].fillna(betting_df['spread'])"
   ]
  },
  {
   "cell_type": "code",
   "execution_count": 43,
   "metadata": {},
   "outputs": [],
   "source": [
    "# calculate win probs based on moneyline odds\n",
    "betting_df['home_moneyline_final_temp'] = betting_df['home_moneyline_final'].fillna(0)\n",
    "betting_df['away_moneyline_final_temp'] = betting_df['away_moneyline_final'].fillna(0)\n",
    "\n",
    "betting_df['home_win_prob_final'] = betting_df['home_moneyline_final_temp'].apply(amer_odds_to_prob).round(7)\n",
    "betting_df['away_win_prob_final'] = betting_df['away_moneyline_final_temp'].apply(amer_odds_to_prob).round(7)\n",
    "\n",
    "\n",
    "#caesars_df['away_win_prob_no_vig']\n",
    "\n",
    "# caesars vig\n",
    "betting_df['vig_final'] = betting_df['home_win_prob_final'] + betting_df['away_win_prob_final'] - 1\n",
    "\n",
    "# implied probabilities less vig see:\n",
    "# https://www.actionnetwork.com/education/juice\n",
    "# Team A Implied Probability / (Team A IP + Team B IP)\n",
    "betting_df['home_win_prob_no_vig_final'] = betting_df['home_win_prob_final'] / (betting_df['home_win_prob_final'] + \\\n",
    "                                                                betting_df['away_win_prob_caesars'])\n",
    "betting_df['away_win_prob_no_vig_final'] = betting_df['away_win_prob_final'] / (betting_df['away_win_prob_final'] + \\\n",
    "                                                                betting_df['home_win_prob_final'])\n",
    "\n",
    "\n",
    "betting_df.drop(columns=['home_moneyline_final_temp', 'away_moneyline_final_temp'], axis = 1, inplace=True)"
   ]
  },
  {
   "cell_type": "markdown",
   "metadata": {
    "jp-MarkdownHeadingCollapsed": true,
    "tags": []
   },
   "source": [
    "### Incorporate SP+ Data\n",
    "https://www.sbnation.com/college-football/2017/10/13/16457830/college-football-advanced-stats-analytics-rankings\n",
    "\n",
    "Google Sheets link with SP+ data: https://docs.google.com/spreadsheets/d/1llrN8luL0XWuP8Y-Pb1NXKU84JhXLeUPafy1RfITEDw/edit#gid=1482720576\n",
    "\n",
    "\n",
    "This link has SP+ and other models:\n",
    "https://www.ourdailybears.com/baylor-bears-football/2022/8/1/23271366/predictive-statistics-in-cfb-primer\n",
    "\n",
    "\n",
    "Note: SP+ has some different naming conventions. See cell below for differences"
   ]
  },
  {
   "cell_type": "markdown",
   "metadata": {
    "tags": []
   },
   "source": [
    "- Miami\n",
    "    - College Football Data = Miami\n",
    "    - SP+ = Miami-FL\n",
    "- Southern Miss\n",
    "    - College Football Data = Southern Miss\n",
    "    - SP+ = Southern Miss\n",
    "- Louisiana Monroe\n",
    "    - College Football Data = Louisiana Monroe\n",
    "    - SP+ = UL-Monroe\n",
    "- Louisiana\n",
    "    - College Football Data = Louisiana\n",
    "    - SP+ =  UL-Lafayette\n",
    "- San José State\n",
    "    - College Football Data = San José State\n",
    "    - SP+ = San Jose State\n",
    "- UMass\n",
    "    - College Football Data = UMass\n",
    "    - SP+ = Massachusetts\n",
    "- South Florida\n",
    "    - College Football Data = South Florida\n",
    "    - SP+ = USF\n",
    "- UT San Antonio\n",
    "    - College Football Data = UT San Antonio\n",
    "    - SP+ = UTSA\n",
    "- Hawai'i\n",
    "    - College Football Data = Hawai'i\n",
    "    - SP+ = Hawaii"
   ]
  },
  {
   "cell_type": "code",
   "execution_count": 44,
   "metadata": {
    "tags": []
   },
   "outputs": [
    {
     "data": {
      "text/plain": [
       "0"
      ]
     },
     "execution_count": 44,
     "metadata": {},
     "output_type": "execute_result"
    }
   ],
   "source": [
    "sp_name = './input/2022 SP+ - Week ' + str(week_num) + ' FBS.csv'\n",
    "sp_plus_df = pd.read_csv(sp_name)\n",
    "\n",
    "# some values have ' vs. ' some have ' at '. replace vs. with at since had issues with doing two replaces\n",
    "sp_plus_df['Game_v2'] = sp_plus_df['Game']\n",
    "sp_plus_df['Game_v2'] = sp_plus_df['Game_v2'].str.replace(' vs. ', ' at ', regex = False)\n",
    "sp_plus_df['Game_v2'] = sp_plus_df['Game_v2'].str.split(' at ')\n",
    "\n",
    "# put home and away into own columns\n",
    "sp_plus_df[['away_team_sp','home_team_sp']] = pd.DataFrame(sp_plus_df['Game_v2'].tolist(), index= sp_plus_df.index)\n",
    "\n",
    "# convert win probability to float\n",
    "sp_plus_df['win_prob_float'] = pd.to_numeric(sp_plus_df['Win prob.'].str.strip('%'))\n",
    "\n",
    "\n",
    "# get home win probabilities based on the 'Proj. winner' column and win probability column\n",
    "home_win_prob = []\n",
    "for count, i in enumerate(sp_plus_df['home_team_sp'] == sp_plus_df['Proj. winner']):\n",
    "    if i == True:\n",
    "        home_win_prob.append(sp_plus_df.loc[count,'win_prob_float']/100)\n",
    "    elif i == False:\n",
    "        home_win_prob.append((100 - sp_plus_df.loc[count,'win_prob_float'])/100)\n",
    "sp_plus_df['home_win_prob_sp'] = home_win_prob\n",
    "\n",
    "# get away win probability\n",
    "away_win_prob = [(1-i) for i in home_win_prob]\n",
    "sp_plus_df['away_win_prob_sp'] = away_win_prob\n",
    "\n",
    "# check probabilities equal 1. result should be 0\n",
    "sum((sp_plus_df['away_win_prob_sp'] + sp_plus_df['home_win_prob_sp']) != 1)"
   ]
  },
  {
   "cell_type": "code",
   "execution_count": 45,
   "metadata": {},
   "outputs": [
    {
     "data": {
      "text/plain": [
       "[\"Hawai'i\", 'Southern Mississippi', 'Louisiana']"
      ]
     },
     "execution_count": 45,
     "metadata": {},
     "output_type": "execute_result"
    }
   ],
   "source": [
    "# try a join on home teams find naming anomolies\n",
    "test_merge_df = pd.merge(betting_df, sp_plus_df, left_on='away_team', right_on='away_team_sp', how='left')\n",
    "test_merge_df[test_merge_df['away_team_sp'].isnull()]['away_team'].to_list()"
   ]
  },
  {
   "cell_type": "code",
   "execution_count": 46,
   "metadata": {},
   "outputs": [
    {
     "data": {
      "text/plain": [
       "['UMass',\n",
       " 'UT San Antonio',\n",
       " 'San José State',\n",
       " 'Louisiana Monroe',\n",
       " 'South Florida',\n",
       " 'Miami']"
      ]
     },
     "execution_count": 46,
     "metadata": {},
     "output_type": "execute_result"
    }
   ],
   "source": [
    "# try a join on away teams find naming anomolies\n",
    "test_merge_df = pd.merge(betting_df, sp_plus_df, left_on='home_team', right_on='home_team_sp', how='left')\n",
    "test_merge_df[test_merge_df['home_team_sp'].isnull()]['home_team'].to_list()"
   ]
  },
  {
   "cell_type": "code",
   "execution_count": 47,
   "metadata": {},
   "outputs": [],
   "source": [
    "# make dict for naming conventions\n",
    "sp_rename_dict = {'Miami-FL':'Miami',\n",
    "                 'Southern Miss':'Southern Mississippi',\n",
    "                 'UL-Monroe':'Louisiana Monroe',\n",
    "                 'UL-Lafayette':'Louisiana',\n",
    "                 'San Jose State':'San José State',\n",
    "                 'Massachusetts':'UMass',\n",
    "                 'USF':'South Florida',\n",
    "                 'UTSA':'UT San Antonio',\n",
    "                 'Hawaii':'Hawai\\'i',\n",
    "                 'UConn': 'Connecticut'}"
   ]
  },
  {
   "cell_type": "code",
   "execution_count": 48,
   "metadata": {},
   "outputs": [],
   "source": [
    "# rename home teams from SP+\n",
    "new_home_name_list = []\n",
    "for i in sp_plus_df['home_team_sp']:\n",
    "    if i in sp_rename_dict:\n",
    "        new_home_name_list.append(sp_rename_dict[i])\n",
    "    else:\n",
    "        new_home_name_list.append(i)\n",
    "\n",
    "# rename home teams from SP+\n",
    "new_away_name_list = []\n",
    "for i in sp_plus_df['away_team_sp']:\n",
    "    if i in sp_rename_dict:\n",
    "        new_away_name_list.append(sp_rename_dict[i])\n",
    "    else:\n",
    "        new_away_name_list.append(i)"
   ]
  },
  {
   "cell_type": "code",
   "execution_count": 49,
   "metadata": {},
   "outputs": [],
   "source": [
    "sp_plus_df['away_team_sp_v2'] = new_away_name_list\n",
    "sp_plus_df['home_team_sp_v2'] = new_home_name_list"
   ]
  },
  {
   "cell_type": "code",
   "execution_count": 50,
   "metadata": {
    "tags": []
   },
   "outputs": [],
   "source": [
    "# get certain columns for joining\n",
    "sp_cols = ['Game','away_team_sp_v2','home_team_sp_v2','home_win_prob_sp','away_win_prob_sp','Proj. margin','Proj. winner']"
   ]
  },
  {
   "cell_type": "code",
   "execution_count": 51,
   "metadata": {
    "tags": []
   },
   "outputs": [],
   "source": [
    "test_merge_df = pd.merge(betting_df, sp_plus_df, left_on='away_team', right_on='away_team_sp_v2', how='left')"
   ]
  },
  {
   "cell_type": "code",
   "execution_count": 52,
   "metadata": {},
   "outputs": [
    {
     "data": {
      "text/plain": [
       "0"
      ]
     },
     "execution_count": 52,
     "metadata": {},
     "output_type": "execute_result"
    }
   ],
   "source": [
    "# test if there are any naming anomolies left. should be 0\n",
    "len(test_merge_df[test_merge_df['away_team_sp'].isnull()]['away_team'].to_list())\n",
    "len(test_merge_df[test_merge_df['home_team_sp'].isnull()]['home_team'].to_list())"
   ]
  },
  {
   "cell_type": "code",
   "execution_count": 53,
   "metadata": {},
   "outputs": [],
   "source": [
    "betting_df = pd.merge(betting_df, sp_plus_df, left_on='away_team', right_on='away_team_sp_v2', how='left')"
   ]
  },
  {
   "cell_type": "code",
   "execution_count": 54,
   "metadata": {},
   "outputs": [],
   "source": [
    "# drop duplicates\n",
    "betting_df = betting_df.drop_duplicates(subset=['home_team', 'away_team'])\n",
    "\n",
    "# export to csv\n",
    "betting_df.to_csv('./output/'+ df_name_prefix  + 'raw.csv')"
   ]
  },
  {
   "cell_type": "markdown",
   "metadata": {
    "tags": []
   },
   "source": [
    "### Home Underdogs - Get teams to bet on if both ESPN and SP+ have good win probs for home team\n",
    "\n",
    "Want to see home win probabilities for ESPN and SP+ to be more than 5% over the implied win prob % and the spread to be less than 7 points for favored away team"
   ]
  },
  {
   "cell_type": "code",
   "execution_count": 55,
   "metadata": {},
   "outputs": [
    {
     "data": {
      "text/html": [
       "<div>\n",
       "<style scoped>\n",
       "    .dataframe tbody tr th:only-of-type {\n",
       "        vertical-align: middle;\n",
       "    }\n",
       "\n",
       "    .dataframe tbody tr th {\n",
       "        vertical-align: top;\n",
       "    }\n",
       "\n",
       "    .dataframe thead th {\n",
       "        text-align: right;\n",
       "    }\n",
       "</style>\n",
       "<table border=\"1\" class=\"dataframe\">\n",
       "  <thead>\n",
       "    <tr style=\"text-align: right;\">\n",
       "      <th></th>\n",
       "      <th>home_team</th>\n",
       "      <th>home_moneyline_final</th>\n",
       "      <th>home_spread_final</th>\n",
       "      <th>Proj. margin</th>\n",
       "      <th>home_win_prob_no_vig_final</th>\n",
       "      <th>home_win_prob_espn</th>\n",
       "      <th>home_win_prob_sp</th>\n",
       "      <th>home_elo_prob</th>\n",
       "      <th>win_loss_home</th>\n",
       "      <th>home_win_%</th>\n",
       "      <th>...</th>\n",
       "      <th>away_win_prob_no_vig_final</th>\n",
       "      <th>away_win_prob_espn</th>\n",
       "      <th>away_win_prob_sp</th>\n",
       "      <th>away_elo_prob</th>\n",
       "      <th>win_loss_away</th>\n",
       "      <th>away_win_%</th>\n",
       "      <th>ap_rank_away</th>\n",
       "      <th>coaches_rank_away</th>\n",
       "      <th>start_time</th>\n",
       "      <th>outlet</th>\n",
       "    </tr>\n",
       "  </thead>\n",
       "  <tbody>\n",
       "  </tbody>\n",
       "</table>\n",
       "<p>0 rows × 23 columns</p>\n",
       "</div>"
      ],
      "text/plain": [
       "Empty DataFrame\n",
       "Columns: [home_team, home_moneyline_final, home_spread_final, Proj. margin, home_win_prob_no_vig_final, home_win_prob_espn, home_win_prob_sp, home_elo_prob, win_loss_home, home_win_%, ap_rank_home, coaches_rank_home, away_team, away_win_prob_no_vig_final, away_win_prob_espn, away_win_prob_sp, away_elo_prob, win_loss_away, away_win_%, ap_rank_away, coaches_rank_away, start_time, outlet]\n",
       "Index: []\n",
       "\n",
       "[0 rows x 23 columns]"
      ]
     },
     "execution_count": 55,
     "metadata": {},
     "output_type": "execute_result"
    }
   ],
   "source": [
    "# where win prob for espn and sp greater than caesars implied win% by more than 5%\n",
    "# game is close and is a home underdog\n",
    "\n",
    "display_cols = ['home_team','home_moneyline_final', 'home_spread_final', 'Proj. margin', 'home_win_prob_no_vig_final', 'home_win_prob_espn',\\\n",
    "                'home_win_prob_sp', 'home_elo_prob', 'win_loss_home','home_win_%', 'ap_rank_home','coaches_rank_home','away_team','away_win_prob_no_vig_final', \\\n",
    "                'away_win_prob_espn', 'away_win_prob_sp', 'away_elo_prob', 'win_loss_away', 'away_win_%','ap_rank_away', 'coaches_rank_away', 'start_time', 'outlet']\n",
    "\n",
    "# spread to be under for chance to win\n",
    "spread_limit = 21\n",
    "\n",
    "# percentage difference\n",
    "perc_limit = 0\n",
    "\n",
    "# moneyline limits\n",
    "ml_limit_lo = -500\n",
    "ml_limit_hi = 500\n",
    "\n",
    "\n",
    "home_bets_df = betting_df[(betting_df['home_moneyline_final'] >= ml_limit_lo) &\\\n",
    "                          (betting_df['home_spread_final']<spread_limit)&\\\n",
    "                          # but need spread to be greater than 0 so is still underdog\n",
    "                          (betting_df['home_spread_final']>=0)&\\\n",
    "                          # win probabilities for ESPN and SP+ have to have to be greater than defined \n",
    "                          # (e.g. needs to be 5% more win probability than Caesars win prob\n",
    "                          ((betting_df['home_win_prob_espn'] - betting_df['home_win_prob_no_vig_final'] > perc_limit) & \\\n",
    "                           (betting_df['home_win_prob_sp'] - betting_df['home_win_prob_no_vig_final']> perc_limit))&\\\n",
    "                          # at least one of the three win probabilities are greater than 50%\n",
    "                          ((betting_df['home_win_prob_espn']>.5)|\\\n",
    "                           (betting_df['home_win_prob_sp']>.5)|\\\n",
    "                           (betting_df['home_elo_prob']>.5))][display_cols]\n",
    "\n",
    "home_bets_df"
   ]
  },
  {
   "cell_type": "markdown",
   "metadata": {
    "tags": []
   },
   "source": [
    "### Away Underdogs - Both ESPN and SP+ have good win probs. Either ESPN or SP+ to be greater than 50%"
   ]
  },
  {
   "cell_type": "code",
   "execution_count": 56,
   "metadata": {},
   "outputs": [
    {
     "data": {
      "text/html": [
       "<div>\n",
       "<style scoped>\n",
       "    .dataframe tbody tr th:only-of-type {\n",
       "        vertical-align: middle;\n",
       "    }\n",
       "\n",
       "    .dataframe tbody tr th {\n",
       "        vertical-align: top;\n",
       "    }\n",
       "\n",
       "    .dataframe thead th {\n",
       "        text-align: right;\n",
       "    }\n",
       "</style>\n",
       "<table border=\"1\" class=\"dataframe\">\n",
       "  <thead>\n",
       "    <tr style=\"text-align: right;\">\n",
       "      <th></th>\n",
       "      <th>away_moneyline_final</th>\n",
       "      <th>away_team</th>\n",
       "      <th>away_win_prob_no_vig_final</th>\n",
       "      <th>away_win_prob_espn</th>\n",
       "      <th>away_win_prob_sp</th>\n",
       "      <th>away_elo_prob</th>\n",
       "      <th>win_loss_away</th>\n",
       "      <th>away_win_%</th>\n",
       "      <th>home_team</th>\n",
       "      <th>home_moneyline_final</th>\n",
       "      <th>home_spread_final</th>\n",
       "      <th>Proj. margin</th>\n",
       "      <th>home_win_prob_no_vig_final</th>\n",
       "      <th>home_win_prob_espn</th>\n",
       "      <th>home_win_prob_sp</th>\n",
       "      <th>home_elo_prob</th>\n",
       "      <th>win_loss_home</th>\n",
       "      <th>home_win_%</th>\n",
       "      <th>start_time</th>\n",
       "      <th>outlet</th>\n",
       "    </tr>\n",
       "  </thead>\n",
       "  <tbody>\n",
       "    <tr>\n",
       "      <th>16</th>\n",
       "      <td>143.0</td>\n",
       "      <td>Louisville</td>\n",
       "      <td>0.395257</td>\n",
       "      <td>0.560</td>\n",
       "      <td>0.48</td>\n",
       "      <td>0.708166</td>\n",
       "      <td>7-4-0</td>\n",
       "      <td>40.0</td>\n",
       "      <td>Kentucky</td>\n",
       "      <td>-170.0</td>\n",
       "      <td>-3.5</td>\n",
       "      <td>0.9</td>\n",
       "      <td>0.604743</td>\n",
       "      <td>0.440</td>\n",
       "      <td>0.52</td>\n",
       "      <td>0.291834</td>\n",
       "      <td>6-5-0</td>\n",
       "      <td>57.14</td>\n",
       "      <td>13:00:00</td>\n",
       "      <td>SECN</td>\n",
       "    </tr>\n",
       "    <tr>\n",
       "      <th>22</th>\n",
       "      <td>143.0</td>\n",
       "      <td>Minnesota</td>\n",
       "      <td>0.395257</td>\n",
       "      <td>0.464</td>\n",
       "      <td>0.60</td>\n",
       "      <td>0.554469</td>\n",
       "      <td>7-4-0</td>\n",
       "      <td>50.0</td>\n",
       "      <td>Wisconsin</td>\n",
       "      <td>-170.0</td>\n",
       "      <td>-3.5</td>\n",
       "      <td>4.5</td>\n",
       "      <td>0.604743</td>\n",
       "      <td>0.536</td>\n",
       "      <td>0.40</td>\n",
       "      <td>0.445531</td>\n",
       "      <td>6-5-0</td>\n",
       "      <td>66.67</td>\n",
       "      <td>13:30:00</td>\n",
       "      <td>ESPN</td>\n",
       "    </tr>\n",
       "    <tr>\n",
       "      <th>24</th>\n",
       "      <td>158.0</td>\n",
       "      <td>Memphis</td>\n",
       "      <td>0.371700</td>\n",
       "      <td>0.445</td>\n",
       "      <td>0.54</td>\n",
       "      <td>0.464084</td>\n",
       "      <td>6-5-0</td>\n",
       "      <td>25.0</td>\n",
       "      <td>SMU</td>\n",
       "      <td>-190.0</td>\n",
       "      <td>-4.5</td>\n",
       "      <td>1.7</td>\n",
       "      <td>0.628300</td>\n",
       "      <td>0.555</td>\n",
       "      <td>0.46</td>\n",
       "      <td>0.535916</td>\n",
       "      <td>6-5-0</td>\n",
       "      <td>60.00</td>\n",
       "      <td>13:30:00</td>\n",
       "      <td></td>\n",
       "    </tr>\n",
       "    <tr>\n",
       "      <th>27</th>\n",
       "      <td>0.0</td>\n",
       "      <td>Utah</td>\n",
       "      <td>NaN</td>\n",
       "      <td>0.980</td>\n",
       "      <td>0.98</td>\n",
       "      <td>0.996848</td>\n",
       "      <td>8-3-0</td>\n",
       "      <td>40.0</td>\n",
       "      <td>Colorado</td>\n",
       "      <td>0.0</td>\n",
       "      <td>29.5</td>\n",
       "      <td>36.5</td>\n",
       "      <td>NaN</td>\n",
       "      <td>0.020</td>\n",
       "      <td>0.02</td>\n",
       "      <td>0.003152</td>\n",
       "      <td>1-10-0</td>\n",
       "      <td>20.00</td>\n",
       "      <td>14:00:00</td>\n",
       "      <td>PAC12</td>\n",
       "    </tr>\n",
       "  </tbody>\n",
       "</table>\n",
       "</div>"
      ],
      "text/plain": [
       "    away_moneyline_final   away_team  away_win_prob_no_vig_final  \\\n",
       "16                 143.0  Louisville                    0.395257   \n",
       "22                 143.0   Minnesota                    0.395257   \n",
       "24                 158.0     Memphis                    0.371700   \n",
       "27                   0.0        Utah                         NaN   \n",
       "\n",
       "    away_win_prob_espn  away_win_prob_sp  away_elo_prob win_loss_away  \\\n",
       "16               0.560              0.48       0.708166         7-4-0   \n",
       "22               0.464              0.60       0.554469         7-4-0   \n",
       "24               0.445              0.54       0.464084         6-5-0   \n",
       "27               0.980              0.98       0.996848         8-3-0   \n",
       "\n",
       "    away_win_%  home_team  home_moneyline_final  home_spread_final  \\\n",
       "16        40.0   Kentucky                -170.0               -3.5   \n",
       "22        50.0  Wisconsin                -170.0               -3.5   \n",
       "24        25.0        SMU                -190.0               -4.5   \n",
       "27        40.0   Colorado                   0.0               29.5   \n",
       "\n",
       "    Proj. margin  home_win_prob_no_vig_final  home_win_prob_espn  \\\n",
       "16           0.9                    0.604743               0.440   \n",
       "22           4.5                    0.604743               0.536   \n",
       "24           1.7                    0.628300               0.555   \n",
       "27          36.5                         NaN               0.020   \n",
       "\n",
       "    home_win_prob_sp  home_elo_prob win_loss_home  home_win_% start_time  \\\n",
       "16              0.52       0.291834         6-5-0       57.14   13:00:00   \n",
       "22              0.40       0.445531         6-5-0       66.67   13:30:00   \n",
       "24              0.46       0.535916         6-5-0       60.00   13:30:00   \n",
       "27              0.02       0.003152        1-10-0       20.00   14:00:00   \n",
       "\n",
       "   outlet  \n",
       "16   SECN  \n",
       "22   ESPN  \n",
       "24         \n",
       "27  PAC12  "
      ]
     },
     "execution_count": 56,
     "metadata": {},
     "output_type": "execute_result"
    }
   ],
   "source": [
    "# get games where the away team is not favored and have a greater than 47% chance at winning for espn and sp+\n",
    "display_cols = ['away_moneyline_final', 'away_team','away_win_prob_no_vig_final', 'away_win_prob_espn', \\\n",
    "                'away_win_prob_sp', 'away_elo_prob', 'win_loss_away', 'away_win_%',\\\n",
    "                'home_team','home_moneyline_final', 'home_spread_final', 'Proj. margin', 'home_win_prob_no_vig_final', 'home_win_prob_espn',\\\n",
    "                'home_win_prob_sp', 'home_elo_prob', 'win_loss_home','home_win_%', 'start_time', 'outlet']\n",
    "                \n",
    "# win perc floor\n",
    "win_perc_floor = .5\n",
    "\n",
    "# moneyline limit\n",
    "ml_limit_away = 0\n",
    "\n",
    "away_bets_df = betting_df[(betting_df['away_moneyline_final'] >= ml_limit_away) &\\\n",
    "           ((betting_df['away_win_prob_espn']>win_perc_floor)|\\\n",
    "           (betting_df['away_win_prob_sp']>win_perc_floor))][display_cols]\n",
    "away_bets_df"
   ]
  },
  {
   "cell_type": "markdown",
   "metadata": {},
   "source": [
    "### Favorites\n",
    "\n",
    "Also considering betting on favorites to pad profits"
   ]
  },
  {
   "cell_type": "markdown",
   "metadata": {},
   "source": [
    "#### Moneyline to profit:\n",
    "Explore moneyine limits to profit %'s"
   ]
  },
  {
   "cell_type": "code",
   "execution_count": 57,
   "metadata": {},
   "outputs": [
    {
     "data": {
      "text/html": [
       "<div>\n",
       "<style scoped>\n",
       "    .dataframe tbody tr th:only-of-type {\n",
       "        vertical-align: middle;\n",
       "    }\n",
       "\n",
       "    .dataframe tbody tr th {\n",
       "        vertical-align: top;\n",
       "    }\n",
       "\n",
       "    .dataframe thead th {\n",
       "        text-align: right;\n",
       "    }\n",
       "</style>\n",
       "<table border=\"1\" class=\"dataframe\">\n",
       "  <thead>\n",
       "    <tr style=\"text-align: right;\">\n",
       "      <th></th>\n",
       "      <th>moneyline</th>\n",
       "      <th>%-profit</th>\n",
       "    </tr>\n",
       "  </thead>\n",
       "  <tbody>\n",
       "    <tr>\n",
       "      <th>0</th>\n",
       "      <td>-490</td>\n",
       "      <td>0.2041</td>\n",
       "    </tr>\n",
       "    <tr>\n",
       "      <th>1</th>\n",
       "      <td>-480</td>\n",
       "      <td>0.2083</td>\n",
       "    </tr>\n",
       "    <tr>\n",
       "      <th>2</th>\n",
       "      <td>-470</td>\n",
       "      <td>0.2128</td>\n",
       "    </tr>\n",
       "    <tr>\n",
       "      <th>3</th>\n",
       "      <td>-460</td>\n",
       "      <td>0.2174</td>\n",
       "    </tr>\n",
       "    <tr>\n",
       "      <th>4</th>\n",
       "      <td>-450</td>\n",
       "      <td>0.2222</td>\n",
       "    </tr>\n",
       "    <tr>\n",
       "      <th>5</th>\n",
       "      <td>-440</td>\n",
       "      <td>0.2273</td>\n",
       "    </tr>\n",
       "    <tr>\n",
       "      <th>6</th>\n",
       "      <td>-430</td>\n",
       "      <td>0.2326</td>\n",
       "    </tr>\n",
       "    <tr>\n",
       "      <th>7</th>\n",
       "      <td>-420</td>\n",
       "      <td>0.2381</td>\n",
       "    </tr>\n",
       "    <tr>\n",
       "      <th>8</th>\n",
       "      <td>-410</td>\n",
       "      <td>0.2439</td>\n",
       "    </tr>\n",
       "    <tr>\n",
       "      <th>9</th>\n",
       "      <td>-400</td>\n",
       "      <td>0.2500</td>\n",
       "    </tr>\n",
       "    <tr>\n",
       "      <th>10</th>\n",
       "      <td>-390</td>\n",
       "      <td>0.2564</td>\n",
       "    </tr>\n",
       "    <tr>\n",
       "      <th>11</th>\n",
       "      <td>-380</td>\n",
       "      <td>0.2632</td>\n",
       "    </tr>\n",
       "    <tr>\n",
       "      <th>12</th>\n",
       "      <td>-370</td>\n",
       "      <td>0.2703</td>\n",
       "    </tr>\n",
       "    <tr>\n",
       "      <th>13</th>\n",
       "      <td>-360</td>\n",
       "      <td>0.2778</td>\n",
       "    </tr>\n",
       "    <tr>\n",
       "      <th>14</th>\n",
       "      <td>-350</td>\n",
       "      <td>0.2857</td>\n",
       "    </tr>\n",
       "    <tr>\n",
       "      <th>15</th>\n",
       "      <td>-340</td>\n",
       "      <td>0.2941</td>\n",
       "    </tr>\n",
       "    <tr>\n",
       "      <th>16</th>\n",
       "      <td>-330</td>\n",
       "      <td>0.3030</td>\n",
       "    </tr>\n",
       "    <tr>\n",
       "      <th>17</th>\n",
       "      <td>-320</td>\n",
       "      <td>0.3125</td>\n",
       "    </tr>\n",
       "    <tr>\n",
       "      <th>18</th>\n",
       "      <td>-310</td>\n",
       "      <td>0.3226</td>\n",
       "    </tr>\n",
       "    <tr>\n",
       "      <th>19</th>\n",
       "      <td>-300</td>\n",
       "      <td>0.3333</td>\n",
       "    </tr>\n",
       "    <tr>\n",
       "      <th>20</th>\n",
       "      <td>-290</td>\n",
       "      <td>0.3448</td>\n",
       "    </tr>\n",
       "    <tr>\n",
       "      <th>21</th>\n",
       "      <td>-280</td>\n",
       "      <td>0.3571</td>\n",
       "    </tr>\n",
       "    <tr>\n",
       "      <th>22</th>\n",
       "      <td>-270</td>\n",
       "      <td>0.3704</td>\n",
       "    </tr>\n",
       "    <tr>\n",
       "      <th>23</th>\n",
       "      <td>-260</td>\n",
       "      <td>0.3846</td>\n",
       "    </tr>\n",
       "    <tr>\n",
       "      <th>24</th>\n",
       "      <td>-250</td>\n",
       "      <td>0.4000</td>\n",
       "    </tr>\n",
       "    <tr>\n",
       "      <th>25</th>\n",
       "      <td>-240</td>\n",
       "      <td>0.4167</td>\n",
       "    </tr>\n",
       "    <tr>\n",
       "      <th>26</th>\n",
       "      <td>-230</td>\n",
       "      <td>0.4348</td>\n",
       "    </tr>\n",
       "    <tr>\n",
       "      <th>27</th>\n",
       "      <td>-220</td>\n",
       "      <td>0.4545</td>\n",
       "    </tr>\n",
       "    <tr>\n",
       "      <th>28</th>\n",
       "      <td>-210</td>\n",
       "      <td>0.4762</td>\n",
       "    </tr>\n",
       "    <tr>\n",
       "      <th>29</th>\n",
       "      <td>-200</td>\n",
       "      <td>0.5000</td>\n",
       "    </tr>\n",
       "    <tr>\n",
       "      <th>30</th>\n",
       "      <td>-190</td>\n",
       "      <td>0.5263</td>\n",
       "    </tr>\n",
       "    <tr>\n",
       "      <th>31</th>\n",
       "      <td>-180</td>\n",
       "      <td>0.5556</td>\n",
       "    </tr>\n",
       "    <tr>\n",
       "      <th>32</th>\n",
       "      <td>-170</td>\n",
       "      <td>0.5882</td>\n",
       "    </tr>\n",
       "    <tr>\n",
       "      <th>33</th>\n",
       "      <td>-160</td>\n",
       "      <td>0.6250</td>\n",
       "    </tr>\n",
       "    <tr>\n",
       "      <th>34</th>\n",
       "      <td>-150</td>\n",
       "      <td>0.6667</td>\n",
       "    </tr>\n",
       "    <tr>\n",
       "      <th>35</th>\n",
       "      <td>-140</td>\n",
       "      <td>0.7143</td>\n",
       "    </tr>\n",
       "    <tr>\n",
       "      <th>36</th>\n",
       "      <td>-130</td>\n",
       "      <td>0.7692</td>\n",
       "    </tr>\n",
       "    <tr>\n",
       "      <th>37</th>\n",
       "      <td>-120</td>\n",
       "      <td>0.8333</td>\n",
       "    </tr>\n",
       "    <tr>\n",
       "      <th>38</th>\n",
       "      <td>-110</td>\n",
       "      <td>0.9091</td>\n",
       "    </tr>\n",
       "    <tr>\n",
       "      <th>39</th>\n",
       "      <td>100</td>\n",
       "      <td>1.0000</td>\n",
       "    </tr>\n",
       "    <tr>\n",
       "      <th>40</th>\n",
       "      <td>110</td>\n",
       "      <td>1.1000</td>\n",
       "    </tr>\n",
       "    <tr>\n",
       "      <th>41</th>\n",
       "      <td>120</td>\n",
       "      <td>1.2000</td>\n",
       "    </tr>\n",
       "    <tr>\n",
       "      <th>42</th>\n",
       "      <td>130</td>\n",
       "      <td>1.3000</td>\n",
       "    </tr>\n",
       "    <tr>\n",
       "      <th>43</th>\n",
       "      <td>140</td>\n",
       "      <td>1.4000</td>\n",
       "    </tr>\n",
       "    <tr>\n",
       "      <th>44</th>\n",
       "      <td>150</td>\n",
       "      <td>1.5000</td>\n",
       "    </tr>\n",
       "    <tr>\n",
       "      <th>45</th>\n",
       "      <td>160</td>\n",
       "      <td>1.6000</td>\n",
       "    </tr>\n",
       "    <tr>\n",
       "      <th>46</th>\n",
       "      <td>170</td>\n",
       "      <td>1.7000</td>\n",
       "    </tr>\n",
       "    <tr>\n",
       "      <th>47</th>\n",
       "      <td>180</td>\n",
       "      <td>1.8000</td>\n",
       "    </tr>\n",
       "    <tr>\n",
       "      <th>48</th>\n",
       "      <td>190</td>\n",
       "      <td>1.9000</td>\n",
       "    </tr>\n",
       "    <tr>\n",
       "      <th>49</th>\n",
       "      <td>200</td>\n",
       "      <td>2.0000</td>\n",
       "    </tr>\n",
       "    <tr>\n",
       "      <th>50</th>\n",
       "      <td>210</td>\n",
       "      <td>2.1000</td>\n",
       "    </tr>\n",
       "    <tr>\n",
       "      <th>51</th>\n",
       "      <td>220</td>\n",
       "      <td>2.2000</td>\n",
       "    </tr>\n",
       "    <tr>\n",
       "      <th>52</th>\n",
       "      <td>230</td>\n",
       "      <td>2.3000</td>\n",
       "    </tr>\n",
       "    <tr>\n",
       "      <th>53</th>\n",
       "      <td>240</td>\n",
       "      <td>2.4000</td>\n",
       "    </tr>\n",
       "    <tr>\n",
       "      <th>54</th>\n",
       "      <td>250</td>\n",
       "      <td>2.5000</td>\n",
       "    </tr>\n",
       "    <tr>\n",
       "      <th>55</th>\n",
       "      <td>260</td>\n",
       "      <td>2.6000</td>\n",
       "    </tr>\n",
       "    <tr>\n",
       "      <th>56</th>\n",
       "      <td>270</td>\n",
       "      <td>2.7000</td>\n",
       "    </tr>\n",
       "    <tr>\n",
       "      <th>57</th>\n",
       "      <td>280</td>\n",
       "      <td>2.8000</td>\n",
       "    </tr>\n",
       "    <tr>\n",
       "      <th>58</th>\n",
       "      <td>290</td>\n",
       "      <td>2.9000</td>\n",
       "    </tr>\n",
       "  </tbody>\n",
       "</table>\n",
       "</div>"
      ],
      "text/plain": [
       "    moneyline  %-profit\n",
       "0        -490    0.2041\n",
       "1        -480    0.2083\n",
       "2        -470    0.2128\n",
       "3        -460    0.2174\n",
       "4        -450    0.2222\n",
       "5        -440    0.2273\n",
       "6        -430    0.2326\n",
       "7        -420    0.2381\n",
       "8        -410    0.2439\n",
       "9        -400    0.2500\n",
       "10       -390    0.2564\n",
       "11       -380    0.2632\n",
       "12       -370    0.2703\n",
       "13       -360    0.2778\n",
       "14       -350    0.2857\n",
       "15       -340    0.2941\n",
       "16       -330    0.3030\n",
       "17       -320    0.3125\n",
       "18       -310    0.3226\n",
       "19       -300    0.3333\n",
       "20       -290    0.3448\n",
       "21       -280    0.3571\n",
       "22       -270    0.3704\n",
       "23       -260    0.3846\n",
       "24       -250    0.4000\n",
       "25       -240    0.4167\n",
       "26       -230    0.4348\n",
       "27       -220    0.4545\n",
       "28       -210    0.4762\n",
       "29       -200    0.5000\n",
       "30       -190    0.5263\n",
       "31       -180    0.5556\n",
       "32       -170    0.5882\n",
       "33       -160    0.6250\n",
       "34       -150    0.6667\n",
       "35       -140    0.7143\n",
       "36       -130    0.7692\n",
       "37       -120    0.8333\n",
       "38       -110    0.9091\n",
       "39        100    1.0000\n",
       "40        110    1.1000\n",
       "41        120    1.2000\n",
       "42        130    1.3000\n",
       "43        140    1.4000\n",
       "44        150    1.5000\n",
       "45        160    1.6000\n",
       "46        170    1.7000\n",
       "47        180    1.8000\n",
       "48        190    1.9000\n",
       "49        200    2.0000\n",
       "50        210    2.1000\n",
       "51        220    2.2000\n",
       "52        230    2.3000\n",
       "53        240    2.4000\n",
       "54        250    2.5000\n",
       "55        260    2.6000\n",
       "56        270    2.7000\n",
       "57        280    2.8000\n",
       "58        290    2.9000"
      ]
     },
     "execution_count": 57,
     "metadata": {},
     "output_type": "execute_result"
    }
   ],
   "source": [
    "# calculate range of NEGATIVE moneylines and their profit %\n",
    "fav_ml_calc_list = []\n",
    "for i in range(-110, -500, -10):\n",
    "    fav_ml_calc_list.append(i)\n",
    "    \n",
    "# use moneylines to calculate profit\n",
    "fav_ml_profit_list = [round((amer_odds_to_decimal(i)-1), 4) for i in fav_ml_calc_list]\n",
    "\n",
    "# make dataframe using lists\n",
    "df = pd.DataFrame(list(zip(fav_ml_calc_list, fav_ml_profit_list)),\n",
    "               columns =['moneyline', '%-profit'])\n",
    "\n",
    "\n",
    "# calculate range of POSITIVE moneylines and their profit %\n",
    "ud_ml_calc_list_ = []\n",
    "for i in range(100, 300, 10):\n",
    "    ud_ml_calc_list_.append(i)\n",
    "    \n",
    "# use moneylines to calculate profit\n",
    "ud_ml_profit_list = [round((amer_odds_to_decimal(i)-1), 4) for i in ud_ml_calc_list_]\n",
    "\n",
    "# make dataframe using lists\n",
    "df_2 = pd.DataFrame(list(zip(ud_ml_calc_list_, ud_ml_profit_list)),\n",
    "               columns =['moneyline', '%-profit'])\n",
    "\n",
    "\n",
    "# see monyeline vs % profit as table / dataframe\n",
    "pd.concat([df,df_2]).sort_values('%-profit').reset_index().drop(columns='index')"
   ]
  },
  {
   "cell_type": "markdown",
   "metadata": {},
   "source": [
    "#### Home Favorites\n",
    "Logic:\n",
    "\n",
    "For HOME teams with moneylines >= -250 (which implies no positive moneylines...)\n",
    "\n",
    "- If home team is the favorite:\n",
    "    - One of the win probs needs to be greater than 60%  (perc_limit)\n",
    "    \n",
    "    <b>OR</b>\n",
    "    \n",
    "    - ESPN win prob or SP+ win prob 5%  or more than the implied win prob via Caesars\n",
    "    \n",
    "    <b>AND</b>\n",
    "    \n",
    "    - All 3 scraped win probs need to be greater than 50% (perc_limit_2)\n",
    "- -250 ML was chosen due to 40% profit"
   ]
  },
  {
   "cell_type": "code",
   "execution_count": 58,
   "metadata": {},
   "outputs": [
    {
     "data": {
      "text/html": [
       "<div>\n",
       "<style scoped>\n",
       "    .dataframe tbody tr th:only-of-type {\n",
       "        vertical-align: middle;\n",
       "    }\n",
       "\n",
       "    .dataframe tbody tr th {\n",
       "        vertical-align: top;\n",
       "    }\n",
       "\n",
       "    .dataframe thead th {\n",
       "        text-align: right;\n",
       "    }\n",
       "</style>\n",
       "<table border=\"1\" class=\"dataframe\">\n",
       "  <thead>\n",
       "    <tr style=\"text-align: right;\">\n",
       "      <th></th>\n",
       "      <th>home_team</th>\n",
       "      <th>home_moneyline_final</th>\n",
       "      <th>Proj. margin</th>\n",
       "      <th>home_win_prob_no_vig_final</th>\n",
       "      <th>home_win_prob_espn</th>\n",
       "      <th>home_win_prob_sp</th>\n",
       "      <th>home_elo_prob</th>\n",
       "      <th>win_loss_home</th>\n",
       "      <th>home_win_%</th>\n",
       "      <th>away_team</th>\n",
       "      <th>away_win_prob_no_vig_final</th>\n",
       "      <th>away_win_prob_espn</th>\n",
       "      <th>away_win_prob_sp</th>\n",
       "      <th>away_elo_prob</th>\n",
       "      <th>win_loss_away</th>\n",
       "      <th>away_win_%</th>\n",
       "      <th>outlet</th>\n",
       "    </tr>\n",
       "  </thead>\n",
       "  <tbody>\n",
       "    <tr>\n",
       "      <th>8</th>\n",
       "      <td>Marshall</td>\n",
       "      <td>-235.0</td>\n",
       "      <td>8.1</td>\n",
       "      <td>0.671955</td>\n",
       "      <td>0.711</td>\n",
       "      <td>0.68</td>\n",
       "      <td>0.603536</td>\n",
       "      <td>7-4-0</td>\n",
       "      <td>60.0</td>\n",
       "      <td>Georgia State</td>\n",
       "      <td>0.328045</td>\n",
       "      <td>0.289</td>\n",
       "      <td>0.32</td>\n",
       "      <td>0.396464</td>\n",
       "      <td>4-7-0</td>\n",
       "      <td>40.00</td>\n",
       "      <td>ESPN+</td>\n",
       "    </tr>\n",
       "    <tr>\n",
       "      <th>11</th>\n",
       "      <td>Buffalo</td>\n",
       "      <td>-190.0</td>\n",
       "      <td>6.8</td>\n",
       "      <td>0.628300</td>\n",
       "      <td>0.666</td>\n",
       "      <td>0.65</td>\n",
       "      <td>0.592466</td>\n",
       "      <td>5-5-0</td>\n",
       "      <td>50.0</td>\n",
       "      <td>Kent State</td>\n",
       "      <td>0.371700</td>\n",
       "      <td>0.334</td>\n",
       "      <td>0.35</td>\n",
       "      <td>0.407534</td>\n",
       "      <td>4-7-0</td>\n",
       "      <td>16.67</td>\n",
       "      <td>ESPN+</td>\n",
       "    </tr>\n",
       "  </tbody>\n",
       "</table>\n",
       "</div>"
      ],
      "text/plain": [
       "   home_team  home_moneyline_final  Proj. margin  home_win_prob_no_vig_final  \\\n",
       "8   Marshall                -235.0           8.1                    0.671955   \n",
       "11   Buffalo                -190.0           6.8                    0.628300   \n",
       "\n",
       "    home_win_prob_espn  home_win_prob_sp  home_elo_prob win_loss_home  \\\n",
       "8                0.711              0.68       0.603536         7-4-0   \n",
       "11               0.666              0.65       0.592466         5-5-0   \n",
       "\n",
       "    home_win_%      away_team  away_win_prob_no_vig_final  away_win_prob_espn  \\\n",
       "8         60.0  Georgia State                    0.328045               0.289   \n",
       "11        50.0     Kent State                    0.371700               0.334   \n",
       "\n",
       "    away_win_prob_sp  away_elo_prob win_loss_away  away_win_% outlet  \n",
       "8               0.32       0.396464         4-7-0       40.00  ESPN+  \n",
       "11              0.35       0.407534         4-7-0       16.67  ESPN+  "
      ]
     },
     "execution_count": 58,
     "metadata": {},
     "output_type": "execute_result"
    }
   ],
   "source": [
    "# moneyline limits\n",
    "ml_limit_lo = -250\n",
    "ml_limit_hi = 200\n",
    "\n",
    "# % limit for win prob favs\n",
    "perc_limit= .4\n",
    "perc_limit_2 = .4\n",
    "\n",
    "perc_diff_limit = 0\n",
    "\n",
    "display_cols = ['home_team','home_moneyline_final', 'Proj. margin', 'home_win_prob_no_vig_final', 'home_win_prob_espn',\\\n",
    "                'home_win_prob_sp', 'home_elo_prob', 'win_loss_home','home_win_%', 'away_team','away_win_prob_no_vig_final', \\\n",
    "                'away_win_prob_espn', 'away_win_prob_sp', 'away_elo_prob', 'win_loss_away', 'away_win_%', 'outlet']\n",
    "\n",
    "home_fav_df = betting_df[(betting_df['home_moneyline_final'] >= ml_limit_lo)&\\\n",
    "           (betting_df['home_moneyline_final'] <= 0) &\\\n",
    "           ((betting_df['home_win_prob_sp']>=perc_limit) |\\\n",
    "            (betting_df['home_elo_prob']>=perc_limit) |\\\n",
    "            (betting_df['home_win_prob_espn']>=perc_limit))&\\\n",
    "           ((betting_df['home_win_prob_sp']>=perc_limit_2) &\\\n",
    "            (betting_df['home_elo_prob']>=perc_limit_2) &\\\n",
    "            (betting_df['home_win_prob_espn']>=perc_limit_2))&\\\n",
    "           (((betting_df['home_win_prob_sp'] - betting_df['home_win_prob_no_vig_final'])>=perc_diff_limit)|\\\n",
    "            ((betting_df['home_win_prob_espn'] - betting_df['home_win_prob_no_vig_final'])>=perc_diff_limit)|\\\n",
    "            ((betting_df['home_elo_prob'] - betting_df['home_win_prob_no_vig_final'])>=perc_diff_limit))&\\\n",
    "           (betting_df['home_moneyline_final'] != 0)][display_cols].sort_values('home_moneyline_final')\n",
    "\n",
    "home_fav_df"
   ]
  },
  {
   "cell_type": "code",
   "execution_count": 59,
   "metadata": {},
   "outputs": [],
   "source": [
    "# choose home favorites if any. add to list below\n",
    "chosen_home_fav_list = home_fav_df['home_team'].to_list()\n",
    "home_favorites_list = chosen_home_fav_list#['']\n",
    "\n",
    "display_cols = ['home_team','home_moneyline_final', 'home_spread_final', 'Proj. margin', 'home_win_prob_no_vig_final', 'home_win_prob_espn',\\\n",
    "                'home_win_prob_sp', 'home_elo_prob', 'win_loss_home','home_win_%', 'ap_rank_home','coaches_rank_home','away_team','away_win_prob_no_vig_final', \\\n",
    "                'away_win_prob_espn', 'away_win_prob_sp', 'away_elo_prob', 'win_loss_away', 'away_win_%','ap_rank_away', 'coaches_rank_away', 'start_time', 'outlet']\n",
    "\n",
    "if len(home_favorites_list) > 0:\n",
    "    home_favs_df = betting_df[betting_df['home_team'].isin(home_favorites_list)][display_cols]\n",
    "    home_bets_df = pd.concat([home_bets_df, home_favs_df])"
   ]
  },
  {
   "cell_type": "markdown",
   "metadata": {},
   "source": [
    "### Away Favorites\n",
    "\n",
    "Logic:\n",
    "\n",
    "For AWAY teams with moneylines >= -250 (which implies no positive moneylines...)\n",
    "\n",
    "- If AWAY team is the favorite:\n",
    "    - One of the win probs needs to be greater than 70%  (perc_limit). 70% is higher than the perc_limit for home team favorites.\n",
    "    \n",
    "    <b>OR</b>\n",
    "    \n",
    "    - ESPN win prob or SP+ win prob 5%  or more than the implied win prob via Caesars\n",
    "    \n",
    "    <b>AND</b>\n",
    "    \n",
    "    - All 3 scraped win probs need to be greater than 55% (perc_limit_2) HIgher than home team perc_limit_2\n",
    "- -250 ML was chosen due to 40% profit"
   ]
  },
  {
   "cell_type": "code",
   "execution_count": 60,
   "metadata": {},
   "outputs": [
    {
     "data": {
      "text/html": [
       "<div>\n",
       "<style scoped>\n",
       "    .dataframe tbody tr th:only-of-type {\n",
       "        vertical-align: middle;\n",
       "    }\n",
       "\n",
       "    .dataframe tbody tr th {\n",
       "        vertical-align: top;\n",
       "    }\n",
       "\n",
       "    .dataframe thead th {\n",
       "        text-align: right;\n",
       "    }\n",
       "</style>\n",
       "<table border=\"1\" class=\"dataframe\">\n",
       "  <thead>\n",
       "    <tr style=\"text-align: right;\">\n",
       "      <th></th>\n",
       "      <th>away_team</th>\n",
       "      <th>away_moneyline_final</th>\n",
       "      <th>away_win_prob_no_vig_final</th>\n",
       "      <th>away_win_prob_espn</th>\n",
       "      <th>away_win_prob_sp</th>\n",
       "      <th>away_elo_prob</th>\n",
       "      <th>win_loss_away</th>\n",
       "      <th>away_win_%</th>\n",
       "      <th>home_team</th>\n",
       "      <th>home_moneyline_final</th>\n",
       "      <th>Proj. margin</th>\n",
       "      <th>home_win_prob_no_vig_final</th>\n",
       "      <th>home_win_prob_espn</th>\n",
       "      <th>home_win_prob_sp</th>\n",
       "      <th>home_elo_prob</th>\n",
       "      <th>win_loss_home</th>\n",
       "      <th>home_win_%</th>\n",
       "    </tr>\n",
       "  </thead>\n",
       "  <tbody>\n",
       "    <tr>\n",
       "      <th>44</th>\n",
       "      <td>Air Force</td>\n",
       "      <td>-130.0</td>\n",
       "      <td>0.542744</td>\n",
       "      <td>0.614</td>\n",
       "      <td>0.64</td>\n",
       "      <td>0.836043</td>\n",
       "      <td>8-3-0</td>\n",
       "      <td>33.33</td>\n",
       "      <td>San Diego State</td>\n",
       "      <td>110.0</td>\n",
       "      <td>6.0</td>\n",
       "      <td>0.457256</td>\n",
       "      <td>0.386</td>\n",
       "      <td>0.36</td>\n",
       "      <td>0.163957</td>\n",
       "      <td>7-4-0</td>\n",
       "      <td>83.33</td>\n",
       "    </tr>\n",
       "    <tr>\n",
       "      <th>30</th>\n",
       "      <td>Southern Mississippi</td>\n",
       "      <td>-170.0</td>\n",
       "      <td>0.604743</td>\n",
       "      <td>0.606</td>\n",
       "      <td>0.70</td>\n",
       "      <td>0.721078</td>\n",
       "      <td>5-6-0</td>\n",
       "      <td>40.00</td>\n",
       "      <td>Louisiana Monroe</td>\n",
       "      <td>143.0</td>\n",
       "      <td>8.9</td>\n",
       "      <td>0.395257</td>\n",
       "      <td>0.394</td>\n",
       "      <td>0.30</td>\n",
       "      <td>0.278922</td>\n",
       "      <td>4-7-0</td>\n",
       "      <td>75.00</td>\n",
       "    </tr>\n",
       "    <tr>\n",
       "      <th>31</th>\n",
       "      <td>Louisiana</td>\n",
       "      <td>-210.0</td>\n",
       "      <td>0.650704</td>\n",
       "      <td>0.627</td>\n",
       "      <td>0.65</td>\n",
       "      <td>0.885877</td>\n",
       "      <td>5-6-0</td>\n",
       "      <td>20.00</td>\n",
       "      <td>Texas State</td>\n",
       "      <td>175.0</td>\n",
       "      <td>6.7</td>\n",
       "      <td>0.349296</td>\n",
       "      <td>0.373</td>\n",
       "      <td>0.35</td>\n",
       "      <td>0.114123</td>\n",
       "      <td>4-7-0</td>\n",
       "      <td>80.00</td>\n",
       "    </tr>\n",
       "    <tr>\n",
       "      <th>33</th>\n",
       "      <td>Appalachian State</td>\n",
       "      <td>-210.0</td>\n",
       "      <td>0.650704</td>\n",
       "      <td>0.630</td>\n",
       "      <td>0.67</td>\n",
       "      <td>0.813612</td>\n",
       "      <td>6-5-0</td>\n",
       "      <td>25.00</td>\n",
       "      <td>Georgia Southern</td>\n",
       "      <td>175.0</td>\n",
       "      <td>7.4</td>\n",
       "      <td>0.349296</td>\n",
       "      <td>0.370</td>\n",
       "      <td>0.33</td>\n",
       "      <td>0.186388</td>\n",
       "      <td>5-6-0</td>\n",
       "      <td>60.00</td>\n",
       "    </tr>\n",
       "    <tr>\n",
       "      <th>0</th>\n",
       "      <td>Western Kentucky</td>\n",
       "      <td>-285.0</td>\n",
       "      <td>0.708289</td>\n",
       "      <td>0.661</td>\n",
       "      <td>0.65</td>\n",
       "      <td>0.872435</td>\n",
       "      <td>7-5-0</td>\n",
       "      <td>50.00</td>\n",
       "      <td>Florida Atlantic</td>\n",
       "      <td>228.0</td>\n",
       "      <td>6.7</td>\n",
       "      <td>0.291711</td>\n",
       "      <td>0.339</td>\n",
       "      <td>0.35</td>\n",
       "      <td>0.127565</td>\n",
       "      <td>5-6-0</td>\n",
       "      <td>80.00</td>\n",
       "    </tr>\n",
       "  </tbody>\n",
       "</table>\n",
       "</div>"
      ],
      "text/plain": [
       "               away_team  away_moneyline_final  away_win_prob_no_vig_final  \\\n",
       "44             Air Force                -130.0                    0.542744   \n",
       "30  Southern Mississippi                -170.0                    0.604743   \n",
       "31             Louisiana                -210.0                    0.650704   \n",
       "33     Appalachian State                -210.0                    0.650704   \n",
       "0       Western Kentucky                -285.0                    0.708289   \n",
       "\n",
       "    away_win_prob_espn  away_win_prob_sp  away_elo_prob win_loss_away  \\\n",
       "44               0.614              0.64       0.836043         8-3-0   \n",
       "30               0.606              0.70       0.721078         5-6-0   \n",
       "31               0.627              0.65       0.885877         5-6-0   \n",
       "33               0.630              0.67       0.813612         6-5-0   \n",
       "0                0.661              0.65       0.872435         7-5-0   \n",
       "\n",
       "    away_win_%         home_team  home_moneyline_final  Proj. margin  \\\n",
       "44       33.33   San Diego State                 110.0           6.0   \n",
       "30       40.00  Louisiana Monroe                 143.0           8.9   \n",
       "31       20.00       Texas State                 175.0           6.7   \n",
       "33       25.00  Georgia Southern                 175.0           7.4   \n",
       "0        50.00  Florida Atlantic                 228.0           6.7   \n",
       "\n",
       "    home_win_prob_no_vig_final  home_win_prob_espn  home_win_prob_sp  \\\n",
       "44                    0.457256               0.386              0.36   \n",
       "30                    0.395257               0.394              0.30   \n",
       "31                    0.349296               0.373              0.35   \n",
       "33                    0.349296               0.370              0.33   \n",
       "0                     0.291711               0.339              0.35   \n",
       "\n",
       "    home_elo_prob win_loss_home  home_win_%  \n",
       "44       0.163957         7-4-0       83.33  \n",
       "30       0.278922         4-7-0       75.00  \n",
       "31       0.114123         4-7-0       80.00  \n",
       "33       0.186388         5-6-0       60.00  \n",
       "0        0.127565         5-6-0       80.00  "
      ]
     },
     "execution_count": 60,
     "metadata": {},
     "output_type": "execute_result"
    }
   ],
   "source": [
    "# moneyline limits\n",
    "ml_limit_lo = -290\n",
    "ml_limit_hi = 200\n",
    "\n",
    "# % limit for win prob favs\n",
    "perc_limit= .7\n",
    "perc_limit_2 = .57\n",
    "\n",
    "perc_diff_limit = .05\n",
    "\n",
    "display_cols = ['away_team','away_moneyline_final', 'away_win_prob_no_vig_final', \\\n",
    "                'away_win_prob_espn', 'away_win_prob_sp', 'away_elo_prob', 'win_loss_away', 'away_win_%', \\\n",
    "               'home_team','home_moneyline_final', 'Proj. margin', 'home_win_prob_no_vig_final', 'home_win_prob_espn',\\\n",
    "                'home_win_prob_sp', 'home_elo_prob', 'win_loss_home','home_win_%', ]\n",
    "\n",
    "away_fav_df = betting_df[(betting_df['away_moneyline_final'] >= ml_limit_lo)&\\\n",
    "           (betting_df['away_moneyline_final'] <= 0) &\\\n",
    "           ((betting_df['away_win_prob_sp']>=perc_limit) |\\\n",
    "            (betting_df['away_elo_prob']>=perc_limit) |\\\n",
    "            (betting_df['away_win_prob_espn']>=perc_limit))&\\\n",
    "           ((betting_df['away_win_prob_sp']>=perc_limit_2) &\\\n",
    "            (betting_df['away_elo_prob']>=perc_limit_2) &\\\n",
    "            (betting_df['away_win_prob_espn']>=perc_limit_2))&\\\n",
    "           (((betting_df['away_win_prob_sp'] - betting_df['home_win_prob_no_vig_final'])>=perc_diff_limit)|\\\n",
    "            ((betting_df['away_win_prob_espn'] - betting_df['home_win_prob_no_vig_final'])>=perc_diff_limit)|\\\n",
    "            ((betting_df['away_elo_prob'] - betting_df['home_win_prob_no_vig_final'])>=perc_diff_limit))&\\\n",
    "           (betting_df['away_moneyline_final'] != 0)][display_cols].sort_values('home_moneyline_final')\n",
    "away_fav_df"
   ]
  },
  {
   "cell_type": "code",
   "execution_count": 61,
   "metadata": {},
   "outputs": [],
   "source": [
    "# choose away favorites if any. add to list below\n",
    "chosen_away_fav_list = away_fav_df['away_team'].to_list()\n",
    "away_favorites_list = chosen_away_fav_list + []\n",
    "\n",
    "display_cols = ['away_moneyline_final', 'away_team','away_win_prob_no_vig_final', 'away_win_prob_espn', \\\n",
    "                'away_win_prob_sp', 'away_elo_prob', 'win_loss_away', 'away_win_%',\\\n",
    "                'home_team','home_moneyline_final', 'home_spread_final', 'Proj. margin', 'home_win_prob_no_vig_final', 'home_win_prob_espn',\\\n",
    "                'home_win_prob_sp', 'home_elo_prob', 'win_loss_home','home_win_%', 'start_time', 'outlet']\n",
    "\n",
    "if len(away_favorites_list) > 0:\n",
    "    away_favs_df = betting_df[betting_df['away_team'].isin(away_favorites_list)][display_cols]\n",
    "    away_bets_df = pd.concat([away_bets_df, away_favs_df])"
   ]
  },
  {
   "cell_type": "markdown",
   "metadata": {
    "tags": []
   },
   "source": [
    "### Merged pick lists"
   ]
  },
  {
   "cell_type": "markdown",
   "metadata": {
    "tags": []
   },
   "source": [
    "#### Wrangle and export data to csv"
   ]
  },
  {
   "cell_type": "code",
   "execution_count": 62,
   "metadata": {},
   "outputs": [],
   "source": [
    "away_bets_df_v2 = away_bets_df\n",
    "home_bets_df_v2 = home_bets_df\n",
    "away_display_cols = ['away_team', 'home_team', 'away_moneyline_final', 'home_spread_final', 'away_win_prob_no_vig_final', 'away_win_prob_espn', \\\n",
    "                'away_win_prob_sp', 'away_elo_prob', 'start_time', 'outlet']\n",
    "home_display_cols = ['home_team', 'away_team', 'home_moneyline_final', 'home_spread_final', 'home_win_prob_no_vig_final', 'home_win_prob_espn', \\\n",
    "                'home_win_prob_sp', 'home_elo_prob', 'start_time', 'outlet']"
   ]
  },
  {
   "cell_type": "code",
   "execution_count": 63,
   "metadata": {},
   "outputs": [
    {
     "name": "stderr",
     "output_type": "stream",
     "text": [
      "C:\\Users\\regomoto\\Anaconda3\\lib\\site-packages\\ipykernel_launcher.py:2: SettingWithCopyWarning: \n",
      "A value is trying to be set on a copy of a slice from a DataFrame.\n",
      "Try using .loc[row_indexer,col_indexer] = value instead\n",
      "\n",
      "See the caveats in the documentation: https://pandas.pydata.org/pandas-docs/stable/user_guide/indexing.html#returning-a-view-versus-a-copy\n",
      "  \n"
     ]
    }
   ],
   "source": [
    "away_bets_df_v2 = away_bets_df_v2[away_display_cols]\n",
    "away_bets_df_v2['picked_status'] = 'away'\n",
    "away_bets_df_v2 = away_bets_df_v2.rename(columns = {'away_team':'picked_team', \\\n",
    "                                                    'away_moneyline_final':'moneyline', \\\n",
    "                                                    'away_win_prob_no_vig_final':'win_prob_no_vig', \\\n",
    "                                                    'away_win_prob_espn':'win_prob_espn', \\\n",
    "                                                    'away_win_prob_sp':'sp_prob', \\\n",
    "                                                    'away_elo_prob':'elo_prob', \\\n",
    "                                                    'home_spread_final': 'spread',\\\n",
    "                                                    'home_team':'opponent'})"
   ]
  },
  {
   "cell_type": "code",
   "execution_count": 64,
   "metadata": {},
   "outputs": [
    {
     "name": "stderr",
     "output_type": "stream",
     "text": [
      "C:\\Users\\regomoto\\Anaconda3\\lib\\site-packages\\ipykernel_launcher.py:2: SettingWithCopyWarning: \n",
      "A value is trying to be set on a copy of a slice from a DataFrame.\n",
      "Try using .loc[row_indexer,col_indexer] = value instead\n",
      "\n",
      "See the caveats in the documentation: https://pandas.pydata.org/pandas-docs/stable/user_guide/indexing.html#returning-a-view-versus-a-copy\n",
      "  \n"
     ]
    }
   ],
   "source": [
    "home_bets_df_v2 = home_bets_df_v2[home_display_cols]\n",
    "home_bets_df_v2['picked_status'] = 'home'\n",
    "home_bets_df_v2 = home_bets_df_v2.rename(columns = {'home_team':'picked_team', \\\n",
    "                                                    'home_moneyline_final':'moneyline', \\\n",
    "                                                    'home_win_prob_no_vig_final':'win_prob_no_vig', \\\n",
    "                                                    'home_win_prob_espn':'win_prob_espn', \\\n",
    "                                                    'home_win_prob_sp':'sp_prob', \\\n",
    "                                                    'home_elo_prob':'elo_prob', \\\n",
    "                                                    'home_spread_final': 'spread',\\\n",
    "                                                    'away_team': 'opponent'})"
   ]
  },
  {
   "cell_type": "code",
   "execution_count": 65,
   "metadata": {},
   "outputs": [],
   "source": [
    "picks_df = pd.concat([home_bets_df_v2, away_bets_df_v2])"
   ]
  },
  {
   "cell_type": "markdown",
   "metadata": {},
   "source": [
    "#### See pick list"
   ]
  },
  {
   "cell_type": "code",
   "execution_count": null,
   "metadata": {},
   "outputs": [],
   "source": []
  },
  {
   "cell_type": "code",
   "execution_count": 66,
   "metadata": {},
   "outputs": [
    {
     "data": {
      "text/html": [
       "<div>\n",
       "<style scoped>\n",
       "    .dataframe tbody tr th:only-of-type {\n",
       "        vertical-align: middle;\n",
       "    }\n",
       "\n",
       "    .dataframe tbody tr th {\n",
       "        vertical-align: top;\n",
       "    }\n",
       "\n",
       "    .dataframe thead th {\n",
       "        text-align: right;\n",
       "    }\n",
       "</style>\n",
       "<table border=\"1\" class=\"dataframe\">\n",
       "  <thead>\n",
       "    <tr style=\"text-align: right;\">\n",
       "      <th></th>\n",
       "      <th>picked_team</th>\n",
       "      <th>opponent</th>\n",
       "      <th>moneyline</th>\n",
       "      <th>spread</th>\n",
       "      <th>win_prob_no_vig</th>\n",
       "      <th>win_prob_espn</th>\n",
       "      <th>sp_prob</th>\n",
       "      <th>elo_prob</th>\n",
       "      <th>start_time</th>\n",
       "      <th>outlet</th>\n",
       "      <th>picked_status</th>\n",
       "      <th>profit_perc</th>\n",
       "    </tr>\n",
       "  </thead>\n",
       "  <tbody>\n",
       "    <tr>\n",
       "      <th>8</th>\n",
       "      <td>Marshall</td>\n",
       "      <td>Georgia State</td>\n",
       "      <td>-235.0</td>\n",
       "      <td>-6.5</td>\n",
       "      <td>0.671955</td>\n",
       "      <td>0.711</td>\n",
       "      <td>0.68</td>\n",
       "      <td>0.603536</td>\n",
       "      <td>10:00:00</td>\n",
       "      <td>ESPN+</td>\n",
       "      <td>home</td>\n",
       "      <td>0.4255</td>\n",
       "    </tr>\n",
       "    <tr>\n",
       "      <th>0</th>\n",
       "      <td>Western Kentucky</td>\n",
       "      <td>Florida Atlantic</td>\n",
       "      <td>-285.0</td>\n",
       "      <td>7.0</td>\n",
       "      <td>0.708289</td>\n",
       "      <td>0.661</td>\n",
       "      <td>0.65</td>\n",
       "      <td>0.872435</td>\n",
       "      <td>10:00:00</td>\n",
       "      <td>CBSSN</td>\n",
       "      <td>away</td>\n",
       "      <td>0.3509</td>\n",
       "    </tr>\n",
       "    <tr>\n",
       "      <th>11</th>\n",
       "      <td>Buffalo</td>\n",
       "      <td>Kent State</td>\n",
       "      <td>-190.0</td>\n",
       "      <td>-4.0</td>\n",
       "      <td>0.628300</td>\n",
       "      <td>0.666</td>\n",
       "      <td>0.65</td>\n",
       "      <td>0.592466</td>\n",
       "      <td>11:00:00</td>\n",
       "      <td>ESPN+</td>\n",
       "      <td>home</td>\n",
       "      <td>0.5263</td>\n",
       "    </tr>\n",
       "    <tr>\n",
       "      <th>16</th>\n",
       "      <td>Louisville</td>\n",
       "      <td>Kentucky</td>\n",
       "      <td>143.0</td>\n",
       "      <td>-3.5</td>\n",
       "      <td>0.395257</td>\n",
       "      <td>0.560</td>\n",
       "      <td>0.48</td>\n",
       "      <td>0.708166</td>\n",
       "      <td>13:00:00</td>\n",
       "      <td>SECN</td>\n",
       "      <td>away</td>\n",
       "      <td>1.4300</td>\n",
       "    </tr>\n",
       "    <tr>\n",
       "      <th>22</th>\n",
       "      <td>Minnesota</td>\n",
       "      <td>Wisconsin</td>\n",
       "      <td>143.0</td>\n",
       "      <td>-3.5</td>\n",
       "      <td>0.395257</td>\n",
       "      <td>0.464</td>\n",
       "      <td>0.60</td>\n",
       "      <td>0.554469</td>\n",
       "      <td>13:30:00</td>\n",
       "      <td>ESPN</td>\n",
       "      <td>away</td>\n",
       "      <td>1.4300</td>\n",
       "    </tr>\n",
       "    <tr>\n",
       "      <th>24</th>\n",
       "      <td>Memphis</td>\n",
       "      <td>SMU</td>\n",
       "      <td>158.0</td>\n",
       "      <td>-4.5</td>\n",
       "      <td>0.371700</td>\n",
       "      <td>0.445</td>\n",
       "      <td>0.54</td>\n",
       "      <td>0.464084</td>\n",
       "      <td>13:30:00</td>\n",
       "      <td></td>\n",
       "      <td>away</td>\n",
       "      <td>1.5800</td>\n",
       "    </tr>\n",
       "    <tr>\n",
       "      <th>27</th>\n",
       "      <td>Utah</td>\n",
       "      <td>Colorado</td>\n",
       "      <td>0.0</td>\n",
       "      <td>29.5</td>\n",
       "      <td>NaN</td>\n",
       "      <td>0.980</td>\n",
       "      <td>0.98</td>\n",
       "      <td>0.996848</td>\n",
       "      <td>14:00:00</td>\n",
       "      <td>PAC12</td>\n",
       "      <td>away</td>\n",
       "      <td>-1.0000</td>\n",
       "    </tr>\n",
       "    <tr>\n",
       "      <th>30</th>\n",
       "      <td>Southern Mississippi</td>\n",
       "      <td>Louisiana Monroe</td>\n",
       "      <td>-170.0</td>\n",
       "      <td>3.0</td>\n",
       "      <td>0.604743</td>\n",
       "      <td>0.606</td>\n",
       "      <td>0.70</td>\n",
       "      <td>0.721078</td>\n",
       "      <td>15:00:00</td>\n",
       "      <td>ESPN+</td>\n",
       "      <td>away</td>\n",
       "      <td>0.5882</td>\n",
       "    </tr>\n",
       "    <tr>\n",
       "      <th>31</th>\n",
       "      <td>Louisiana</td>\n",
       "      <td>Texas State</td>\n",
       "      <td>-210.0</td>\n",
       "      <td>5.5</td>\n",
       "      <td>0.650704</td>\n",
       "      <td>0.627</td>\n",
       "      <td>0.65</td>\n",
       "      <td>0.885877</td>\n",
       "      <td>15:00:00</td>\n",
       "      <td>ESPN+</td>\n",
       "      <td>away</td>\n",
       "      <td>0.4762</td>\n",
       "    </tr>\n",
       "    <tr>\n",
       "      <th>33</th>\n",
       "      <td>Appalachian State</td>\n",
       "      <td>Georgia Southern</td>\n",
       "      <td>-210.0</td>\n",
       "      <td>5.5</td>\n",
       "      <td>0.650704</td>\n",
       "      <td>0.630</td>\n",
       "      <td>0.67</td>\n",
       "      <td>0.813612</td>\n",
       "      <td>16:00:00</td>\n",
       "      <td>ESPN+</td>\n",
       "      <td>away</td>\n",
       "      <td>0.4762</td>\n",
       "    </tr>\n",
       "    <tr>\n",
       "      <th>44</th>\n",
       "      <td>Air Force</td>\n",
       "      <td>San Diego State</td>\n",
       "      <td>-130.0</td>\n",
       "      <td>2.0</td>\n",
       "      <td>0.542744</td>\n",
       "      <td>0.614</td>\n",
       "      <td>0.64</td>\n",
       "      <td>0.836043</td>\n",
       "      <td>19:00:00</td>\n",
       "      <td>CBSSN</td>\n",
       "      <td>away</td>\n",
       "      <td>0.7692</td>\n",
       "    </tr>\n",
       "  </tbody>\n",
       "</table>\n",
       "</div>"
      ],
      "text/plain": [
       "             picked_team          opponent  moneyline  spread  \\\n",
       "8               Marshall     Georgia State     -235.0    -6.5   \n",
       "0       Western Kentucky  Florida Atlantic     -285.0     7.0   \n",
       "11               Buffalo        Kent State     -190.0    -4.0   \n",
       "16            Louisville          Kentucky      143.0    -3.5   \n",
       "22             Minnesota         Wisconsin      143.0    -3.5   \n",
       "24               Memphis               SMU      158.0    -4.5   \n",
       "27                  Utah          Colorado        0.0    29.5   \n",
       "30  Southern Mississippi  Louisiana Monroe     -170.0     3.0   \n",
       "31             Louisiana       Texas State     -210.0     5.5   \n",
       "33     Appalachian State  Georgia Southern     -210.0     5.5   \n",
       "44             Air Force   San Diego State     -130.0     2.0   \n",
       "\n",
       "    win_prob_no_vig  win_prob_espn  sp_prob  elo_prob start_time outlet  \\\n",
       "8          0.671955          0.711     0.68  0.603536   10:00:00  ESPN+   \n",
       "0          0.708289          0.661     0.65  0.872435   10:00:00  CBSSN   \n",
       "11         0.628300          0.666     0.65  0.592466   11:00:00  ESPN+   \n",
       "16         0.395257          0.560     0.48  0.708166   13:00:00   SECN   \n",
       "22         0.395257          0.464     0.60  0.554469   13:30:00   ESPN   \n",
       "24         0.371700          0.445     0.54  0.464084   13:30:00          \n",
       "27              NaN          0.980     0.98  0.996848   14:00:00  PAC12   \n",
       "30         0.604743          0.606     0.70  0.721078   15:00:00  ESPN+   \n",
       "31         0.650704          0.627     0.65  0.885877   15:00:00  ESPN+   \n",
       "33         0.650704          0.630     0.67  0.813612   16:00:00  ESPN+   \n",
       "44         0.542744          0.614     0.64  0.836043   19:00:00  CBSSN   \n",
       "\n",
       "   picked_status  profit_perc  \n",
       "8           home       0.4255  \n",
       "0           away       0.3509  \n",
       "11          home       0.5263  \n",
       "16          away       1.4300  \n",
       "22          away       1.4300  \n",
       "24          away       1.5800  \n",
       "27          away      -1.0000  \n",
       "30          away       0.5882  \n",
       "31          away       0.4762  \n",
       "33          away       0.4762  \n",
       "44          away       0.7692  "
      ]
     },
     "execution_count": 66,
     "metadata": {},
     "output_type": "execute_result"
    }
   ],
   "source": [
    "# make profit column for viewing\n",
    "picks_df['profit_perc'] = [round((amer_odds_to_decimal(i)-1), 4) for i in picks_df['moneyline'].to_list()]\n",
    "\n",
    "# see new picks in dataframe legs in dataframe in this notebook\n",
    "picks_df.sort_values('start_time')"
   ]
  },
  {
   "cell_type": "code",
   "execution_count": null,
   "metadata": {},
   "outputs": [],
   "source": [
    "# remove any teams if news, not feeling it, etc\n",
    "remove_team_list = ['Coastal Carolina', 'Iowa State','Utah', 'California', 'Florida Atlantic']\n",
    "if len(remove_team_list)>0:\n",
    "    picks_df = picks_df[~picks_df['picked_team'].isin(remove_team_list)]\n",
    "picks_df.sort_values('start_time')"
   ]
  },
  {
   "cell_type": "code",
   "execution_count": null,
   "metadata": {},
   "outputs": [],
   "source": [
    "# export dataframe to csv\n",
    "picks_df.to_csv('./output/' + df_name_prefix + '.picks.csv', index = False)"
   ]
  },
  {
   "cell_type": "markdown",
   "metadata": {},
   "source": [
    "#### Mimic Excel Sheet\n",
    "- Determine if ML only bet, Spread only bet, or split\n",
    "\n",
    "\n",
    "ML Only:\n",
    "- If ML > 0 (underdog):\n",
    "    - All win prob % are greaer than 50%\n",
    "- If ML < 0 (favored)\n",
    "    - Spread more than 1 (if spread is 1, then makes sense to just do spread)\n",
    "        - If spread is 2 or more, don't want to go spread only since team can still win ouright and lose spread\n",
    "    - All greater than 50%\n",
    "\n",
    "Spread Only:\n",
    "- If only two win prob %'s are greater than 50%, and the ML only is not TRUE\n",
    "\n",
    "- Spread = 1\n",
    "- All win probabilities greater than 55%\n",
    "\n",
    "\n",
    "Split:\n",
    "- If both above are FALSE"
   ]
  },
  {
   "cell_type": "code",
   "execution_count": null,
   "metadata": {},
   "outputs": [],
   "source": [
    "ml_only_index = picks_df[(picks_df['win_prob_espn'] > .5) &\\\n",
    "                         (picks_df['sp_prob'] > .5) &\\\n",
    "                         (picks_df['elo_prob'] > .5)&\\\n",
    "                         (picks_df['moneyline'] > 0)].index\n",
    "\n",
    "picks_df['ml_only'] = picks_df.index.isin(ml_only_index)"
   ]
  },
  {
   "cell_type": "code",
   "execution_count": null,
   "metadata": {},
   "outputs": [],
   "source": [
    "picks_df['ml_only']"
   ]
  },
  {
   "cell_type": "code",
   "execution_count": null,
   "metadata": {},
   "outputs": [],
   "source": [
    "picks_df[\n",
    "    ((picks_df['win_prob_espn'] > .5) &\\\n",
    "     (picks_df['sp_prob'] > .5)) |\\\n",
    "    ((picks_df['win_prob_espn'] > .5) &\\\n",
    "     (picks_df['elo_prob'] > .5)) |\\\n",
    "    ((picks_df['sp_prob'] > .5) &\\\n",
    "     (picks_df['elo_prob'] > .5)) &\\\n",
    "    ~picks_df.index.isin(ml_only_index)\n",
    "]\n"
   ]
  },
  {
   "cell_type": "code",
   "execution_count": null,
   "metadata": {},
   "outputs": [],
   "source": [
    "spread__only_index = picks_df[(picks_df['win_prob_espn'] > .5) &\\\n",
    "    (picks_df['sp_prob'] > .5) &\\\n",
    "    (picks_df['elo_prob'] > .5)].index\n",
    "\n",
    "picks_df['ml_only'] = picks_df.index.isin(spread__only_index)"
   ]
  },
  {
   "cell_type": "code",
   "execution_count": null,
   "metadata": {},
   "outputs": [],
   "source": [
    "picks_df[picks_df['ml_only']==True]"
   ]
  },
  {
   "cell_type": "markdown",
   "metadata": {
    "tags": []
   },
   "source": [
    "## Parlay Maker\n",
    "1. Parlay all the above into one parlay. This can be considered a \"100% win bonus\". Wager = 2 dollars (minimum for parlay)\n",
    "2. Add 1 to 2 \"hail mary\" underdogs to parlay parlay 2. Want <b>realistic</b> underdogs, and ideally at home. These will increase payout exponentially with a minimum increased risk. Wager = 2 (minimum for parlay)"
   ]
  },
  {
   "cell_type": "markdown",
   "metadata": {
    "tags": []
   },
   "source": [
    "### Parlay 1: Generate the parlay with the above picks"
   ]
  },
  {
   "cell_type": "code",
   "execution_count": null,
   "metadata": {},
   "outputs": [],
   "source": [
    "# make a parlay list of moneylines\n",
    "#parlay_list = betting_df[betting_df['home_team'].isin(betting_df_v2['home_team'])]['home_moneyline'].to_list()\n",
    "parlay_list = picks_df['moneyline'].to_list()\n",
    "# save calculated multiplier for the parlay\n",
    "multiplier = int(parlay_multiplier(parlay_list))\n",
    "# save pretty list of teams\n",
    "team_parlay_list = picks_df['picked_team'].to_list()\n",
    "\n",
    "\n",
    "bet = 2\n",
    "payout = bet*multiplier\n",
    "\n",
    "print('Parlay 1:')\n",
    "print()\n",
    "\n",
    "print('Bet: ', \"${:0,.0f}\".format(bet))\n",
    "print('Number of legs: ' + str(len(parlay_list)))\n",
    "print('Multiplier: ', \"+{:0,.0f}\".format(multiplier))\n",
    "print()\n",
    "print('Payout: ', \"${:0,.0f}\".format(payout))\n",
    "\n",
    "print()\n",
    "print(team_parlay_list)"
   ]
  },
  {
   "cell_type": "markdown",
   "metadata": {
    "tags": []
   },
   "source": [
    "### Parlay 2: Add 1 to 2 \"Hail Mary\" picks\n",
    "\n",
    "Attempting the chance at a lotto parlay (very high payout on $2 bet). Do this by adding 1 to 2 underdogs so the payout increases.\n",
    "\n",
    "Want to see all of them, but sort by moneyline odds.\n",
    "\n",
    "Possible to select on \"after dark games\" for the opportunity to hedge?"
   ]
  },
  {
   "cell_type": "markdown",
   "metadata": {
    "tags": []
   },
   "source": [
    "#### Home Underdog Lotto\n",
    "Get home underdogs, but exclude those included in parlay 1"
   ]
  },
  {
   "cell_type": "code",
   "execution_count": null,
   "metadata": {},
   "outputs": [],
   "source": [
    "display_cols = ['home_team','home_moneyline_final', 'Proj. margin', 'home_win_prob_no_vig_final', 'home_win_prob_espn',\\\n",
    "                'home_win_prob_sp', 'home_elo_prob', 'win_loss_home','home_win_%', 'away_team','away_win_prob_no_vig_final', \\\n",
    "                'away_win_prob_espn', 'away_win_prob_sp', 'away_elo_prob', 'win_loss_away', 'away_win_%']\n",
    "betting_df[(~betting_df['home_team'].isin(team_parlay_list)) & (betting_df['home_moneyline_final']>0)][display_cols].sort_values('home_moneyline_final')"
   ]
  },
  {
   "cell_type": "code",
   "execution_count": null,
   "metadata": {},
   "outputs": [],
   "source": [
    "# home hail mary selections\n",
    "# don't need to add any here if will add in hail mary away list below\n",
    "hail_mary_home_list = ['West Virginia', 'Kansas'] \n",
    "\n",
    "if len(hail_mary_home_list) == 0:\n",
    "    parlay_list = parlay_list\n",
    "    team_parlay_list = team_parlay_list\n",
    "elif len(hail_mary_home_list) > 0:\n",
    "    parlay_new_odds_list = betting_df[betting_df['home_team'].isin(hail_mary_home_list)]['home_moneyline_final'].to_list()\n",
    "    parlay_list = parlay_list + parlay_new_odds_list\n",
    "    team_parlay_list = team_parlay_list + hail_mary_home_list"
   ]
  },
  {
   "cell_type": "markdown",
   "metadata": {
    "tags": []
   },
   "source": [
    "#### Away Underdogs"
   ]
  },
  {
   "cell_type": "code",
   "execution_count": null,
   "metadata": {
    "tags": []
   },
   "outputs": [],
   "source": [
    "# colummns to see in this dataframe\n",
    "display_cols = [ 'away_team', 'away_moneyline_final', 'away_win_prob_no_vig_final', \\\n",
    "                'away_win_prob_espn', 'away_win_prob_sp', 'away_elo_prob', 'win_loss_away', 'away_win_%',\\\n",
    "                'home_team','home_moneyline_final', 'Proj. margin', 'home_win_prob_no_vig_final', 'home_win_prob_espn',\\\n",
    "                'home_win_prob_sp', 'home_elo_prob', 'win_loss_home','home_win_%']\n",
    "betting_df[(betting_df['away_moneyline_final']>0)][display_cols].sort_values('away_moneyline_final')"
   ]
  },
  {
   "cell_type": "code",
   "execution_count": null,
   "metadata": {},
   "outputs": [],
   "source": [
    "# away hail mary selections\n",
    "# don't need to add any here if added in hail mary home list\n",
    "hail_mary_away_list = ['Utah']\n",
    "\n",
    "if len(hail_mary_away_list) == 0:\n",
    "    parlay_list = parlay_list\n",
    "    team_parlay_list = team_parlay_list\n",
    "elif len(hail_mary_away_list) > 0:\n",
    "    parlay_new_odds_list = betting_df[betting_df['away_team'].isin(hail_mary_away_list)]['away_moneyline_final'].to_list()\n",
    "    parlay_list = parlay_list + parlay_new_odds_list\n",
    "    team_parlay_list = team_parlay_list + hail_mary_away_list\n",
    "\n",
    "multiplier = int(parlay_multiplier(parlay_list))"
   ]
  },
  {
   "cell_type": "markdown",
   "metadata": {},
   "source": [
    "#### Get new parlay payout"
   ]
  },
  {
   "cell_type": "code",
   "execution_count": null,
   "metadata": {},
   "outputs": [],
   "source": [
    "bet = 2\n",
    "payout = bet*multiplier\n",
    "\n",
    "print('Parlay 2:')\n",
    "print()\n",
    "\n",
    "print('Bet: ', \"${:0,.0f}\".format(bet))\n",
    "print('Number of legs: ' + str(len(parlay_list)))\n",
    "print('Multiplier: ', \"+{:0,.0f}\".format(multiplier))\n",
    "print()\n",
    "print('Odds: ', \"+{:0,.0f}\".format(multiplier*100))\n",
    "print('Payout: ', \"${:0,.0f}\".format(payout))\n",
    "\n",
    "print()\n",
    "print(team_parlay_list)\n",
    "print()\n",
    "\n",
    "display_cols = ['start_time','outlet', 'home_team', 'home_moneyline_final', 'home_win_prob_no_vig_final', \\\n",
    "                'away_team', 'away_moneyline_final','away_win_prob_no_vig_final']\n",
    "# output final parlay to csv\n",
    "betting_df[(betting_df['home_team'].isin(team_parlay_list)) | (betting_df['away_team'].isin(team_parlay_list))]\\\n",
    "    [display_cols].to_csv('./output/' + df_name_prefix + '.parlay_final.csv', index = False)\n",
    "betting_df[(betting_df['home_team'].isin(team_parlay_list)) | (betting_df['away_team'].isin(team_parlay_list))][display_cols];"
   ]
  },
  {
   "cell_type": "code",
   "execution_count": null,
   "metadata": {},
   "outputs": [],
   "source": []
  },
  {
   "cell_type": "code",
   "execution_count": null,
   "metadata": {},
   "outputs": [],
   "source": []
  },
  {
   "cell_type": "code",
   "execution_count": null,
   "metadata": {},
   "outputs": [],
   "source": []
  },
  {
   "cell_type": "markdown",
   "metadata": {
    "tags": []
   },
   "source": [
    "# Notes from trying to back test\n",
    "\n",
    "1. Records are not in line with week tested. They are only up to current time. If back test need to create new win loss\n",
    "\n"
   ]
  },
  {
   "cell_type": "markdown",
   "metadata": {},
   "source": [
    "#### Get data from ESPN's from pick center"
   ]
  },
  {
   "cell_type": "code",
   "execution_count": null,
   "metadata": {},
   "outputs": [],
   "source": [
    "import requests\n",
    "session = requests.Session()\n",
    "\n",
    "# Create the payload\n",
    "payload = {'email':'re4693go@gmail.com',\n",
    "          'password':'BNg3!@^j4^wz'\n",
    "         }\n",
    "\n",
    "# Post the payload to the site to log in\n",
    "s = session.post(\"https://www.espn.com/login/?returnURL=https://www.espn.com/insider/pickcenter\", data=payload)\n",
    "\n",
    "# Navigate to the next page and scrape the data\n",
    "s = session.get('https://insider.espn.com/insider/pickcenter/ncf/game?gameid=401404103')"
   ]
  },
  {
   "cell_type": "code",
   "execution_count": null,
   "metadata": {
    "tags": []
   },
   "outputs": [],
   "source": []
  },
  {
   "cell_type": "code",
   "execution_count": null,
   "metadata": {
    "tags": []
   },
   "outputs": [],
   "source": []
  },
  {
   "cell_type": "code",
   "execution_count": null,
   "metadata": {},
   "outputs": [],
   "source": []
  },
  {
   "cell_type": "code",
   "execution_count": null,
   "metadata": {},
   "outputs": [],
   "source": [
    "link = 'https://insider.espn.com/insider/pickcenter/ncf/game?gameid=401404103'"
   ]
  },
  {
   "cell_type": "code",
   "execution_count": null,
   "metadata": {},
   "outputs": [],
   "source": [
    "page = requests.get(link)\n",
    "soup = BeautifulSoup(page.content, \"html.parser\")"
   ]
  },
  {
   "cell_type": "code",
   "execution_count": null,
   "metadata": {
    "tags": []
   },
   "outputs": [],
   "source": [
    "soup.find_all('div', class_='percent')"
   ]
  },
  {
   "cell_type": "markdown",
   "metadata": {},
   "source": [
    "#### Validate # of games on espn website vs dataframe"
   ]
  },
  {
   "cell_type": "code",
   "execution_count": null,
   "metadata": {},
   "outputs": [],
   "source": [
    "# check length of dataframe to see if it includes everything\n",
    "# compare against scraped espn scoreboard\n",
    "len(betting_df)"
   ]
  },
  {
   "cell_type": "code",
   "execution_count": null,
   "metadata": {},
   "outputs": [],
   "source": [
    "# 'https://www.espn.com/college-football/schedule/_/week/10/year/2022/seasontype/2'\n",
    "espn_game_num = "
   ]
  },
  {
   "cell_type": "code",
   "execution_count": null,
   "metadata": {},
   "outputs": [],
   "source": [
    "'https://www.espn.com/college-football/schedule/_/week/10/year/2022/seasontype/2'\n",
    "scoreboard_url = 'https://www.espn.com/college-football/schedule/_/week/' + str(week_num) + \\\n",
    "    '/year/' + str(year_num) + '/seasontype/2'\n",
    "page = requests.get(scoreboard_url)\n",
    "soup = BeautifulSoup(page.content, \"html.parser\")\n",
    "\n",
    "\n",
    "# use the beautiful soup object to parse\n",
    "#results = soup.find(id='gamepackage-pick-center')\n",
    "# find home team data and add to lists\n",
    "# home team data\n",
    "#home_data = results.find_all('tr', class_='hometeam')"
   ]
  },
  {
   "cell_type": "code",
   "execution_count": null,
   "metadata": {},
   "outputs": [],
   "source": []
  },
  {
   "cell_type": "code",
   "execution_count": null,
   "metadata": {
    "tags": []
   },
   "outputs": [],
   "source": [
    "day_data = soup.find_all('tr', class_='Table__TR Table__TR--sm Table__even')\n",
    "for i in day_data:\n",
    "    print(i)\n",
    "    print()\n"
   ]
  }
 ],
 "metadata": {
  "kernelspec": {
   "display_name": "Python 3",
   "language": "python",
   "name": "python3"
  },
  "language_info": {
   "codemirror_mode": {
    "name": "ipython",
    "version": 3
   },
   "file_extension": ".py",
   "mimetype": "text/x-python",
   "name": "python",
   "nbconvert_exporter": "python",
   "pygments_lexer": "ipython3",
   "version": "3.7.4"
  }
 },
 "nbformat": 4,
 "nbformat_minor": 5
}
