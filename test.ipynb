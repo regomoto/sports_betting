{
 "cells": [
  {
   "cell_type": "markdown",
   "id": "4e8bf1aa-a833-4c95-9fd8-bb9dc5b378db",
   "metadata": {},
   "source": [
    "# Testing for sports betting"
   ]
  },
  {
   "cell_type": "code",
   "execution_count": 11,
   "id": "8daec461-a5a9-434d-a630-afa87c5e18fe",
   "metadata": {},
   "outputs": [],
   "source": [
    "# set odds as variables\n",
    "odds_neg = -119\n",
    "odds_pos = 106"
   ]
  },
  {
   "cell_type": "code",
   "execution_count": 12,
   "id": "bd404d07-d280-449e-b39d-83892d7a02eb",
   "metadata": {},
   "outputs": [],
   "source": [
    "# calculate probablity from negative odds\n",
    "win_prob_neg = (-1*(odds_neg)) / (-1*(odds_neg) + 100)\n",
    "\n",
    "# calculate probablity from positive odds\n",
    "win_prob_pos = 100 / (odds_pos + 100)"
   ]
  },
  {
   "cell_type": "code",
   "execution_count": 13,
   "id": "e763d43d-4239-487a-8adc-c89c867da7f6",
   "metadata": {},
   "outputs": [
    {
     "name": "stdout",
     "output_type": "stream",
     "text": [
      "0.54337899543379\n",
      "0.4854368932038835\n"
     ]
    }
   ],
   "source": [
    "print(win_prob_neg)\n",
    "print(win_prob_pos)"
   ]
  },
  {
   "cell_type": "markdown",
   "id": "ad755e99-3aee-4482-b38e-342dc0e134f3",
   "metadata": {},
   "source": [
    "### Betting edge\n",
    "\n",
    "aka \"Juice\"\n",
    "\n",
    "https://www.bettheboardpodcast.com/2017/11/21/how-to-calculate-your-edge-to-determine-if-you-should-place-a-bet/"
   ]
  },
  {
   "cell_type": "code",
   "execution_count": 16,
   "id": "0689bee7-6167-4710-a18c-6922f0cd3704",
   "metadata": {},
   "outputs": [
    {
     "data": {
      "text/plain": [
       "0.02881588863767348"
      ]
     },
     "execution_count": 16,
     "metadata": {},
     "output_type": "execute_result"
    }
   ],
   "source": [
    "(win_prob_neg + win_prob_pos) - 1"
   ]
  },
  {
   "cell_type": "code",
   "execution_count": null,
   "id": "6f8ba78f-8b87-43fa-8d41-e3f246f55f85",
   "metadata": {},
   "outputs": [],
   "source": []
  },
  {
   "cell_type": "code",
   "execution_count": null,
   "id": "fa96bafa-a46c-451f-a2c9-fbdd0655f166",
   "metadata": {},
   "outputs": [],
   "source": []
  },
  {
   "cell_type": "code",
   "execution_count": null,
   "id": "adc13f05-0f68-41ae-8767-0a9170fca56d",
   "metadata": {},
   "outputs": [],
   "source": []
  },
  {
   "cell_type": "code",
   "execution_count": null,
   "id": "835b10b0-d666-49ef-9a60-0dd987e2321d",
   "metadata": {},
   "outputs": [],
   "source": []
  }
 ],
 "metadata": {
  "kernelspec": {
   "display_name": "Python 3 (ipykernel)",
   "language": "python",
   "name": "python3"
  },
  "language_info": {
   "codemirror_mode": {
    "name": "ipython",
    "version": 3
   },
   "file_extension": ".py",
   "mimetype": "text/x-python",
   "name": "python",
   "nbconvert_exporter": "python",
   "pygments_lexer": "ipython3",
   "version": "3.9.12"
  }
 },
 "nbformat": 4,
 "nbformat_minor": 5
}
