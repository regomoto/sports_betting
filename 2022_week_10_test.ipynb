{
 "cells": [
  {
   "cell_type": "markdown",
   "id": "9538aafb-c3e4-4544-bf75-f3e418359969",
   "metadata": {
    "tags": []
   },
   "source": [
    "# CFB Week 10 Methods Testing"
   ]
  },
  {
   "cell_type": "markdown",
   "id": "8b966fc2-02d4-4a91-a842-ba8d375dccd8",
   "metadata": {
    "tags": []
   },
   "source": [
    "### <font color='orange'>UPDATE COLLEGE FOOTBALL WEEK NUMBER HERE</font>\n",
    "Cell below contains week number and year for filtering API data. \n",
    "\n",
    "sat_day_num is used for getting the day of the month for this week's football games since don't want to bet on Thursday or Friday games\n",
    "\n",
    "df_name_prefix is how the file names for exported dataframes will be stored as so it is easy to know what I am looking at before opening and for sorting later"
   ]
  },
  {
   "cell_type": "code",
   "execution_count": 1,
   "id": "06227190-97d6-45ab-98ae-a9f2c795a690",
   "metadata": {},
   "outputs": [],
   "source": [
    "year_num = 2022\n",
    "week_num = 10\n",
    "sat_day_num = 5\n",
    "df_name_prefix = 'cfb.' + str(year_num) + '.' + str(week_num)"
   ]
  },
  {
   "cell_type": "markdown",
   "id": "20dd407d-5fd8-40d2-b6f9-35efe79306b0",
   "metadata": {
    "tags": []
   },
   "source": [
    "### Import libraries"
   ]
  },
  {
   "cell_type": "code",
   "execution_count": 2,
   "id": "89ac47a4-b7f8-4610-87eb-e7670992e2ee",
   "metadata": {},
   "outputs": [],
   "source": [
    "import pandas as pd\n",
    "import requests\n",
    "import json\n",
    "import os\n",
    "import numpy as np\n",
    "from bs4 import BeautifulSoup\n",
    "import config"
   ]
  },
  {
   "cell_type": "code",
   "execution_count": 3,
   "id": "85493d31-d41c-4ff7-a0ad-82fcd83807f3",
   "metadata": {},
   "outputs": [],
   "source": [
    "# cfbd imports\n",
    "from __future__ import print_function\n",
    "import time\n",
    "import cfbd\n",
    "from cfbd.rest import ApiException\n",
    "from pprint import pprint"
   ]
  },
  {
   "cell_type": "code",
   "execution_count": 4,
   "id": "a756d822-6620-4d75-82b5-3a01a0d046d3",
   "metadata": {},
   "outputs": [],
   "source": [
    "# import custom formulas\n",
    "from cfbd_transform import betting_api_dataframe\n",
    "from equations import parlay_multiplier, amer_odds_to_prob, amer_odds_to_decimal"
   ]
  },
  {
   "cell_type": "markdown",
   "id": "6efb14cc-a916-4942-b91d-cdfa763007ae",
   "metadata": {
    "tags": []
   },
   "source": [
    "### Set up environment"
   ]
  },
  {
   "cell_type": "code",
   "execution_count": 5,
   "id": "16379361-ff73-4cd3-98c9-14c324c3c601",
   "metadata": {},
   "outputs": [],
   "source": [
    "# set env variable. need to fill in own\n",
    "os.environ['api_key'] = config.api_key"
   ]
  },
  {
   "cell_type": "code",
   "execution_count": 6,
   "id": "9b38887c-756e-4983-b33f-a2d89a809a06",
   "metadata": {},
   "outputs": [],
   "source": [
    "# Configure API key authorization: ApiKeyAuth\n",
    "configuration = cfbd.Configuration()\n",
    "configuration.api_key['Authorization'] = os.getenv('api_key')\n",
    "configuration.api_key_prefix['Authorization'] = 'Bearer'"
   ]
  },
  {
   "cell_type": "markdown",
   "id": "8de96aa8-3e5a-4f8c-a4ba-90c4b00fb610",
   "metadata": {
    "tags": []
   },
   "source": [
    "## Import and Transform Data"
   ]
  },
  {
   "cell_type": "markdown",
   "id": "d97164ef-753c-4e3d-960e-733b32ba8a5f",
   "metadata": {
    "jp-MarkdownHeadingCollapsed": true,
    "tags": []
   },
   "source": [
    "### Import Rankings"
   ]
  },
  {
   "cell_type": "code",
   "execution_count": 7,
   "id": "781e6a8a-3f50-4e0a-a921-44f65bb10bde",
   "metadata": {
    "tags": []
   },
   "outputs": [],
   "source": [
    "# getting FBS ranking\n",
    "rankings_api = cfbd.RankingsApi(cfbd.ApiClient(configuration))\n",
    "rankings_api_response = rankings_api.get_rankings(year = year_num, \\\n",
    "                                                  week = week_num, \\\n",
    "                                                  season_type='regular')\n",
    "\n",
    "# save result into dataframe/ convert from json\n",
    "rankings_df = pd.DataFrame.from_records([t.to_dict() for t in rankings_api_response])\n",
    "\n",
    "# save as dataframe in better formatting\n",
    "rankings_df = pd.DataFrame.from_dict(rankings_df['polls'][0])\n",
    "\n",
    "# excluding polls for FCS and levels below that\n",
    "poll_exclude = ['FCS Coaches Poll','AFCA Division II Coaches Poll','AFCA Division III Coaches Poll']\n",
    "rankings_df = rankings_df[~rankings_df['poll'].isin(poll_exclude)]\n",
    "\n",
    "# coaches poll\n",
    "poll = 'Coaches Poll'\n",
    "index_num = rankings_df[rankings_df['poll']==poll].index[0]\n",
    "coaches_poll_df = pd.DataFrame(rankings_df[rankings_df['poll']==poll]['ranks'][index_num])\n",
    "coaches_poll_df['poll_name'] = poll\n",
    "\n",
    "# AP Top 25 poll\n",
    "poll = 'AP Top 25'\n",
    "index_num = rankings_df[rankings_df['poll']==poll].index[0]\n",
    "ap_poll_df = pd.DataFrame(rankings_df[rankings_df['poll']==poll]['ranks'][index_num])\n",
    "ap_poll_df['poll_name'] = poll"
   ]
  },
  {
   "cell_type": "markdown",
   "id": "a2e72fc4-6519-47a2-a56c-1349c1c0c87c",
   "metadata": {
    "jp-MarkdownHeadingCollapsed": true,
    "tags": []
   },
   "source": [
    "### Import Team Records"
   ]
  },
  {
   "cell_type": "code",
   "execution_count": 8,
   "id": "ffbf83ab-5132-4c21-9091-e0b5394b496d",
   "metadata": {},
   "outputs": [],
   "source": [
    "# getting FBS ranking\n",
    "rankings_api = cfbd.RankingsApi(cfbd.ApiClient(configuration))\n",
    "rankings_api_response = rankings_api.get_rankings(year = year_num, \\\n",
    "                                                  week = week_num, \\\n",
    "                                                  season_type='regular')"
   ]
  },
  {
   "cell_type": "code",
   "execution_count": 9,
   "id": "4e0c4ff7-259f-4066-9833-af877e3090f4",
   "metadata": {},
   "outputs": [],
   "source": [
    "# get team win loss records\n",
    "games_api = cfbd.GamesApi(cfbd.ApiClient(configuration))\n",
    "games_api_response = games_api.get_team_records(year = year_num)\n",
    "\n",
    "team_record_df = pd.DataFrame.from_records([g.to_dict() for g in games_api_response])"
   ]
  },
  {
   "cell_type": "code",
   "execution_count": 10,
   "id": "eae682e4-fe09-4932-a024-fd95c2b19c47",
   "metadata": {},
   "outputs": [],
   "source": [
    "# parse toal win loss column\n",
    "win_loss = []\n",
    "for i in team_record_df['total'].apply(pd.Series).columns.values:\n",
    "    win_loss.append('total_'+i)\n",
    "    \n",
    "total_win_loss_df = team_record_df['total'].apply(pd.Series)\n",
    "total_win_loss_df.columns = win_loss\n",
    "\n",
    "# append to original dataframe\n",
    "team_record_df = team_record_df.merge(total_win_loss_df, left_index=True, right_index=True).drop(columns=['total'])"
   ]
  },
  {
   "cell_type": "code",
   "execution_count": 11,
   "id": "adc13c6b-77fb-4103-8d74-658f4d5198e4",
   "metadata": {},
   "outputs": [],
   "source": [
    "# make a W-L text field\n",
    "team_record_df['win_loss'] = team_record_df['total_wins'].astype(str) + '-' + \\\n",
    "    team_record_df['total_losses'].astype(str) + '-' + team_record_df['total_ties'].astype(str)"
   ]
  },
  {
   "cell_type": "code",
   "execution_count": 12,
   "id": "27564e4a-0457-48f7-9f76-1187c96dc7f2",
   "metadata": {
    "tags": []
   },
   "outputs": [],
   "source": [
    "# home win %\n",
    "home_win_perc = team_record_df['home_games'].apply(pd.Series)[['games','wins']]\n",
    "home_win_perc['home_win_%'] = round((home_win_perc['wins'] / home_win_perc['games'])*100, 2)\n",
    "\n",
    "# append to original dataframe\n",
    "team_record_df = team_record_df.merge(home_win_perc['home_win_%'], left_index=True, right_index=True)#.drop(columns=['home_games'])\n"
   ]
  },
  {
   "cell_type": "code",
   "execution_count": 13,
   "id": "e5b9b7b0-f1d1-43cf-a37e-2b1b7f3aad2c",
   "metadata": {},
   "outputs": [],
   "source": [
    "# road win %\n",
    "away_win_perc = team_record_df['away_games'].apply(pd.Series)[['games','wins']]\n",
    "away_win_perc['away_win_%'] = round((away_win_perc['wins'] / away_win_perc['games'])*100, 2)\n",
    "\n",
    "# append to original dataframe\n",
    "team_record_df = team_record_df.merge(away_win_perc['away_win_%'], left_index=True, right_index=True)#.drop(columns=['away_games'])\n"
   ]
  },
  {
   "cell_type": "code",
   "execution_count": 14,
   "id": "212765a1-6419-4dcb-9864-5f1aa13fd139",
   "metadata": {},
   "outputs": [],
   "source": [
    "col_list = ['team', 'conference','win_loss','home_win_%','away_win_%','expected_wins']\n",
    "team_record_df = team_record_df[col_list]"
   ]
  },
  {
   "cell_type": "code",
   "execution_count": 15,
   "id": "aea6c5fd-e372-4631-978c-6161ac95d3ba",
   "metadata": {
    "tags": []
   },
   "outputs": [],
   "source": [
    "# add ap poll inf to team record dataset\n",
    "team_record_df_v2 = pd.merge(team_record_df, ap_poll_df[['school', 'rank', 'first_place_votes', 'points']], \\\n",
    "         how = 'left', left_on = 'team', right_on='school')\n",
    "team_record_df_v2 = team_record_df_v2.rename(columns = {'rank': 'rank_ap', \n",
    "             'first_place_votes': 'first_place_votes_ap', \n",
    "             'points': 'points_ap'})\n",
    "team_record_df_v2.drop(columns='school', inplace = True)"
   ]
  },
  {
   "cell_type": "code",
   "execution_count": 16,
   "id": "42874f86-2483-4775-a9a5-fe2c4c2aa73b",
   "metadata": {},
   "outputs": [],
   "source": [
    "# add coaches poll info to team record dataset\n",
    "team_record_df_v3 = pd.merge(team_record_df_v2, coaches_poll_df[['school', 'rank', 'first_place_votes', 'points']], \\\n",
    "         how = 'left', left_on = 'team', right_on='school')\n",
    "team_record_df_v3 = team_record_df_v3.rename(columns = {'rank': 'rank_coaches', \n",
    "             'first_place_votes': 'first_place_votes_coaches', \n",
    "             'points': 'points_coaches'})\n",
    "team_record_df_v3.drop(columns='school', inplace = True)"
   ]
  },
  {
   "cell_type": "code",
   "execution_count": 17,
   "id": "4f079ce0-c9b8-4c70-81b6-4f65277e8bd8",
   "metadata": {},
   "outputs": [],
   "source": [
    "team_record_df_v4 = team_record_df_v3.fillna('')"
   ]
  },
  {
   "cell_type": "markdown",
   "id": "753a586b-91a4-45d7-a427-42335275b8be",
   "metadata": {
    "jp-MarkdownHeadingCollapsed": true,
    "tags": []
   },
   "source": [
    "### Import ELO"
   ]
  },
  {
   "cell_type": "code",
   "execution_count": 18,
   "id": "eb5fbbb9-d3cc-49cf-ab45-ad0a9282edab",
   "metadata": {},
   "outputs": [],
   "source": [
    "ratings_api = cfbd.RatingsApi(cfbd.ApiClient(configuration))\n",
    "\n",
    "elo_api_response = ratings_api.get_elo_ratings(year = year_num)"
   ]
  },
  {
   "cell_type": "code",
   "execution_count": 19,
   "id": "82063d3e-b01d-4d33-a2d7-7e67db6a8872",
   "metadata": {},
   "outputs": [],
   "source": [
    "elo_df = pd.DataFrame.from_records([t.to_dict() for t in elo_api_response])"
   ]
  },
  {
   "cell_type": "code",
   "execution_count": 20,
   "id": "14de9b07-19a0-4376-9edf-f35ede5beb29",
   "metadata": {},
   "outputs": [
    {
     "data": {
      "text/html": [
       "<div>\n",
       "<style scoped>\n",
       "    .dataframe tbody tr th:only-of-type {\n",
       "        vertical-align: middle;\n",
       "    }\n",
       "\n",
       "    .dataframe tbody tr th {\n",
       "        vertical-align: top;\n",
       "    }\n",
       "\n",
       "    .dataframe thead th {\n",
       "        text-align: right;\n",
       "    }\n",
       "</style>\n",
       "<table border=\"1\" class=\"dataframe\">\n",
       "  <thead>\n",
       "    <tr style=\"text-align: right;\">\n",
       "      <th></th>\n",
       "      <th>year</th>\n",
       "      <th>team</th>\n",
       "      <th>conference</th>\n",
       "      <th>elo</th>\n",
       "    </tr>\n",
       "  </thead>\n",
       "  <tbody>\n",
       "    <tr>\n",
       "      <th>0</th>\n",
       "      <td>2022</td>\n",
       "      <td>Air Force</td>\n",
       "      <td>Mountain West</td>\n",
       "      <td>1744.0</td>\n",
       "    </tr>\n",
       "    <tr>\n",
       "      <th>1</th>\n",
       "      <td>2022</td>\n",
       "      <td>Akron</td>\n",
       "      <td>Mid-American</td>\n",
       "      <td>973.0</td>\n",
       "    </tr>\n",
       "    <tr>\n",
       "      <th>2</th>\n",
       "      <td>2022</td>\n",
       "      <td>Alabama</td>\n",
       "      <td>SEC</td>\n",
       "      <td>2185.0</td>\n",
       "    </tr>\n",
       "    <tr>\n",
       "      <th>3</th>\n",
       "      <td>2022</td>\n",
       "      <td>Appalachian State</td>\n",
       "      <td>Sun Belt</td>\n",
       "      <td>1647.0</td>\n",
       "    </tr>\n",
       "    <tr>\n",
       "      <th>4</th>\n",
       "      <td>2022</td>\n",
       "      <td>Arizona</td>\n",
       "      <td>Pac-12</td>\n",
       "      <td>1332.0</td>\n",
       "    </tr>\n",
       "  </tbody>\n",
       "</table>\n",
       "</div>"
      ],
      "text/plain": [
       "   year               team     conference     elo\n",
       "0  2022          Air Force  Mountain West  1744.0\n",
       "1  2022              Akron   Mid-American   973.0\n",
       "2  2022            Alabama            SEC  2185.0\n",
       "3  2022  Appalachian State       Sun Belt  1647.0\n",
       "4  2022            Arizona         Pac-12  1332.0"
      ]
     },
     "execution_count": 20,
     "metadata": {},
     "output_type": "execute_result"
    }
   ],
   "source": [
    "elo_df.head()"
   ]
  },
  {
   "cell_type": "markdown",
   "id": "165a3745-16a2-4639-b6a4-c921202957c0",
   "metadata": {
    "jp-MarkdownHeadingCollapsed": true,
    "tags": []
   },
   "source": [
    "### Import Week 8 betting information and transform data\n",
    "\n",
    "1) Create an instance of betting API\n",
    "2) Create a start time column that parses the start date column\n",
    "2) Filter for Sat games only if needed\n",
    "3) Filter out Washington schools for now (change if in Vegas)\n",
    "4) Add win loss\n",
    "5) Add media info to see where to watch\n",
    "6) Add poll info\n",
    "7) Add in conference marker\n",
    "8) Merge ELO ratings"
   ]
  },
  {
   "cell_type": "code",
   "execution_count": 21,
   "id": "477049cb-873b-4804-af70-9213cc7e6af6",
   "metadata": {},
   "outputs": [],
   "source": [
    "# use cfbd_transform function\n",
    "betting_df = betting_api_dataframe(configuration = configuration, \\\n",
    "                     week = week_num, \\\n",
    "                     year = year_num)"
   ]
  },
  {
   "cell_type": "code",
   "execution_count": 22,
   "id": "65e4bc93-4879-4898-8d78-15f315ee00b5",
   "metadata": {},
   "outputs": [],
   "source": [
    "# create a start_time column\n",
    "betting_df['start_time'] = betting_df['start_date'].dt.time"
   ]
  },
  {
   "cell_type": "code",
   "execution_count": 23,
   "id": "2cb2a9b5-931a-48cc-afc1-a7a09bcf003c",
   "metadata": {},
   "outputs": [],
   "source": [
    "# for this week, only want to look at Saturday games\n",
    "betting_df = betting_df[betting_df['start_date'].dt.day==sat_day_num]"
   ]
  },
  {
   "cell_type": "code",
   "execution_count": 24,
   "id": "e4996f95-97f8-427e-9c25-3223b4d1feaf",
   "metadata": {},
   "outputs": [],
   "source": [
    "# filter out Washington schools\n",
    "teams_df = pd.read_csv('./datasets/fbs_teams.csv')\n",
    "\n",
    "# save school names in WA\n",
    "wa_schools_list = teams_df[teams_df['state']=='WA']['school']\n",
    "\n",
    "# filter out WA schools\n",
    "betting_df = betting_df[(~betting_df['home_team'].isin(wa_schools_list)) & \\\n",
    "                         (~betting_df['away_team'].isin(wa_schools_list))]"
   ]
  },
  {
   "cell_type": "code",
   "execution_count": 25,
   "id": "938f8cdf-a0ae-40bb-b2eb-e9e726820832",
   "metadata": {
    "tags": []
   },
   "outputs": [],
   "source": [
    "# add W-L info to betting dataframe\n",
    "\n",
    "# first do home team\n",
    "# rename win_loss to win_loss_home\n",
    "\n",
    "# drop team column\n",
    "home_team_cols = ['team','win_loss','home_win_%']\n",
    "betting_df = pd.merge(betting_df, team_record_df_v4[home_team_cols], \\\n",
    "                      how = 'left',\\\n",
    "                      left_on = 'home_team',\\\n",
    "                      right_on='team').drop(columns=['team']).rename(columns={'win_loss':'win_loss_home'})\n",
    "\n",
    "\n",
    "\n",
    "# then do away team\n",
    "away_team_cols = ['team','win_loss','away_win_%']\n",
    "betting_df = pd.merge(betting_df, team_record_df_v4[away_team_cols], \\\n",
    "                      how = 'left', \\\n",
    "                      left_on = 'away_team', \\\n",
    "                      right_on='team').drop(columns=['team']).rename(columns={'win_loss':'win_loss_away'})"
   ]
  },
  {
   "cell_type": "code",
   "execution_count": 26,
   "id": "a3281616-32cd-401c-8c18-34c1aa9fa615",
   "metadata": {},
   "outputs": [],
   "source": [
    "# get media information for this week\n",
    "media = games_api.get_game_media(year = year_num, week = week_num, classification = 'fbs')\n",
    "media_df = pd.DataFrame.from_records([i.to_dict() for i in media])\n",
    "# join with betting dataframe\n",
    "betting_df = pd.merge(betting_df, media_df[['id','outlet']], how='left', left_on ='id', right_on='id')"
   ]
  },
  {
   "cell_type": "code",
   "execution_count": 27,
   "id": "b368912d-6d8b-4970-95db-93537f611685",
   "metadata": {
    "tags": []
   },
   "outputs": [],
   "source": [
    "# add poll info to betting dataframe\n",
    "# first do home team\n",
    "\n",
    "# ap poll\n",
    "home_team_cols = ['school', 'rank']\n",
    "betting_df = pd.merge(betting_df, ap_poll_df[home_team_cols], \\\n",
    "         how = 'left',\\\n",
    "         left_on = 'home_team',\\\n",
    "         right_on='school').drop(columns=['school']).rename(columns={'rank':'ap_rank_home'}).fillna('')\n",
    "\n",
    "# coaches poll\n",
    "home_team_cols = ['school', 'rank']\n",
    "betting_df = pd.merge(betting_df, coaches_poll_df[home_team_cols], \\\n",
    "         how = 'left',\\\n",
    "         left_on = 'home_team',\\\n",
    "         right_on='school').drop(columns=['school']).rename(columns={'rank':'coaches_rank_home'}).fillna('')"
   ]
  },
  {
   "cell_type": "code",
   "execution_count": 28,
   "id": "31cb679b-cf6f-494e-9b34-eef38fbafd45",
   "metadata": {},
   "outputs": [],
   "source": [
    "# add poll info to betting dataframe\n",
    "# now away team\n",
    "\n",
    "# ap poll\n",
    "away_team_cols = ['school', 'rank']\n",
    "betting_df = pd.merge(betting_df, ap_poll_df[away_team_cols], \\\n",
    "         how = 'left',\\\n",
    "         left_on = 'away_team',\\\n",
    "         right_on='school').drop(columns=['school']).rename(columns={'rank':'ap_rank_away'}).fillna('')\n",
    "\n",
    "# coaches poll\n",
    "home_team_cols = ['school', 'rank']\n",
    "betting_df = pd.merge(betting_df, coaches_poll_df[away_team_cols], \\\n",
    "         how = 'left',\\\n",
    "         left_on = 'away_team',\\\n",
    "         right_on='school').drop(columns=['school']).rename(columns={'rank':'coaches_rank_away'}).fillna('')"
   ]
  },
  {
   "cell_type": "code",
   "execution_count": 29,
   "id": "d5a0a3e1-f4a4-4bd4-ae8d-f306910ed428",
   "metadata": {},
   "outputs": [],
   "source": [
    "'''\n",
    "values:\n",
    "1 = in conference game\n",
    "0 = out of conference game\n",
    "Nan = two independent schools are playing\n",
    "'''\n",
    "\n",
    "def in_conference (df):\n",
    "    if (df['home_conference'] == 'FBS Independents') & (df['away_conference'] == 'FBS Independents'):\n",
    "        return np.nan\n",
    "    elif df['home_conference'] == df['away_conference']:\n",
    "        return 1\n",
    "    else:\n",
    "        return 0\n",
    "betting_df['is_in_conference'] = betting_df.apply(in_conference, axis=1)"
   ]
  },
  {
   "cell_type": "code",
   "execution_count": 30,
   "id": "60e9596f-ea46-4be1-9983-3079f8d45535",
   "metadata": {},
   "outputs": [],
   "source": [
    "# add elo ratings for away teams\n",
    "betting_df = pd.merge(betting_df, elo_df[['team','elo']], left_on='away_team', right_on='team', how='left')\n",
    "betting_df = betting_df.rename(columns={'elo':'elo_away'})"
   ]
  },
  {
   "cell_type": "code",
   "execution_count": 31,
   "id": "75642cee-2cfa-4e1c-bc60-cb26e646fe8b",
   "metadata": {},
   "outputs": [],
   "source": [
    "# add elo for home teams\n",
    "betting_df = pd.merge(betting_df, elo_df[['team','elo']], left_on='home_team', right_on='team', how='left')\n",
    "betting_df = betting_df.rename(columns={'elo':'elo_home'})"
   ]
  },
  {
   "cell_type": "code",
   "execution_count": 32,
   "id": "b2f1cecc-96a0-4a35-8525-a9f5ead171e8",
   "metadata": {},
   "outputs": [],
   "source": [
    "# functions for calculating win probability from elo\n",
    "def get_away_elo(row):\n",
    "    exp = (row['elo_home'] - row['elo_away']) / 400\n",
    "    return 1 / (1 + 10**exp)\n",
    "\n",
    "def get_home_elo(row):\n",
    "    exp = (row['elo_away'] - row['elo_home']) / 400\n",
    "    return 1 / (1 + 10**exp)"
   ]
  },
  {
   "cell_type": "code",
   "execution_count": 33,
   "id": "fdb14be0-6d0c-4305-b9da-1ad99c5d4f83",
   "metadata": {},
   "outputs": [],
   "source": [
    "elo_cols = ['home_team','away_team']\n",
    "betting_df['away_elo_prob'] = betting_df.apply(get_away_elo, axis = 1)\n",
    "betting_df['home_elo_prob'] = betting_df.apply(get_home_elo, axis = 1)"
   ]
  },
  {
   "cell_type": "markdown",
   "id": "779b0606-7af6-4e1f-b0e0-3d7480491890",
   "metadata": {
    "tags": []
   },
   "source": [
    "### Export raw transformed data"
   ]
  },
  {
   "cell_type": "code",
   "execution_count": 34,
   "id": "9fcf3835-c4b6-4569-ba74-99faf4ca0ec5",
   "metadata": {},
   "outputs": [],
   "source": [
    "# export dataframe to csv\n",
    "betting_df.to_csv('./output/' + df_name_prefix + '.raw.csv', index = False)"
   ]
  },
  {
   "cell_type": "markdown",
   "id": "072ed8c2-62ae-49b3-aaeb-005333c419ec",
   "metadata": {
    "tags": []
   },
   "source": [
    "## Bet Maker\n",
    "<b>Process:</b> \n",
    "\n",
    "*Note: Only moneylines will be used in parlay. Spread and O/U are more unpredictable in my opinion. \n",
    "1. Get games where the home team is an underdog, but the spread is less than 7.5 (can change this cutoff later if needed). Don't want a massive underdog with no chance of winning. For example, if Georgia plays @ Ohio, it is very unlikely and is not a good candidate to include in the parlay / I would never bet moneyline for that.\n",
    "    - Home field advantage is important in CFB, and I think it is a bigger influence on the outcome of the game than oddsmakers are including in their models\n",
    "2. Save the initial home underdog dataframe as a csv. Upload to Google Drive\n",
    "3. Review the initial home underdog output and make cuts. Do this by adding the home team name to the list in the cell below\n",
    "4. Output the new dataframe as a CSV and upload to Google Drive. Can do a little more digging for matchups and also find games to exclude. If need to exlcude repeat step 3 and add it to the cut list\n",
    "    - Example: Houston @ Navy 10/22/2022: Didn't like that one since I was sure Houston was going to win. Never sure how a team will play against triple option since not a lot of datapoints for it\n",
    "4. Input"
   ]
  },
  {
   "cell_type": "markdown",
   "id": "845344dc-52c9-4ca9-9099-2733d2ce9eb0",
   "metadata": {
    "tags": []
   },
   "source": [
    "### Casesars & ESPN Scraping\n",
    "Try to add caesars odds by scraping:\n",
    "- ESPN url format for games using game ID: https://www.espn.com/college-football/game?gameId=401411146\n",
    "- Moneyline is only available pre-game. Spread and O/U still available postgame\n",
    "- Can also pull in other information like matchup predictor (win prob %), numberFire, SPread cosensu pick, teamrankings, ATS\n",
    "\n",
    "Steps:\n",
    "1. Get game id's from cfdb data\n",
    "2. use game id's to make a list of urls\n",
    "3. for loop through list to get betting information from espn and win %"
   ]
  },
  {
   "cell_type": "code",
   "execution_count": 35,
   "id": "0ef1556f-c016-45b1-a744-2ee025fd20ca",
   "metadata": {},
   "outputs": [],
   "source": [
    "# get game IDs from betting_df\n",
    "game_id_list = betting_df['id'].to_list()"
   ]
  },
  {
   "cell_type": "code",
   "execution_count": 36,
   "id": "b73e4491-dc82-41d6-9661-12d4e275381f",
   "metadata": {},
   "outputs": [],
   "source": [
    "# get urls using game id's\n",
    "url_list= []\n",
    "for i in game_id_list:\n",
    "    url_list.append('https://www.espn.com/college-football/game?gameId=' \\\n",
    "                    + str(i))"
   ]
  },
  {
   "cell_type": "code",
   "execution_count": 37,
   "id": "bafac0b3-1572-465a-8af8-8688fe25dd97",
   "metadata": {
    "tags": []
   },
   "outputs": [],
   "source": [
    "# create lists to store home spread, home moneyline, away spread, and away moneyline\n",
    "home_spread_list = []\n",
    "home_moneyline_list = []\n",
    "away_spread_list = []\n",
    "away_moneyline_list = []\n",
    "home_espn_win_perc_list = []\n",
    "away_espn_win_perc_list = []\n",
    "\n",
    "for i in url_list:    \n",
    "    # create beautiful soup object for i\n",
    "    page = requests.get(i)\n",
    "    soup = BeautifulSoup(page.content, \"html.parser\")\n",
    "    # use the beautiful soup object to parse\n",
    "    results = soup.find(id='gamepackage-pick-center')\n",
    "    # find home team data and add to lists\n",
    "    # home team data\n",
    "    home_data = results.find_all('tr', class_='hometeam')\n",
    "    for i in home_data:\n",
    "        for count, x in enumerate(i.find_all('td', class_='score')):\n",
    "            if count == 2:\n",
    "                if (x.text.strip().replace(',','').replace('+','') == '--'):\n",
    "                    home_spread = np.nan\n",
    "                    home_spread_list.append(np.nan)\n",
    "                elif x.text.strip().replace(',','').replace('+','') == 'EVEN':\n",
    "                    home_spread = 0\n",
    "                    home_spread_list.append(home_spread)\n",
    "                else:\n",
    "                    home_spread = float(x.text.strip().replace(',','').replace('+',''))\n",
    "                    home_spread_list.append(home_spread)\n",
    "            if count == 3:\n",
    "                if x.text.strip().replace(',','').replace('+','') == '--':\n",
    "                    home_moneyline_list.append(np.nan)\n",
    "                else:\n",
    "                    home_moneylne = int(x.text.strip().replace(',','').replace('+',''))\n",
    "                    home_moneyline_list.append(home_moneylne)\n",
    "        \n",
    "        home_espn_win_perc_list.append(float(soup.find('span','value-home').text.replace('%', ''))/100)\n",
    "            \n",
    "    # find away team data and add to lists\n",
    "    # away content has the consensus picker data, so need to increase list indexes by 1\n",
    "    away_data = results.find_all('tr', class_='awayteam')\n",
    "    for i in away_data:\n",
    "        for count, x in enumerate(i.find_all('td', class_='score')):\n",
    "            if count == 3:\n",
    "                if x.text.strip().replace(',','').replace('+','') == '--':\n",
    "                    away_spread_list.append(np.nan)\n",
    "                elif x.text.strip().replace(',','').replace('+','') == 'EVEN':\n",
    "                    away_spread_list.append(0)\n",
    "                else:\n",
    "                    away_spread = float(x.text.strip().replace(',','').replace('+',''))\n",
    "                    away_spread_list.append(away_spread)            \n",
    "            if count == 4:\n",
    "                if x.text.strip().replace(',','').replace('+','') == '--':\n",
    "                    away_moneyline_list.append(np.nan)\n",
    "                else:\n",
    "                    away_moneylne = int(x.text.strip().replace(',','').replace('+',''))\n",
    "                    away_moneyline_list.append(away_moneylne)\n",
    "        away_espn_win_perc_list.append(float(soup.find('span','value-away').text.replace('%', ''))/100)"
   ]
  },
  {
   "cell_type": "code",
   "execution_count": 38,
   "id": "3a13d9e8-8089-4ed7-af64-6c8a32cc54a2",
   "metadata": {},
   "outputs": [],
   "source": [
    "caesars_df = pd.DataFrame(list(zip(game_id_list, home_spread_list, home_moneyline_list, away_spread_list, \\\n",
    "                                   away_moneyline_list, home_espn_win_perc_list, away_espn_win_perc_list)), \\\n",
    "             columns = ['game_id','home_spread_caesars','home_moneyline_caesars',\\\n",
    "                        'away_spread_caesars','away_moneyline_caesars','home_win_prob_espn','away_win_prob_espn'])"
   ]
  },
  {
   "cell_type": "code",
   "execution_count": 39,
   "id": "9a264995-3f0d-4976-96cc-4b48c4a1b9fc",
   "metadata": {},
   "outputs": [],
   "source": [
    "caesars_df['home_moneyline_caesars'] = caesars_df['home_moneyline_caesars'].fillna(0)\n",
    "caesars_df['away_moneyline_caesars'] = caesars_df['away_moneyline_caesars'].fillna(0)\n",
    "\n",
    "caesars_df['home_win_prob_caesars'] = caesars_df['home_moneyline_caesars'].apply(amer_odds_to_prob).round(7)\n",
    "caesars_df['away_win_prob_caesars'] = caesars_df['away_moneyline_caesars'].apply(amer_odds_to_prob).round(7)\n",
    "\n",
    "\n",
    "#caesars_df['away_win_prob_no_vig']\n",
    "\n",
    "# caesars vig\n",
    "caesars_df['vig_caesars'] = caesars_df['home_win_prob_caesars'] + caesars_df['away_win_prob_caesars'] - 1\n",
    "\n",
    "# implied probabilities less vig see:\n",
    "# https://www.actionnetwork.com/education/juice\n",
    "# Team A Implied Probability / (Team A IP + Team B IP)\n",
    "caesars_df['home_win_prob_no_vig_caesars'] = caesars_df['home_win_prob_caesars'] / (caesars_df['home_win_prob_caesars'] + \\\n",
    "                                                                caesars_df['away_win_prob_caesars'])\n",
    "caesars_df['away_win_prob_no_vig_caesars'] = caesars_df['away_win_prob_caesars'] / (caesars_df['away_win_prob_caesars'] + \\\n",
    "                                                                caesars_df['home_win_prob_caesars'])"
   ]
  },
  {
   "cell_type": "code",
   "execution_count": 40,
   "id": "7d8f66c4-6cf8-4b02-83ec-2af3c7df198f",
   "metadata": {},
   "outputs": [],
   "source": [
    "betting_df = pd.merge(betting_df, caesars_df, left_on='id', right_on='game_id', how='left')"
   ]
  },
  {
   "cell_type": "markdown",
   "id": "7296be68-d1c4-45c2-ae1e-a0f121663a67",
   "metadata": {},
   "source": [
    "Get final probabilities and payouts:\n",
    "- If any in Caesars are blank or nan, use Bovada\n",
    "- If Bovada also blank or nan, exlude"
   ]
  },
  {
   "cell_type": "code",
   "execution_count": 41,
   "id": "75964f2b-3b5e-4a4f-8db5-b81ec37f0ffd",
   "metadata": {},
   "outputs": [],
   "source": [
    "caesars_columns = ['id', 'home_moneyline_caesars', 'away_moneyline_caesars', 'home_spread_caesars']\n",
    "betting_df[caesars_columns]\n",
    "\n",
    "nan_spreads_caesars = betting_df[betting_df['home_spread_caesars'].isnull()].index.to_list()"
   ]
  },
  {
   "cell_type": "code",
   "execution_count": 42,
   "id": "0341703f-8daf-40c4-a8fb-a6d020c6e038",
   "metadata": {
    "tags": []
   },
   "outputs": [],
   "source": [
    "betting_df['home_moneyline_final'] = np.NaN"
   ]
  },
  {
   "cell_type": "code",
   "execution_count": 43,
   "id": "92c91ae8-68bf-455a-b03f-6679378a436a",
   "metadata": {},
   "outputs": [],
   "source": [
    "# create final moneyline and spread columns that first look at caesars values, and if none use bovada\n",
    "betting_df['home_moneyline_final'] = betting_df['home_moneyline_caesars'] \n",
    "betting_df['away_moneyline_final'] = betting_df['away_moneyline_caesars'] \n",
    "betting_df['home_spread_final'] = betting_df['home_spread_caesars'] \n",
    "\n",
    "# replace moneyline of 0 with NaN. This handles no moneyline at Caesars\n",
    "# then use fill na to get moneyline from bovada in the cells where there are nulls\n",
    "# all moneylines should be filled. if both books don't have a value, the it will remain null\n",
    "betting_df['home_moneyline_final'] = betting_df['home_moneyline_final'].replace(0, np.nan)\n",
    "betting_df['home_moneyline_final'] = betting_df['home_moneyline_final'].fillna(betting_df['home_moneyline'])\n",
    "\n",
    "# repeat for away\n",
    "betting_df['away_moneyline_final'] = betting_df['away_moneyline_final'].replace(0, np.nan)\n",
    "betting_df['away_moneyline_final'] = betting_df['away_moneyline_final'].fillna(betting_df['away_moneyline'])\n",
    "\n",
    "# do spread\n",
    "betting_df['home_spread_final'] = betting_df['home_spread_final'].fillna(betting_df['spread'])"
   ]
  },
  {
   "cell_type": "code",
   "execution_count": 44,
   "id": "f40ecf2b-b046-4cda-a053-5bafc63fe576",
   "metadata": {},
   "outputs": [],
   "source": [
    "# calculate win probs based on moneyline odds\n",
    "betting_df['home_moneyline_final_temp'] = betting_df['home_moneyline_final'].fillna(0)\n",
    "betting_df['away_moneyline_final_temp'] = betting_df['away_moneyline_final'].fillna(0)\n",
    "\n",
    "betting_df['home_win_prob_final'] = betting_df['home_moneyline_final_temp'].apply(amer_odds_to_prob).round(7)\n",
    "betting_df['away_win_prob_final'] = betting_df['away_moneyline_final_temp'].apply(amer_odds_to_prob).round(7)\n",
    "\n",
    "\n",
    "#caesars_df['away_win_prob_no_vig']\n",
    "\n",
    "# caesars vig\n",
    "betting_df['vig_final'] = betting_df['home_win_prob_final'] + betting_df['away_win_prob_final'] - 1\n",
    "\n",
    "# implied probabilities less vig see:\n",
    "# https://www.actionnetwork.com/education/juice\n",
    "# Team A Implied Probability / (Team A IP + Team B IP)\n",
    "betting_df['home_win_prob_no_vig_final'] = betting_df['home_win_prob_final'] / (betting_df['home_win_prob_final'] + \\\n",
    "                                                                betting_df['away_win_prob_caesars'])\n",
    "betting_df['away_win_prob_no_vig_final'] = betting_df['away_win_prob_final'] / (betting_df['away_win_prob_final'] + \\\n",
    "                                                                betting_df['home_win_prob_final'])\n",
    "\n",
    "\n",
    "betting_df.drop(columns=['home_moneyline_final_temp', 'away_moneyline_final_temp'], axis = 1, inplace=True)"
   ]
  },
  {
   "cell_type": "markdown",
   "id": "d1d236c7-0c47-4503-88de-5958b7de13dd",
   "metadata": {
    "jp-MarkdownHeadingCollapsed": true,
    "tags": []
   },
   "source": [
    "### Incorporate SP+ Data\n",
    "https://www.sbnation.com/college-football/2017/10/13/16457830/college-football-advanced-stats-analytics-rankings\n",
    "\n",
    "Google Sheets link with SP+ data: https://docs.google.com/spreadsheets/d/1llrN8luL0XWuP8Y-Pb1NXKU84JhXLeUPafy1RfITEDw/edit#gid=1482720576\n",
    "\n",
    "\n",
    "This link has SP+ and other models:\n",
    "https://www.ourdailybears.com/baylor-bears-football/2022/8/1/23271366/predictive-statistics-in-cfb-primer\n",
    "\n",
    "\n",
    "Note: SP+ has some different naming conventions. See cell below for differences"
   ]
  },
  {
   "cell_type": "markdown",
   "id": "1b9ce3ed-cf16-4dd2-92fc-f8a196d18279",
   "metadata": {
    "tags": []
   },
   "source": [
    "- Miami\n",
    "    - College Football Data = Miami\n",
    "    - SP+ = Miami-FL\n",
    "- Southern Miss\n",
    "    - College Football Data = Southern Miss\n",
    "    - SP+ = Southern Miss\n",
    "- Louisiana Monroe\n",
    "    - College Football Data = Louisiana Monroe\n",
    "    - SP+ = UL-Monroe\n",
    "- Louisiana\n",
    "    - College Football Data = Louisiana\n",
    "    - SP+ =  UL-Lafayette\n",
    "- San José State\n",
    "    - College Football Data = San José State\n",
    "    - SP+ = San Jose State\n",
    "- UMass\n",
    "    - College Football Data = UMass\n",
    "    - SP+ = Massachusetts\n",
    "- South Florida\n",
    "    - College Football Data = South Florida\n",
    "    - SP+ = USF\n",
    "- UT San Antonio\n",
    "    - College Football Data = UT San Antonio\n",
    "    - SP+ = UTSA\n",
    "- Hawai'i\n",
    "    - College Football Data = Hawai'i\n",
    "    - SP+ = Hawaii"
   ]
  },
  {
   "cell_type": "code",
   "execution_count": 45,
   "id": "68ddf3ff-5ebf-4491-8cb0-182397cf891d",
   "metadata": {
    "tags": []
   },
   "outputs": [
    {
     "data": {
      "text/plain": [
       "0"
      ]
     },
     "execution_count": 45,
     "metadata": {},
     "output_type": "execute_result"
    }
   ],
   "source": [
    "sp_plus_df = pd.read_csv('./input/SP+/2022 SP+ - Week 10 FBS.csv')\n",
    "\n",
    "# some values have ' vs. ' some have ' at '. replace vs. with at since had issues with doing two replaces\n",
    "sp_plus_df['Game_v2'] = sp_plus_df['Game']\n",
    "sp_plus_df['Game_v2'] = sp_plus_df['Game_v2'].str.replace(' vs. ', ' at ', regex = False)\n",
    "sp_plus_df['Game_v2'] = sp_plus_df['Game_v2'].str.split(' at ')\n",
    "\n",
    "# put home and away into own columns\n",
    "sp_plus_df[['away_team_sp','home_team_sp']] = pd.DataFrame(sp_plus_df['Game_v2'].tolist(), index= sp_plus_df.index)\n",
    "\n",
    "# convert win probability to float\n",
    "sp_plus_df['win_prob_float'] = pd.to_numeric(sp_plus_df['Win prob.'].str.strip('%'))\n",
    "\n",
    "\n",
    "# get home win probabilities based on the 'Proj. winner' column and win probability column\n",
    "home_win_prob = []\n",
    "for count, i in enumerate(sp_plus_df['home_team_sp'] == sp_plus_df['Proj. winner']):\n",
    "    if i == True:\n",
    "        home_win_prob.append(sp_plus_df.loc[count,'win_prob_float']/100)\n",
    "    elif i == False:\n",
    "        home_win_prob.append((100 - sp_plus_df.loc[count,'win_prob_float'])/100)\n",
    "sp_plus_df['home_win_prob_sp'] = home_win_prob\n",
    "\n",
    "# get away win probability\n",
    "away_win_prob = [(1-i) for i in home_win_prob]\n",
    "sp_plus_df['away_win_prob_sp'] = away_win_prob\n",
    "\n",
    "# check probabilities equal 1\n",
    "sum(sp_plus_df['away_win_prob_sp'] + sp_plus_df['home_win_prob_sp'] != 1)"
   ]
  },
  {
   "cell_type": "code",
   "execution_count": 46,
   "id": "b7c79dce-f99a-422e-a45e-5a7921d61c09",
   "metadata": {},
   "outputs": [
    {
     "data": {
      "text/plain": [
       "['South Florida', 'UT San Antonio', \"Hawai'i\"]"
      ]
     },
     "execution_count": 46,
     "metadata": {},
     "output_type": "execute_result"
    }
   ],
   "source": [
    "# try a join on home teams find naming anomolies\n",
    "test_merge_df = pd.merge(betting_df, sp_plus_df, left_on='away_team', right_on='away_team_sp', how='left')\n",
    "test_merge_df[test_merge_df['away_team_sp'].isnull()]['away_team'].to_list()"
   ]
  },
  {
   "cell_type": "code",
   "execution_count": 47,
   "id": "89c0f622-7e67-4506-8df3-61f0ffc246ee",
   "metadata": {},
   "outputs": [
    {
     "data": {
      "text/plain": [
       "['Southern Mississippi',\n",
       " 'Louisiana Monroe',\n",
       " 'Louisiana',\n",
       " 'Miami',\n",
       " 'San José State']"
      ]
     },
     "execution_count": 47,
     "metadata": {},
     "output_type": "execute_result"
    }
   ],
   "source": [
    "# try a join on away teams find naming anomolies\n",
    "test_merge_df = pd.merge(betting_df, sp_plus_df, left_on='home_team', right_on='home_team_sp', how='left')\n",
    "test_merge_df[test_merge_df['home_team_sp'].isnull()]['home_team'].to_list()"
   ]
  },
  {
   "cell_type": "code",
   "execution_count": 48,
   "id": "ec0bfeba-86cc-4407-9dd7-8aa91e721614",
   "metadata": {},
   "outputs": [],
   "source": [
    "# make dict for naming conventions\n",
    "sp_rename_dict = {'Miami-FL':'Miami',\n",
    "                 'Southern Miss':'Southern Mississippi',\n",
    "                 'UL-Monroe':'Louisiana Monroe',\n",
    "                 'UL-Lafayette':'Louisiana',\n",
    "                 'San Jose State':'San José State',\n",
    "                 'Massachusetts':'UMass',\n",
    "                 'USF':'South Florida',\n",
    "                 'UTSA':'UT San Antonio',\n",
    "                 'Hawaii':'Hawai\\'i'}"
   ]
  },
  {
   "cell_type": "code",
   "execution_count": 49,
   "id": "82a0e769-34f2-4502-b8d2-c1d2fc0ae32e",
   "metadata": {},
   "outputs": [],
   "source": [
    "# rename home teams from SP+\n",
    "new_home_name_list = []\n",
    "for i in sp_plus_df['home_team_sp']:\n",
    "    if i in sp_rename_dict:\n",
    "        new_home_name_list.append(sp_rename_dict[i])\n",
    "    else:\n",
    "        new_home_name_list.append(i)\n",
    "\n",
    "# rename home teams from SP+\n",
    "new_away_name_list = []\n",
    "for i in sp_plus_df['away_team_sp']:\n",
    "    if i in sp_rename_dict:\n",
    "        new_away_name_list.append(sp_rename_dict[i])\n",
    "    else:\n",
    "        new_away_name_list.append(i)"
   ]
  },
  {
   "cell_type": "code",
   "execution_count": 50,
   "id": "25aede55-93ff-48db-9d59-070c62ad8d15",
   "metadata": {},
   "outputs": [],
   "source": [
    "sp_plus_df['away_team_sp_v2'] = new_away_name_list\n",
    "sp_plus_df['home_team_sp_v2'] = new_home_name_list"
   ]
  },
  {
   "cell_type": "code",
   "execution_count": 51,
   "id": "da6dbe2b-d88f-45c4-8cef-3b81e3182053",
   "metadata": {
    "tags": []
   },
   "outputs": [],
   "source": [
    "# get certain columns for joining\n",
    "sp_cols = ['Game','away_team_sp_v2','home_team_sp_v2','home_win_prob_sp','away_win_prob_sp','Proj. margin','Proj. winner']"
   ]
  },
  {
   "cell_type": "code",
   "execution_count": 52,
   "id": "86ee4d8f-e78a-42f2-9a4e-859f4d891c9c",
   "metadata": {
    "tags": []
   },
   "outputs": [],
   "source": [
    "test_merge_df = pd.merge(betting_df, sp_plus_df, left_on='away_team', right_on='away_team_sp_v2', how='left')"
   ]
  },
  {
   "cell_type": "code",
   "execution_count": 53,
   "id": "f7f85fb8-66d3-4687-b71e-5a143d30619e",
   "metadata": {},
   "outputs": [
    {
     "data": {
      "text/plain": [
       "0"
      ]
     },
     "execution_count": 53,
     "metadata": {},
     "output_type": "execute_result"
    }
   ],
   "source": [
    "# test if there are any naming anomolies left\n",
    "len(test_merge_df[test_merge_df['away_team_sp'].isnull()]['away_team'].to_list())\n",
    "len(test_merge_df[test_merge_df['home_team_sp'].isnull()]['home_team'].to_list())"
   ]
  },
  {
   "cell_type": "code",
   "execution_count": 54,
   "id": "98f9d061-935c-47aa-91c5-614655821231",
   "metadata": {},
   "outputs": [],
   "source": [
    "betting_df = pd.merge(betting_df, sp_plus_df, left_on='away_team', right_on='away_team_sp_v2', how='left')"
   ]
  },
  {
   "cell_type": "code",
   "execution_count": 55,
   "id": "3d5db99f-8aa5-4034-a9bc-62d327db64e4",
   "metadata": {},
   "outputs": [],
   "source": [
    "# drop duplicates\n",
    "betting_df = betting_df.drop_duplicates(subset=['home_team', 'away_team'])\n",
    "\n",
    "# export to csv\n",
    "betting_df.to_csv('./output/'+ df_name_prefix  + 'raw.csv')"
   ]
  },
  {
   "cell_type": "markdown",
   "id": "fb4a99a9-6752-4afb-9c53-c05c36f6f60f",
   "metadata": {
    "tags": []
   },
   "source": [
    "### Home Teams - Get teams to bet on if both ESPN and SP+ have good win probs for home team\n",
    "\n",
    "Here want to see home win probabilities for ESPN and SP+ to be more than 5% over the implied win prob % and the spread to be less than 7 points for favored away team"
   ]
  },
  {
   "cell_type": "code",
   "execution_count": 56,
   "id": "84855001-e9b1-42af-bcb2-6cb05a0af9dd",
   "metadata": {},
   "outputs": [
    {
     "data": {
      "text/html": [
       "<div>\n",
       "<style scoped>\n",
       "    .dataframe tbody tr th:only-of-type {\n",
       "        vertical-align: middle;\n",
       "    }\n",
       "\n",
       "    .dataframe tbody tr th {\n",
       "        vertical-align: top;\n",
       "    }\n",
       "\n",
       "    .dataframe thead th {\n",
       "        text-align: right;\n",
       "    }\n",
       "</style>\n",
       "<table border=\"1\" class=\"dataframe\">\n",
       "  <thead>\n",
       "    <tr style=\"text-align: right;\">\n",
       "      <th></th>\n",
       "      <th>home_team</th>\n",
       "      <th>home_moneyline_final</th>\n",
       "      <th>home_spread_final</th>\n",
       "      <th>Proj. margin</th>\n",
       "      <th>home_win_prob_no_vig_final</th>\n",
       "      <th>home_win_prob_espn</th>\n",
       "      <th>home_win_prob_sp</th>\n",
       "      <th>home_elo_prob</th>\n",
       "      <th>win_loss_home</th>\n",
       "      <th>home_win_%</th>\n",
       "      <th>...</th>\n",
       "      <th>away_team</th>\n",
       "      <th>away_win_prob_no_vig_final</th>\n",
       "      <th>away_win_prob_espn</th>\n",
       "      <th>away_win_prob_sp</th>\n",
       "      <th>away_elo_prob</th>\n",
       "      <th>win_loss_away</th>\n",
       "      <th>away_win_%</th>\n",
       "      <th>ap_rank_away</th>\n",
       "      <th>coaches_rank_away</th>\n",
       "      <th>start_time</th>\n",
       "    </tr>\n",
       "  </thead>\n",
       "  <tbody>\n",
       "    <tr>\n",
       "      <th>24</th>\n",
       "      <td>UAB</td>\n",
       "      <td>-110.0</td>\n",
       "      <td>0.0</td>\n",
       "      <td>1.6</td>\n",
       "      <td>0.500000</td>\n",
       "      <td>0.620</td>\n",
       "      <td>0.54</td>\n",
       "      <td>0.574280</td>\n",
       "      <td>4-4-0</td>\n",
       "      <td>100.0</td>\n",
       "      <td>...</td>\n",
       "      <td>UT San Antonio</td>\n",
       "      <td>0.500000</td>\n",
       "      <td>0.380</td>\n",
       "      <td>0.46</td>\n",
       "      <td>0.425720</td>\n",
       "      <td>6-2-0</td>\n",
       "      <td>75.00</td>\n",
       "      <td></td>\n",
       "      <td></td>\n",
       "      <td>12:30:00</td>\n",
       "    </tr>\n",
       "    <tr>\n",
       "      <th>35</th>\n",
       "      <td>Louisiana</td>\n",
       "      <td>150.0</td>\n",
       "      <td>4.0</td>\n",
       "      <td>0.1</td>\n",
       "      <td>0.384509</td>\n",
       "      <td>0.442</td>\n",
       "      <td>0.50</td>\n",
       "      <td>0.673776</td>\n",
       "      <td>4-4-0</td>\n",
       "      <td>75.0</td>\n",
       "      <td>...</td>\n",
       "      <td>Troy</td>\n",
       "      <td>0.615491</td>\n",
       "      <td>0.558</td>\n",
       "      <td>0.50</td>\n",
       "      <td>0.326224</td>\n",
       "      <td>6-2-0</td>\n",
       "      <td>50.00</td>\n",
       "      <td></td>\n",
       "      <td></td>\n",
       "      <td>14:00:00</td>\n",
       "    </tr>\n",
       "    <tr>\n",
       "      <th>51</th>\n",
       "      <td>NC State</td>\n",
       "      <td>158.0</td>\n",
       "      <td>4.0</td>\n",
       "      <td>0.4</td>\n",
       "      <td>0.371700</td>\n",
       "      <td>0.588</td>\n",
       "      <td>0.51</td>\n",
       "      <td>0.378703</td>\n",
       "      <td>6-2-0</td>\n",
       "      <td>100.0</td>\n",
       "      <td>...</td>\n",
       "      <td>Wake Forest</td>\n",
       "      <td>0.628300</td>\n",
       "      <td>0.412</td>\n",
       "      <td>0.49</td>\n",
       "      <td>0.621297</td>\n",
       "      <td>6-2-0</td>\n",
       "      <td>66.67</td>\n",
       "      <td>20.0</td>\n",
       "      <td>19.0</td>\n",
       "      <td>17:00:00</td>\n",
       "    </tr>\n",
       "  </tbody>\n",
       "</table>\n",
       "<p>3 rows × 22 columns</p>\n",
       "</div>"
      ],
      "text/plain": [
       "    home_team  home_moneyline_final  home_spread_final  Proj. margin  \\\n",
       "24        UAB                -110.0                0.0           1.6   \n",
       "35  Louisiana                 150.0                4.0           0.1   \n",
       "51   NC State                 158.0                4.0           0.4   \n",
       "\n",
       "    home_win_prob_no_vig_final  home_win_prob_espn  home_win_prob_sp  \\\n",
       "24                    0.500000               0.620              0.54   \n",
       "35                    0.384509               0.442              0.50   \n",
       "51                    0.371700               0.588              0.51   \n",
       "\n",
       "    home_elo_prob win_loss_home  home_win_%  ...       away_team  \\\n",
       "24       0.574280         4-4-0       100.0  ...  UT San Antonio   \n",
       "35       0.673776         4-4-0        75.0  ...            Troy   \n",
       "51       0.378703         6-2-0       100.0  ...     Wake Forest   \n",
       "\n",
       "   away_win_prob_no_vig_final away_win_prob_espn  away_win_prob_sp  \\\n",
       "24                   0.500000              0.380              0.46   \n",
       "35                   0.615491              0.558              0.50   \n",
       "51                   0.628300              0.412              0.49   \n",
       "\n",
       "    away_elo_prob  win_loss_away  away_win_% ap_rank_away  coaches_rank_away  \\\n",
       "24       0.425720          6-2-0       75.00                                   \n",
       "35       0.326224          6-2-0       50.00                                   \n",
       "51       0.621297          6-2-0       66.67         20.0               19.0   \n",
       "\n",
       "   start_time  \n",
       "24   12:30:00  \n",
       "35   14:00:00  \n",
       "51   17:00:00  \n",
       "\n",
       "[3 rows x 22 columns]"
      ]
     },
     "execution_count": 56,
     "metadata": {},
     "output_type": "execute_result"
    }
   ],
   "source": [
    "# where win prob for espn and sp greater than caesars implied win% by more than 5%\n",
    "# game is close and is a home underdog\n",
    "\n",
    "display_cols = ['home_team','home_moneyline_final', 'home_spread_final', 'Proj. margin', 'home_win_prob_no_vig_final', 'home_win_prob_espn',\\\n",
    "                'home_win_prob_sp', 'home_elo_prob', 'win_loss_home','home_win_%', 'ap_rank_home','coaches_rank_home','away_team','away_win_prob_no_vig_final', \\\n",
    "                'away_win_prob_espn', 'away_win_prob_sp', 'away_elo_prob', 'win_loss_away', 'away_win_%','ap_rank_away', 'coaches_rank_away', 'start_time']\n",
    "\n",
    "# spread to be under for chance to win\n",
    "spread_limit = 7\n",
    "\n",
    "# percentage difference\n",
    "perc_limit = 0\n",
    "\n",
    "home_bets_df = betting_df[(betting_df['home_moneyline_final'] >= -110) &\\\n",
    "                          (betting_df['home_spread_final']<spread_limit)&\\\n",
    "                          # but need spread to be greater than 0 so is still underdog\n",
    "                          (betting_df['home_spread_final']>=0)&\\\n",
    "                          # win probabilities for ESPN and SP+ have to have to be greater than defined \n",
    "                          # (e.g. needs to be 5% more win probability than Caesars win prob\n",
    "                          ((betting_df['home_win_prob_espn'] - betting_df['home_win_prob_no_vig_final'] > perc_limit) & \\\n",
    "                           (betting_df['home_win_prob_sp'] - betting_df['home_win_prob_no_vig_final']> perc_limit))&\\\n",
    "                          # at least one of the three win probabilities are greater than 50%\n",
    "                          ((betting_df['home_win_prob_espn']>.5)|\\\n",
    "                           (betting_df['home_win_prob_sp']>.5)|\\\n",
    "                           (betting_df['home_elo_prob']>.5))][display_cols]\n",
    "\n",
    "home_bets_df"
   ]
  },
  {
   "cell_type": "markdown",
   "id": "eb8c1559-2048-488e-b7f7-c0a24146e0ef",
   "metadata": {
    "tags": []
   },
   "source": [
    "### Away Teams - Both ESPN and SP+ have good win probs. Either ESPN or SP+ to be greater than 50%"
   ]
  },
  {
   "cell_type": "code",
   "execution_count": 57,
   "id": "31097622-0231-4b1c-b778-d1b57154bf6a",
   "metadata": {},
   "outputs": [
    {
     "data": {
      "text/html": [
       "<div>\n",
       "<style scoped>\n",
       "    .dataframe tbody tr th:only-of-type {\n",
       "        vertical-align: middle;\n",
       "    }\n",
       "\n",
       "    .dataframe tbody tr th {\n",
       "        vertical-align: top;\n",
       "    }\n",
       "\n",
       "    .dataframe thead th {\n",
       "        text-align: right;\n",
       "    }\n",
       "</style>\n",
       "<table border=\"1\" class=\"dataframe\">\n",
       "  <thead>\n",
       "    <tr style=\"text-align: right;\">\n",
       "      <th></th>\n",
       "      <th>away_moneyline_final</th>\n",
       "      <th>away_team</th>\n",
       "      <th>away_win_prob_no_vig_final</th>\n",
       "      <th>away_win_prob_espn</th>\n",
       "      <th>away_win_prob_sp</th>\n",
       "      <th>away_elo_prob</th>\n",
       "      <th>win_loss_away</th>\n",
       "      <th>away_win_%</th>\n",
       "      <th>home_team</th>\n",
       "      <th>home_moneyline_final</th>\n",
       "      <th>home_spread_final</th>\n",
       "      <th>Proj. margin</th>\n",
       "      <th>home_win_prob_no_vig_final</th>\n",
       "      <th>home_win_prob_espn</th>\n",
       "      <th>home_win_prob_sp</th>\n",
       "      <th>home_elo_prob</th>\n",
       "      <th>win_loss_home</th>\n",
       "      <th>home_win_%</th>\n",
       "      <th>start_time</th>\n",
       "    </tr>\n",
       "  </thead>\n",
       "  <tbody>\n",
       "    <tr>\n",
       "      <th>14</th>\n",
       "      <td>140.0</td>\n",
       "      <td>Baylor</td>\n",
       "      <td>0.400908</td>\n",
       "      <td>0.525</td>\n",
       "      <td>0.40</td>\n",
       "      <td>0.706975</td>\n",
       "      <td>5-3-0</td>\n",
       "      <td>50.00</td>\n",
       "      <td>Oklahoma</td>\n",
       "      <td>-165.0</td>\n",
       "      <td>-3.5</td>\n",
       "      <td>4.5</td>\n",
       "      <td>0.599092</td>\n",
       "      <td>0.475</td>\n",
       "      <td>0.60</td>\n",
       "      <td>0.293025</td>\n",
       "      <td>5-3-0</td>\n",
       "      <td>75.00</td>\n",
       "      <td>12:00:00</td>\n",
       "    </tr>\n",
       "    <tr>\n",
       "      <th>23</th>\n",
       "      <td>100.0</td>\n",
       "      <td>Oklahoma State</td>\n",
       "      <td>0.478261</td>\n",
       "      <td>0.542</td>\n",
       "      <td>0.66</td>\n",
       "      <td>0.840723</td>\n",
       "      <td>6-2-0</td>\n",
       "      <td>33.33</td>\n",
       "      <td>Kansas</td>\n",
       "      <td>-120.0</td>\n",
       "      <td>-1.0</td>\n",
       "      <td>7.1</td>\n",
       "      <td>0.521739</td>\n",
       "      <td>0.458</td>\n",
       "      <td>0.34</td>\n",
       "      <td>0.159277</td>\n",
       "      <td>5-3-0</td>\n",
       "      <td>75.00</td>\n",
       "      <td>12:30:00</td>\n",
       "    </tr>\n",
       "    <tr>\n",
       "      <th>25</th>\n",
       "      <td>158.0</td>\n",
       "      <td>Syracuse</td>\n",
       "      <td>0.371700</td>\n",
       "      <td>0.545</td>\n",
       "      <td>0.47</td>\n",
       "      <td>0.475555</td>\n",
       "      <td>6-2-0</td>\n",
       "      <td>50.00</td>\n",
       "      <td>Pittsburgh</td>\n",
       "      <td>-190.0</td>\n",
       "      <td>-4.0</td>\n",
       "      <td>1.1</td>\n",
       "      <td>0.628300</td>\n",
       "      <td>0.455</td>\n",
       "      <td>0.53</td>\n",
       "      <td>0.524445</td>\n",
       "      <td>4-4-0</td>\n",
       "      <td>60.00</td>\n",
       "      <td>12:30:00</td>\n",
       "    </tr>\n",
       "    <tr>\n",
       "      <th>34</th>\n",
       "      <td>110.0</td>\n",
       "      <td>Texas State</td>\n",
       "      <td>0.457256</td>\n",
       "      <td>0.525</td>\n",
       "      <td>0.60</td>\n",
       "      <td>0.710540</td>\n",
       "      <td>3-5-0</td>\n",
       "      <td>0.00</td>\n",
       "      <td>Louisiana Monroe</td>\n",
       "      <td>-130.0</td>\n",
       "      <td>-1.5</td>\n",
       "      <td>4.6</td>\n",
       "      <td>0.542744</td>\n",
       "      <td>0.475</td>\n",
       "      <td>0.40</td>\n",
       "      <td>0.289460</td>\n",
       "      <td>2-6-0</td>\n",
       "      <td>66.67</td>\n",
       "      <td>14:00:00</td>\n",
       "    </tr>\n",
       "  </tbody>\n",
       "</table>\n",
       "</div>"
      ],
      "text/plain": [
       "    away_moneyline_final       away_team  away_win_prob_no_vig_final  \\\n",
       "14                 140.0          Baylor                    0.400908   \n",
       "23                 100.0  Oklahoma State                    0.478261   \n",
       "25                 158.0        Syracuse                    0.371700   \n",
       "34                 110.0     Texas State                    0.457256   \n",
       "\n",
       "    away_win_prob_espn  away_win_prob_sp  away_elo_prob win_loss_away  \\\n",
       "14               0.525              0.40       0.706975         5-3-0   \n",
       "23               0.542              0.66       0.840723         6-2-0   \n",
       "25               0.545              0.47       0.475555         6-2-0   \n",
       "34               0.525              0.60       0.710540         3-5-0   \n",
       "\n",
       "    away_win_%         home_team  home_moneyline_final  home_spread_final  \\\n",
       "14       50.00          Oklahoma                -165.0               -3.5   \n",
       "23       33.33            Kansas                -120.0               -1.0   \n",
       "25       50.00        Pittsburgh                -190.0               -4.0   \n",
       "34        0.00  Louisiana Monroe                -130.0               -1.5   \n",
       "\n",
       "    Proj. margin  home_win_prob_no_vig_final  home_win_prob_espn  \\\n",
       "14           4.5                    0.599092               0.475   \n",
       "23           7.1                    0.521739               0.458   \n",
       "25           1.1                    0.628300               0.455   \n",
       "34           4.6                    0.542744               0.475   \n",
       "\n",
       "    home_win_prob_sp  home_elo_prob win_loss_home  home_win_% start_time  \n",
       "14              0.60       0.293025         5-3-0       75.00   12:00:00  \n",
       "23              0.34       0.159277         5-3-0       75.00   12:30:00  \n",
       "25              0.53       0.524445         4-4-0       60.00   12:30:00  \n",
       "34              0.40       0.289460         2-6-0       66.67   14:00:00  "
      ]
     },
     "execution_count": 57,
     "metadata": {},
     "output_type": "execute_result"
    }
   ],
   "source": [
    "# get games where the away team is not favored and have a greater than 47% chance at winning for espn and sp+\n",
    "display_cols = ['away_moneyline_final', 'away_team','away_win_prob_no_vig_final', 'away_win_prob_espn', \\\n",
    "                'away_win_prob_sp', 'away_elo_prob', 'win_loss_away', 'away_win_%',\\\n",
    "                'home_team','home_moneyline_final', 'home_spread_final', 'Proj. margin', 'home_win_prob_no_vig_final', 'home_win_prob_espn',\\\n",
    "                'home_win_prob_sp', 'home_elo_prob', 'win_loss_home','home_win_%', 'start_time']\n",
    "                \n",
    "# win perc floor\n",
    "win_perc_floor = .5\n",
    "\n",
    "away_bets_df = betting_df[(betting_df['away_moneyline_final'] > 0) &\\\n",
    "           ((betting_df['away_win_prob_espn']>win_perc_floor)|\\\n",
    "           (betting_df['away_win_prob_sp']>win_perc_floor))][display_cols]\n",
    "away_bets_df"
   ]
  },
  {
   "cell_type": "markdown",
   "id": "fb017958-aafe-4f3b-b990-92db7aeeba4a",
   "metadata": {
    "tags": []
   },
   "source": [
    "### Merged pick list"
   ]
  },
  {
   "cell_type": "markdown",
   "id": "164143ab-b665-48dc-881f-84432cf45c16",
   "metadata": {
    "tags": []
   },
   "source": [
    "#### Wrangle and export data to csv"
   ]
  },
  {
   "cell_type": "code",
   "execution_count": 74,
   "id": "a367e374-fbd8-40cf-9476-91c5e7d63760",
   "metadata": {},
   "outputs": [
    {
     "data": {
      "text/html": [
       "<div>\n",
       "<style scoped>\n",
       "    .dataframe tbody tr th:only-of-type {\n",
       "        vertical-align: middle;\n",
       "    }\n",
       "\n",
       "    .dataframe tbody tr th {\n",
       "        vertical-align: top;\n",
       "    }\n",
       "\n",
       "    .dataframe thead th {\n",
       "        text-align: right;\n",
       "    }\n",
       "</style>\n",
       "<table border=\"1\" class=\"dataframe\">\n",
       "  <thead>\n",
       "    <tr style=\"text-align: right;\">\n",
       "      <th></th>\n",
       "      <th>id</th>\n",
       "      <th>season</th>\n",
       "      <th>week</th>\n",
       "      <th>season_type</th>\n",
       "      <th>start_date</th>\n",
       "      <th>home_team</th>\n",
       "      <th>home_conference</th>\n",
       "      <th>home_score</th>\n",
       "      <th>away_team</th>\n",
       "      <th>away_conference</th>\n",
       "      <th>...</th>\n",
       "      <th>O/U pick</th>\n",
       "      <th>O/U diff</th>\n",
       "      <th>Game_v2</th>\n",
       "      <th>away_team_sp</th>\n",
       "      <th>home_team_sp</th>\n",
       "      <th>win_prob_float</th>\n",
       "      <th>home_win_prob_sp</th>\n",
       "      <th>away_win_prob_sp</th>\n",
       "      <th>away_team_sp_v2</th>\n",
       "      <th>home_team_sp_v2</th>\n",
       "    </tr>\n",
       "  </thead>\n",
       "  <tbody>\n",
       "    <tr>\n",
       "      <th>0</th>\n",
       "      <td>401404141</td>\n",
       "      <td>2022</td>\n",
       "      <td>10</td>\n",
       "      <td>regular</td>\n",
       "      <td>2022-11-05 08:30:00+00:00</td>\n",
       "      <td>Army</td>\n",
       "      <td>FBS Independents</td>\n",
       "      <td></td>\n",
       "      <td>Air Force</td>\n",
       "      <td>Mountain West</td>\n",
       "      <td>...</td>\n",
       "      <td>Over</td>\n",
       "      <td>15.6</td>\n",
       "      <td>[Air Force, Army]</td>\n",
       "      <td>Air Force</td>\n",
       "      <td>Army</td>\n",
       "      <td>66</td>\n",
       "      <td>0.34</td>\n",
       "      <td>0.66</td>\n",
       "      <td>Air Force</td>\n",
       "      <td>Army</td>\n",
       "    </tr>\n",
       "    <tr>\n",
       "      <th>1</th>\n",
       "      <td>401415649</td>\n",
       "      <td>2022</td>\n",
       "      <td>10</td>\n",
       "      <td>regular</td>\n",
       "      <td>2022-11-05 09:00:00+00:00</td>\n",
       "      <td>Tulsa</td>\n",
       "      <td>American Athletic</td>\n",
       "      <td></td>\n",
       "      <td>Tulane</td>\n",
       "      <td>American Athletic</td>\n",
       "      <td>...</td>\n",
       "      <td>Over</td>\n",
       "      <td>0.4</td>\n",
       "      <td>[Tulane, Tulsa]</td>\n",
       "      <td>Tulane</td>\n",
       "      <td>Tulsa</td>\n",
       "      <td>66</td>\n",
       "      <td>0.34</td>\n",
       "      <td>0.66</td>\n",
       "      <td>Tulane</td>\n",
       "      <td>Tulsa</td>\n",
       "    </tr>\n",
       "    <tr>\n",
       "      <th>2</th>\n",
       "      <td>401405129</td>\n",
       "      <td>2022</td>\n",
       "      <td>10</td>\n",
       "      <td>regular</td>\n",
       "      <td>2022-11-05 09:00:00+00:00</td>\n",
       "      <td>Northwestern</td>\n",
       "      <td>Big Ten</td>\n",
       "      <td></td>\n",
       "      <td>Ohio State</td>\n",
       "      <td>Big Ten</td>\n",
       "      <td>...</td>\n",
       "      <td>Under</td>\n",
       "      <td>-7.5</td>\n",
       "      <td>[Ohio State, Northwestern]</td>\n",
       "      <td>Ohio State</td>\n",
       "      <td>Northwestern</td>\n",
       "      <td>99</td>\n",
       "      <td>0.01</td>\n",
       "      <td>0.99</td>\n",
       "      <td>Ohio State</td>\n",
       "      <td>Northwestern</td>\n",
       "    </tr>\n",
       "    <tr>\n",
       "      <th>3</th>\n",
       "      <td>401405128</td>\n",
       "      <td>2022</td>\n",
       "      <td>10</td>\n",
       "      <td>regular</td>\n",
       "      <td>2022-11-05 09:00:00+00:00</td>\n",
       "      <td>Nebraska</td>\n",
       "      <td>Big Ten</td>\n",
       "      <td></td>\n",
       "      <td>Minnesota</td>\n",
       "      <td>Big Ten</td>\n",
       "      <td>...</td>\n",
       "      <td>Over</td>\n",
       "      <td>4.1</td>\n",
       "      <td>[Minnesota, Nebraska]</td>\n",
       "      <td>Minnesota</td>\n",
       "      <td>Nebraska</td>\n",
       "      <td>72</td>\n",
       "      <td>0.28</td>\n",
       "      <td>0.72</td>\n",
       "      <td>Minnesota</td>\n",
       "      <td>Nebraska</td>\n",
       "    </tr>\n",
       "    <tr>\n",
       "      <th>4</th>\n",
       "      <td>401405130</td>\n",
       "      <td>2022</td>\n",
       "      <td>10</td>\n",
       "      <td>regular</td>\n",
       "      <td>2022-11-05 09:00:00+00:00</td>\n",
       "      <td>Purdue</td>\n",
       "      <td>Big Ten</td>\n",
       "      <td></td>\n",
       "      <td>Iowa</td>\n",
       "      <td>Big Ten</td>\n",
       "      <td>...</td>\n",
       "      <td>Over</td>\n",
       "      <td>3.1</td>\n",
       "      <td>[Iowa, Purdue]</td>\n",
       "      <td>Iowa</td>\n",
       "      <td>Purdue</td>\n",
       "      <td>51</td>\n",
       "      <td>0.51</td>\n",
       "      <td>0.49</td>\n",
       "      <td>Iowa</td>\n",
       "      <td>Purdue</td>\n",
       "    </tr>\n",
       "  </tbody>\n",
       "</table>\n",
       "<p>5 rows × 87 columns</p>\n",
       "</div>"
      ],
      "text/plain": [
       "          id  season  week season_type                start_date  \\\n",
       "0  401404141    2022    10     regular 2022-11-05 08:30:00+00:00   \n",
       "1  401415649    2022    10     regular 2022-11-05 09:00:00+00:00   \n",
       "2  401405129    2022    10     regular 2022-11-05 09:00:00+00:00   \n",
       "3  401405128    2022    10     regular 2022-11-05 09:00:00+00:00   \n",
       "4  401405130    2022    10     regular 2022-11-05 09:00:00+00:00   \n",
       "\n",
       "      home_team    home_conference home_score   away_team    away_conference  \\\n",
       "0          Army   FBS Independents              Air Force      Mountain West   \n",
       "1         Tulsa  American Athletic                 Tulane  American Athletic   \n",
       "2  Northwestern            Big Ten             Ohio State            Big Ten   \n",
       "3      Nebraska            Big Ten              Minnesota            Big Ten   \n",
       "4        Purdue            Big Ten                   Iowa            Big Ten   \n",
       "\n",
       "   ... O/U pick O/U diff                     Game_v2 away_team_sp  \\\n",
       "0  ...     Over     15.6           [Air Force, Army]    Air Force   \n",
       "1  ...     Over      0.4             [Tulane, Tulsa]       Tulane   \n",
       "2  ...    Under     -7.5  [Ohio State, Northwestern]   Ohio State   \n",
       "3  ...     Over      4.1       [Minnesota, Nebraska]    Minnesota   \n",
       "4  ...     Over      3.1              [Iowa, Purdue]         Iowa   \n",
       "\n",
       "   home_team_sp  win_prob_float  home_win_prob_sp  away_win_prob_sp  \\\n",
       "0          Army              66              0.34              0.66   \n",
       "1         Tulsa              66              0.34              0.66   \n",
       "2  Northwestern              99              0.01              0.99   \n",
       "3      Nebraska              72              0.28              0.72   \n",
       "4        Purdue              51              0.51              0.49   \n",
       "\n",
       "   away_team_sp_v2  home_team_sp_v2  \n",
       "0        Air Force             Army  \n",
       "1           Tulane            Tulsa  \n",
       "2       Ohio State     Northwestern  \n",
       "3        Minnesota         Nebraska  \n",
       "4             Iowa           Purdue  \n",
       "\n",
       "[5 rows x 87 columns]"
      ]
     },
     "execution_count": 74,
     "metadata": {},
     "output_type": "execute_result"
    }
   ],
   "source": [
    "betting_df.head()"
   ]
  },
  {
   "cell_type": "code",
   "execution_count": 58,
   "id": "2ea493e7-724b-4c29-b24e-f179e0744c75",
   "metadata": {},
   "outputs": [],
   "source": [
    "away_bets_df_v2 = away_bets_df\n",
    "home_bets_df_v2 = home_bets_df\n",
    "away_display_cols = ['away_team', 'home_team', 'away_moneyline_final', 'home_spread_final', 'away_win_prob_no_vig_final', 'away_win_prob_espn', \\\n",
    "                'away_win_prob_sp', 'away_elo_prob', 'start_time']\n",
    "home_display_cols = ['home_team', 'away_team', 'home_moneyline_final', 'home_spread_final', 'home_win_prob_no_vig_final', 'home_win_prob_espn', \\\n",
    "                'home_win_prob_sp', 'home_elo_prob', 'start_time']"
   ]
  },
  {
   "cell_type": "code",
   "execution_count": 59,
   "id": "0aa74115-6447-4fc4-b067-392ac212c28a",
   "metadata": {},
   "outputs": [],
   "source": [
    "away_bets_df_v2 = away_bets_df_v2[away_display_cols]\n",
    "away_bets_df_v2 = away_bets_df_v2.rename(columns = {'away_team':'picked_team', \\\n",
    "                                                    'away_moneyline_final':'moneyline', \\\n",
    "                                                    'away_win_prob_no_vig_final':'win_prob_no_vig', \\\n",
    "                                                    'away_win_prob_espn':'win_prob_espn', \\\n",
    "                                                    'away_win_prob_sp':'sp_prob', \\\n",
    "                                                    'away_elo_prob':'elo_prob', \\\n",
    "                                                    'home_spread_final': 'spread',\\\n",
    "                                                    'home_team':'opponent'})"
   ]
  },
  {
   "cell_type": "code",
   "execution_count": 60,
   "id": "3143112f-3df3-46dd-a30e-3ac0975ac4f8",
   "metadata": {},
   "outputs": [],
   "source": [
    "home_bets_df_v2 = home_bets_df_v2[home_display_cols]\n",
    "home_bets_df_v2 = home_bets_df_v2.rename(columns = {'home_team':'picked_team', \\\n",
    "                                                    'home_moneyline_final':'moneyline', \\\n",
    "                                                    'home_win_prob_no_vig_final':'win_prob_no_vig', \\\n",
    "                                                    'home_win_prob_espn':'win_prob_espn', \\\n",
    "                                                    'home_win_prob_sp':'sp_prob', \\\n",
    "                                                    'home_elo_prob':'elo_prob', \\\n",
    "                                                    'home_spread_final': 'spread',\\\n",
    "                                                    'away_team': 'opponent'})"
   ]
  },
  {
   "cell_type": "code",
   "execution_count": 61,
   "id": "6e680a31-8c84-45d1-a8be-99618e044302",
   "metadata": {},
   "outputs": [],
   "source": [
    "picks_df = pd.concat([home_bets_df_v2, away_bets_df_v2])"
   ]
  },
  {
   "cell_type": "code",
   "execution_count": 62,
   "id": "dc2154d8-010e-4a96-9a89-d1435b790041",
   "metadata": {},
   "outputs": [],
   "source": [
    "# export dataframe to csv\n",
    "picks_df.to_csv('./output/' + df_name_prefix + '.picks.csv', index = False)"
   ]
  },
  {
   "cell_type": "markdown",
   "id": "08022670-ac03-488f-a2b9-de7e566ec28c",
   "metadata": {},
   "source": [
    "#### See pick list"
   ]
  },
  {
   "cell_type": "code",
   "execution_count": 63,
   "id": "13af005b-dd97-4f77-8f3f-e66df20bd9b6",
   "metadata": {},
   "outputs": [
    {
     "data": {
      "text/html": [
       "<div>\n",
       "<style scoped>\n",
       "    .dataframe tbody tr th:only-of-type {\n",
       "        vertical-align: middle;\n",
       "    }\n",
       "\n",
       "    .dataframe tbody tr th {\n",
       "        vertical-align: top;\n",
       "    }\n",
       "\n",
       "    .dataframe thead th {\n",
       "        text-align: right;\n",
       "    }\n",
       "</style>\n",
       "<table border=\"1\" class=\"dataframe\">\n",
       "  <thead>\n",
       "    <tr style=\"text-align: right;\">\n",
       "      <th></th>\n",
       "      <th>picked_team</th>\n",
       "      <th>opponent</th>\n",
       "      <th>moneyline</th>\n",
       "      <th>spread</th>\n",
       "      <th>win_prob_no_vig</th>\n",
       "      <th>win_prob_espn</th>\n",
       "      <th>sp_prob</th>\n",
       "      <th>elo_prob</th>\n",
       "      <th>start_time</th>\n",
       "    </tr>\n",
       "  </thead>\n",
       "  <tbody>\n",
       "    <tr>\n",
       "      <th>14</th>\n",
       "      <td>Baylor</td>\n",
       "      <td>Oklahoma</td>\n",
       "      <td>140.0</td>\n",
       "      <td>-3.5</td>\n",
       "      <td>0.400908</td>\n",
       "      <td>0.525</td>\n",
       "      <td>0.40</td>\n",
       "      <td>0.706975</td>\n",
       "      <td>12:00:00</td>\n",
       "    </tr>\n",
       "    <tr>\n",
       "      <th>24</th>\n",
       "      <td>UAB</td>\n",
       "      <td>UT San Antonio</td>\n",
       "      <td>-110.0</td>\n",
       "      <td>0.0</td>\n",
       "      <td>0.500000</td>\n",
       "      <td>0.620</td>\n",
       "      <td>0.54</td>\n",
       "      <td>0.574280</td>\n",
       "      <td>12:30:00</td>\n",
       "    </tr>\n",
       "    <tr>\n",
       "      <th>23</th>\n",
       "      <td>Oklahoma State</td>\n",
       "      <td>Kansas</td>\n",
       "      <td>100.0</td>\n",
       "      <td>-1.0</td>\n",
       "      <td>0.478261</td>\n",
       "      <td>0.542</td>\n",
       "      <td>0.66</td>\n",
       "      <td>0.840723</td>\n",
       "      <td>12:30:00</td>\n",
       "    </tr>\n",
       "    <tr>\n",
       "      <th>25</th>\n",
       "      <td>Syracuse</td>\n",
       "      <td>Pittsburgh</td>\n",
       "      <td>158.0</td>\n",
       "      <td>-4.0</td>\n",
       "      <td>0.371700</td>\n",
       "      <td>0.545</td>\n",
       "      <td>0.47</td>\n",
       "      <td>0.475555</td>\n",
       "      <td>12:30:00</td>\n",
       "    </tr>\n",
       "    <tr>\n",
       "      <th>35</th>\n",
       "      <td>Louisiana</td>\n",
       "      <td>Troy</td>\n",
       "      <td>150.0</td>\n",
       "      <td>4.0</td>\n",
       "      <td>0.384509</td>\n",
       "      <td>0.442</td>\n",
       "      <td>0.50</td>\n",
       "      <td>0.673776</td>\n",
       "      <td>14:00:00</td>\n",
       "    </tr>\n",
       "    <tr>\n",
       "      <th>34</th>\n",
       "      <td>Texas State</td>\n",
       "      <td>Louisiana Monroe</td>\n",
       "      <td>110.0</td>\n",
       "      <td>-1.5</td>\n",
       "      <td>0.457256</td>\n",
       "      <td>0.525</td>\n",
       "      <td>0.60</td>\n",
       "      <td>0.710540</td>\n",
       "      <td>14:00:00</td>\n",
       "    </tr>\n",
       "    <tr>\n",
       "      <th>51</th>\n",
       "      <td>NC State</td>\n",
       "      <td>Wake Forest</td>\n",
       "      <td>158.0</td>\n",
       "      <td>4.0</td>\n",
       "      <td>0.371700</td>\n",
       "      <td>0.588</td>\n",
       "      <td>0.51</td>\n",
       "      <td>0.378703</td>\n",
       "      <td>17:00:00</td>\n",
       "    </tr>\n",
       "  </tbody>\n",
       "</table>\n",
       "</div>"
      ],
      "text/plain": [
       "       picked_team          opponent  moneyline  spread  win_prob_no_vig  \\\n",
       "14          Baylor          Oklahoma      140.0    -3.5         0.400908   \n",
       "24             UAB    UT San Antonio     -110.0     0.0         0.500000   \n",
       "23  Oklahoma State            Kansas      100.0    -1.0         0.478261   \n",
       "25        Syracuse        Pittsburgh      158.0    -4.0         0.371700   \n",
       "35       Louisiana              Troy      150.0     4.0         0.384509   \n",
       "34     Texas State  Louisiana Monroe      110.0    -1.5         0.457256   \n",
       "51        NC State       Wake Forest      158.0     4.0         0.371700   \n",
       "\n",
       "    win_prob_espn  sp_prob  elo_prob start_time  \n",
       "14          0.525     0.40  0.706975   12:00:00  \n",
       "24          0.620     0.54  0.574280   12:30:00  \n",
       "23          0.542     0.66  0.840723   12:30:00  \n",
       "25          0.545     0.47  0.475555   12:30:00  \n",
       "35          0.442     0.50  0.673776   14:00:00  \n",
       "34          0.525     0.60  0.710540   14:00:00  \n",
       "51          0.588     0.51  0.378703   17:00:00  "
      ]
     },
     "execution_count": 63,
     "metadata": {},
     "output_type": "execute_result"
    }
   ],
   "source": [
    "# see new picks in dataframe legs in dataframe in this notebook\n",
    "picks_df.sort_values('start_time')"
   ]
  },
  {
   "cell_type": "markdown",
   "id": "169774c6-9eb3-4747-bd8a-9ed4ae672b13",
   "metadata": {
    "tags": []
   },
   "source": [
    "## Parlay Maker\n",
    "1) Parlay all the above into one parlay. This can be considered a \"100% win bonus\". Wager = \\$2 (minimum for parlay)\n",
    "2) Add some home favorites to parlay parlay 1. See how much the payout will increase with these heavy home favorites. Wager = \\$2 (minimum for parlay)\n",
    "3) Add 1 to 2 \"hail mary\" underdogs to parlay parlay 2. Want <b>realistic</b> underdogs, and ideally at home. These will increase payout exponentially with a minimum increased risk\n",
    "Wager = \\$2 (minimum for parlay)"
   ]
  },
  {
   "cell_type": "markdown",
   "id": "a485ba68-6fe4-4d86-8eda-a949e49e6370",
   "metadata": {
    "tags": []
   },
   "source": [
    "### Parlay 1: Generate the parlay with the above picks"
   ]
  },
  {
   "cell_type": "code",
   "execution_count": 64,
   "id": "41bc55d2-03e9-47e5-91d4-1b397953b5f9",
   "metadata": {},
   "outputs": [
    {
     "name": "stdout",
     "output_type": "stream",
     "text": [
      "Parlay 1:\n",
      "\n",
      "Bet:  $2\n",
      "Number of legs: 7\n",
      "Multiplier:  +320\n",
      "\n",
      "Payout:  $640\n",
      "\n",
      "['UAB', 'Louisiana', 'NC State', 'Baylor', 'Oklahoma State', 'Syracuse', 'Texas State']\n"
     ]
    }
   ],
   "source": [
    "# make a parlay list of moneylines\n",
    "#parlay_list = betting_df[betting_df['home_team'].isin(betting_df_v2['home_team'])]['home_moneyline'].to_list()\n",
    "parlay_list = picks_df['moneyline'].to_list()\n",
    "# save calculated multiplier for the parlay\n",
    "multiplier = int(parlay_multiplier(parlay_list))\n",
    "# save pretty list of teams\n",
    "team_parlay_list = picks_df['picked_team'].to_list()\n",
    "\n",
    "\n",
    "bet = 2\n",
    "payout = bet*multiplier\n",
    "\n",
    "print('Parlay 1:')\n",
    "print()\n",
    "\n",
    "print('Bet: ', \"${:0,.0f}\".format(bet))\n",
    "print('Number of legs: ' + str(len(parlay_list)))\n",
    "print('Multiplier: ', \"+{:0,.0f}\".format(multiplier))\n",
    "print()\n",
    "print('Payout: ', \"${:0,.0f}\".format(payout))\n",
    "\n",
    "print()\n",
    "print(team_parlay_list)"
   ]
  },
  {
   "cell_type": "markdown",
   "id": "95d99ba5-ca10-49f5-8797-ae4ce9695ec0",
   "metadata": {
    "tags": []
   },
   "source": [
    "### Parlay 2: Add home favorites to increase payout <font color = red>(human interaction here)</font>\n",
    "Add a couple home favorites so that the payoput increases.\n",
    "\n",
    "Made a new parlay since it's not 100% these home favorites win. If include with parlay 1, could still lose. Adding the additional payout without much at risk."
   ]
  },
  {
   "cell_type": "markdown",
   "id": "0abd5c2e-6566-444d-8af2-50645e2f263a",
   "metadata": {
    "tags": []
   },
   "source": [
    "#### Explore home favorites to add to parlay \n",
    "\n",
    "See if there are any home favorites I feel confident in winning so that parlay payout increases. Ideally want a game where the home team is not favored by a lot according to sportsbook, but I feel is heavy favorite\n",
    "- The book sees the game being close, but I see it as being a much higher win probability. Example, was Penn State @ Michigan 10/15/2022. Moneyline was -278, but I had it as a lot higher in my head\n",
    "\n",
    "Don't need to add any if don't see anything that adds value to parlay\n",
    "\n",
    "<b>Need to find a quantitative way to do this</b>"
   ]
  },
  {
   "cell_type": "code",
   "execution_count": 65,
   "id": "2fd8bbc1-e081-43a2-9379-05ecd682f022",
   "metadata": {
    "tags": []
   },
   "outputs": [],
   "source": [
    "# get games where home team is favored by more than 21\n",
    "# get games where the home team is not favored based on moneyline\n",
    "betting_df[(betting_df['home_moneyline'] < 0) & \\\n",
    "           (betting_df['spread'] < -6)].sort_values('home_win_prob_no_vig_pretty', ascending = True)[display_cols];"
   ]
  },
  {
   "cell_type": "markdown",
   "id": "3cc086ff-7af4-4dab-92d7-8e63b764cd0e",
   "metadata": {
    "tags": []
   },
   "source": [
    "#### Add home favorites to parlay\n",
    "\n",
    "If there are any potential home favorites to include, then add them the the home_fav_list object. "
   ]
  },
  {
   "cell_type": "code",
   "execution_count": 66,
   "id": "74faa3fe-01ff-479d-9812-1ad32a51d935",
   "metadata": {},
   "outputs": [],
   "source": [
    "# home favorites selections\n",
    "# don't need to add any if don't see anything that adds value to parlay\n",
    "home_fav_list = ['Utah', 'USC', 'Arkansas'] # user input\n",
    "parlay_new_odds_list = betting_df[betting_df['home_team'].isin(home_fav_list)]['home_moneyline_final'].to_list()\n",
    "parlay_list = parlay_list + parlay_new_odds_list\n",
    "\n",
    "# add to pretty list of teams\n",
    "team_parlay_list = team_parlay_list + home_fav_list\n",
    "\n",
    "multiplier = int(parlay_multiplier(parlay_list))"
   ]
  },
  {
   "cell_type": "markdown",
   "id": "73f7adb3-d735-4e71-91ab-644d6c07945e",
   "metadata": {
    "tags": []
   },
   "source": [
    "#### See what the new payout is"
   ]
  },
  {
   "cell_type": "code",
   "execution_count": 67,
   "id": "00cd6a46-e230-4f53-a5ee-af2dbfbe04dc",
   "metadata": {},
   "outputs": [
    {
     "name": "stdout",
     "output_type": "stream",
     "text": [
      "Parlay 2:\n",
      "\n",
      "Bet:  $2\n",
      "Number of legs: 10\n",
      "Multiplier:  +431\n",
      "\n",
      "Odds:  +43,100\n",
      "Payout:  $862\n",
      "\n",
      "['UAB', 'Louisiana', 'NC State', 'Baylor', 'Oklahoma State', 'Syracuse', 'Texas State', 'Utah', 'USC', 'Arkansas']\n"
     ]
    }
   ],
   "source": [
    "bet = 2\n",
    "payout = bet*multiplier\n",
    "\n",
    "print('Parlay 2:')\n",
    "print()\n",
    "\n",
    "print('Bet: ', \"${:0,.0f}\".format(bet))\n",
    "print('Number of legs: ' + str(len(parlay_list)))\n",
    "print('Multiplier: ', \"+{:0,.0f}\".format(multiplier))\n",
    "print()\n",
    "print('Odds: ', \"+{:0,.0f}\".format(multiplier*100))\n",
    "print('Payout: ', \"${:0,.0f}\".format(payout))\n",
    "\n",
    "print()\n",
    "print(team_parlay_list)"
   ]
  },
  {
   "cell_type": "markdown",
   "id": "bd91cf64-1822-4715-ab17-3b88e675d7c1",
   "metadata": {
    "tags": []
   },
   "source": [
    "### Parlay 3: Add 1 to 2 \"Hail Mary\" picks\n",
    "\n",
    "Attempting the chance at a lotto parlay (very high payout on $2 bet). Do this by adding 1 to 2 underdogs so the payout increases.\n",
    "\n",
    "Want to see all of them, but sort by moneyline odds.\n",
    "\n",
    "Possible to select on \"after dark games\" for the opportunity to hedge?"
   ]
  },
  {
   "cell_type": "markdown",
   "id": "4a90cf0b-1c21-46d9-9840-883f848ac758",
   "metadata": {
    "tags": []
   },
   "source": [
    "#### Home Underdogs\n",
    "Get home underdogs, but exclude those included in parlay 1"
   ]
  },
  {
   "cell_type": "code",
   "execution_count": 68,
   "id": "a450fa88-951d-4ed5-940a-9c36f615f5a3",
   "metadata": {},
   "outputs": [],
   "source": [
    "betting_df[(~betting_df['home_team'].isin(team_parlay_list)) & (betting_df['home_moneyline_final']>0)][display_cols].sort_values('home_moneyline_final');"
   ]
  },
  {
   "cell_type": "code",
   "execution_count": 69,
   "id": "bfba650e-94df-45b0-af73-36171a1f7e5a",
   "metadata": {},
   "outputs": [],
   "source": [
    "# home hail mary selections\n",
    "# don't need to add any here if will add in hail mary away list below\n",
    "hail_mary_home_list = ['Notre Dame'] \n",
    "\n",
    "if len(hail_mary_home_list) == 0:\n",
    "    parlay_list = parlay_list\n",
    "    team_parlay_list = team_parlay_list\n",
    "elif len(hail_mary_home_list) > 0:\n",
    "    parlay_new_odds_list = betting_df[betting_df['home_team'].isin(hail_mary_home_list)]['home_moneyline_final'].to_list()\n",
    "    parlay_list = parlay_list + parlay_new_odds_list\n",
    "    team_parlay_list = team_parlay_list + hail_mary_home_list"
   ]
  },
  {
   "cell_type": "markdown",
   "id": "ef67bfd7-0a15-4908-ae73-6a0a6fe05812",
   "metadata": {
    "tags": []
   },
   "source": [
    "#### Away Underdogs"
   ]
  },
  {
   "cell_type": "code",
   "execution_count": 70,
   "id": "ed4ac6ac-d05c-45ca-8df1-9fa56244d621",
   "metadata": {
    "tags": []
   },
   "outputs": [],
   "source": [
    "# colummns to see in this dataframe\n",
    "display_cols = ['start_time','outlet', 'home_team','home_moneyline_final', 'home_win_prob_no_vig_final', \\\n",
    "                'win_loss_home','home_win_%', 'ap_rank_home','coaches_rank_home',\\\n",
    "                'away_team','away_moneyline_final','away_win_prob_no_vig_final', 'win_loss_away', 'away_win_%','ap_rank_away', 'coaches_rank_away',\\\n",
    "                'formatted_spread']\n",
    "betting_df[(betting_df['away_moneyline_final']>0)][display_cols].sort_values('away_moneyline_final');"
   ]
  },
  {
   "cell_type": "code",
   "execution_count": 71,
   "id": "90204c7d-8853-4761-9882-e13d0d1bac1f",
   "metadata": {},
   "outputs": [],
   "source": [
    "# away hail mary selections\n",
    "# don't need to add any here if added in hail mary home list\n",
    "hail_mary_away_list = ['Tennessee']\n",
    "\n",
    "if len(hail_mary_away_list) == 0:\n",
    "    parlay_list = parlay_list\n",
    "    team_parlay_list = team_parlay_list\n",
    "elif len(hail_mary_away_list) > 0:\n",
    "    parlay_new_odds_list = betting_df[betting_df['away_team'].isin(hail_mary_away_list)]['away_moneyline_final'].to_list()\n",
    "    parlay_list = parlay_list + parlay_new_odds_list\n",
    "    team_parlay_list = team_parlay_list + hail_mary_away_list\n",
    "\n",
    "multiplier = int(parlay_multiplier(parlay_list))"
   ]
  },
  {
   "cell_type": "markdown",
   "id": "0245c422-84c7-4393-b711-bf3b0b37144d",
   "metadata": {},
   "source": [
    "#### Get new parlay payout"
   ]
  },
  {
   "cell_type": "code",
   "execution_count": 72,
   "id": "ac1eed4f-c77e-4660-bd38-e9ecd8382a75",
   "metadata": {},
   "outputs": [
    {
     "name": "stdout",
     "output_type": "stream",
     "text": [
      "Parlay 3:\n",
      "\n",
      "Bet:  $2\n",
      "Number of legs: 12\n",
      "Multiplier:  +3,693\n",
      "\n",
      "Odds:  +369,300\n",
      "Payout:  $7,386\n",
      "\n",
      "['UAB', 'Louisiana', 'NC State', 'Baylor', 'Oklahoma State', 'Syracuse', 'Texas State', 'Utah', 'USC', 'Arkansas', 'Notre Dame', 'Tennessee']\n",
      "\n"
     ]
    }
   ],
   "source": [
    "bet = 2\n",
    "payout = bet*multiplier\n",
    "\n",
    "print('Parlay 3:')\n",
    "print()\n",
    "\n",
    "print('Bet: ', \"${:0,.0f}\".format(bet))\n",
    "print('Number of legs: ' + str(len(parlay_list)))\n",
    "print('Multiplier: ', \"+{:0,.0f}\".format(multiplier))\n",
    "print()\n",
    "print('Odds: ', \"+{:0,.0f}\".format(multiplier*100))\n",
    "print('Payout: ', \"${:0,.0f}\".format(payout))\n",
    "\n",
    "print()\n",
    "print(team_parlay_list)\n",
    "print()\n",
    "\n",
    "display_cols = ['start_time','outlet', 'home_team', 'home_moneyline_final', 'home_win_prob_no_vig_final', \\\n",
    "                'away_team', 'away_moneyline_final','away_win_prob_no_vig_final']\n",
    "# output final parlay to csv\n",
    "betting_df[(betting_df['home_team'].isin(team_parlay_list)) | (betting_df['away_team'].isin(team_parlay_list))]\\\n",
    "    [display_cols].to_csv('./output/' + df_name_prefix + '.parlay_final.csv', index = False)\n",
    "betting_df[(betting_df['home_team'].isin(team_parlay_list)) | (betting_df['away_team'].isin(team_parlay_list))][display_cols];"
   ]
  },
  {
   "cell_type": "code",
   "execution_count": null,
   "id": "ff5877c2-7143-4cec-b408-55ed64029042",
   "metadata": {},
   "outputs": [],
   "source": []
  },
  {
   "cell_type": "code",
   "execution_count": null,
   "id": "acead5a1-24bb-4606-a8c0-4eae6b93311a",
   "metadata": {},
   "outputs": [],
   "source": []
  },
  {
   "cell_type": "code",
   "execution_count": null,
   "id": "90312443-36a1-47ca-807f-42d23d76e136",
   "metadata": {},
   "outputs": [],
   "source": []
  },
  {
   "cell_type": "markdown",
   "id": "89f8f596-ea87-43dc-9a9d-69d2e4d22c5a",
   "metadata": {
    "tags": []
   },
   "source": [
    "# Notes from trying to back test\n",
    "\n",
    "1. Records are not in line with week tested. They are only up to current time. If back test need to create new win loss\n",
    "\n"
   ]
  },
  {
   "cell_type": "markdown",
   "id": "457779f8-19d3-4f8b-8533-f9d7b41ef552",
   "metadata": {},
   "source": [
    "#### Get data from ESPN's from pick center"
   ]
  },
  {
   "cell_type": "code",
   "execution_count": null,
   "id": "94f044e5-ca5a-4b18-bc0b-958e6d0c85a3",
   "metadata": {},
   "outputs": [],
   "source": [
    "import requests\n",
    "session = requests.Session()\n",
    "\n",
    "# Create the payload\n",
    "payload = {'email':'re4693go@gmail.com',\n",
    "          'password':'BNg3!@^j4^wz'\n",
    "         }\n",
    "\n",
    "# Post the payload to the site to log in\n",
    "s = session.post(\"https://www.espn.com/login/?returnURL=https://www.espn.com/insider/pickcenter\", data=payload)\n",
    "\n",
    "# Navigate to the next page and scrape the data\n",
    "s = session.get('https://insider.espn.com/insider/pickcenter/ncf/game?gameid=401404103')"
   ]
  },
  {
   "cell_type": "code",
   "execution_count": null,
   "id": "72ff6d65-62d1-469e-a5a3-46264d6563c5",
   "metadata": {
    "tags": []
   },
   "outputs": [],
   "source": []
  },
  {
   "cell_type": "code",
   "execution_count": null,
   "id": "3abf2fd5-449a-4ff5-a60f-44348bc87174",
   "metadata": {
    "tags": []
   },
   "outputs": [],
   "source": []
  },
  {
   "cell_type": "code",
   "execution_count": null,
   "id": "fcf355d6-e9d3-484d-acc1-691fcea47249",
   "metadata": {},
   "outputs": [],
   "source": []
  },
  {
   "cell_type": "code",
   "execution_count": null,
   "id": "7ee352f7-96f4-455b-9f93-4df530f9d281",
   "metadata": {},
   "outputs": [],
   "source": [
    "link = 'https://insider.espn.com/insider/pickcenter/ncf/game?gameid=401404103'"
   ]
  },
  {
   "cell_type": "code",
   "execution_count": null,
   "id": "fdf5ebb1-ce04-463c-a367-e2e783715e6b",
   "metadata": {},
   "outputs": [],
   "source": [
    "page = requests.get(link)\n",
    "soup = BeautifulSoup(page.content, \"html.parser\")"
   ]
  },
  {
   "cell_type": "code",
   "execution_count": null,
   "id": "5f4bf6c6-671b-4beb-b81b-663a53fdfdb1",
   "metadata": {
    "tags": []
   },
   "outputs": [],
   "source": [
    "soup.find_all('div', class_='percent')"
   ]
  },
  {
   "cell_type": "markdown",
   "id": "c3948476-e44d-4118-a0f4-17aacee5b994",
   "metadata": {},
   "source": [
    "#### Validate # of games on espn website vs dataframe"
   ]
  },
  {
   "cell_type": "code",
   "execution_count": null,
   "id": "b5364b11-b516-40d7-a3b8-bd3187ed1864",
   "metadata": {},
   "outputs": [],
   "source": [
    "# check length of dataframe to see if it includes everything\n",
    "# compare against scraped espn scoreboard\n",
    "len(betting_df)"
   ]
  },
  {
   "cell_type": "code",
   "execution_count": null,
   "id": "1e6ddaa8-2d48-4df0-8341-aa7e9dcc9ffb",
   "metadata": {},
   "outputs": [],
   "source": [
    "# 'https://www.espn.com/college-football/schedule/_/week/10/year/2022/seasontype/2'\n",
    "espn_game_num = "
   ]
  },
  {
   "cell_type": "code",
   "execution_count": null,
   "id": "96216b5e-2c43-4fd1-ad30-f21b1d7acd93",
   "metadata": {},
   "outputs": [],
   "source": [
    "'https://www.espn.com/college-football/schedule/_/week/10/year/2022/seasontype/2'\n",
    "scoreboard_url = 'https://www.espn.com/college-football/schedule/_/week/' + str(week_num) + \\\n",
    "    '/year/' + str(year_num) + '/seasontype/2'\n",
    "page = requests.get(scoreboard_url)\n",
    "soup = BeautifulSoup(page.content, \"html.parser\")\n",
    "\n",
    "\n",
    "# use the beautiful soup object to parse\n",
    "#results = soup.find(id='gamepackage-pick-center')\n",
    "# find home team data and add to lists\n",
    "# home team data\n",
    "#home_data = results.find_all('tr', class_='hometeam')"
   ]
  },
  {
   "cell_type": "code",
   "execution_count": null,
   "id": "c5a296af-9f6d-44f5-a19d-95338d02a006",
   "metadata": {},
   "outputs": [],
   "source": []
  },
  {
   "cell_type": "code",
   "execution_count": null,
   "id": "0603e1dd-1a4b-4b47-8a3a-3deb4dcff6fb",
   "metadata": {
    "tags": []
   },
   "outputs": [],
   "source": [
    "day_data = soup.find_all('tr', class_='Table__TR Table__TR--sm Table__even')\n",
    "for i in day_data:\n",
    "    print(i)\n",
    "    print()\n"
   ]
  }
 ],
 "metadata": {
  "kernelspec": {
   "display_name": "Python 3 (ipykernel)",
   "language": "python",
   "name": "python3"
  },
  "language_info": {
   "codemirror_mode": {
    "name": "ipython",
    "version": 3
   },
   "file_extension": ".py",
   "mimetype": "text/x-python",
   "name": "python",
   "nbconvert_exporter": "python",
   "pygments_lexer": "ipython3",
   "version": "3.9.12"
  }
 },
 "nbformat": 4,
 "nbformat_minor": 5
}
